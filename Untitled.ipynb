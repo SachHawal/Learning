{
 "cells": [
  {
   "cell_type": "code",
   "execution_count": 27,
   "id": "84b57969-2ed0-427d-a152-4655087226bc",
   "metadata": {},
   "outputs": [
    {
     "name": "stdout",
     "output_type": "stream",
     "text": [
      "* * * * * "
     ]
    }
   ],
   "source": [
    "i=0\n",
    "for i in range(0,5):\n",
    "    i=i+1\n",
    "    print(\"*\",end=\" \")"
   ]
  },
  {
   "cell_type": "code",
   "execution_count": 1,
   "id": "2612a2d0-d248-49a0-a8a0-bf7b46fc284b",
   "metadata": {},
   "outputs": [
    {
     "ename": "ZeroDivisionError",
     "evalue": "division by zero",
     "output_type": "error",
     "traceback": [
      "\u001b[0;31m---------------------------------------------------------------------------\u001b[0m",
      "\u001b[0;31mZeroDivisionError\u001b[0m                         Traceback (most recent call last)",
      "Cell \u001b[0;32mIn[1], line 1\u001b[0m\n\u001b[0;32m----> 1\u001b[0m \u001b[38;5;241;43m1\u001b[39;49m\u001b[38;5;241;43m/\u001b[39;49m\u001b[38;5;28;43;01mFalse\u001b[39;49;00m\n",
      "\u001b[0;31mZeroDivisionError\u001b[0m: division by zero"
     ]
    }
   ],
   "source": [
    "1/False"
   ]
  },
  {
   "cell_type": "code",
   "execution_count": 5,
   "id": "f63deb36-55fa-47de-bffe-7dd4b628c51c",
   "metadata": {},
   "outputs": [],
   "source": [
    "num1= 23"
   ]
  },
  {
   "cell_type": "code",
   "execution_count": 10,
   "id": "a9c8af5a-ce3e-43bb-b17a-7dfc8a07a714",
   "metadata": {},
   "outputs": [],
   "source": [
    "num2= 44\n",
    "\n",
    "num2= 2+3j\n",
    "\n"
   ]
  },
  {
   "cell_type": "code",
   "execution_count": 9,
   "id": "931b0c1e-e0cd-438e-8b4f-59aa8ee47e47",
   "metadata": {},
   "outputs": [
    {
     "data": {
      "text/plain": [
       "0j"
      ]
     },
     "execution_count": 11,
     "metadata": {},
     "output_type": "execute_result"
    }
   ],
   "source": [
    "num1= num2.imag\n",
    "\n",
    "num2-num1"
   ]
  },
  {
   "cell_type": "code",
   "execution_count": 15,
   "id": "2ba870e5-da7f-40c0-9145-c1084288ac15",
   "metadata": {},
   "outputs": [
    {
     "ename": "SyntaxError",
     "evalue": "invalid character '‘' (U+2018) (484726888.py, line 1)",
     "output_type": "error",
     "traceback": [
      "\u001b[0;36m  Cell \u001b[0;32mIn[15], line 1\u001b[0;36m\u001b[0m\n\u001b[0;31m    str(‘Pwskills’)+ str(1)\u001b[0m\n\u001b[0m        ^\u001b[0m\n\u001b[0;31mSyntaxError\u001b[0m\u001b[0;31m:\u001b[0m invalid character '‘' (U+2018)\n"
     ]
    }
   ],
   "source": [
    "str(‘Pwskills’)+ str(1)"
   ]
  },
  {
   "cell_type": "code",
   "execution_count": 18,
   "id": "76fe4969-057b-49f2-8621-9c453ec86644",
   "metadata": {},
   "outputs": [
    {
     "data": {
      "text/plain": [
       "'Pwskills1'"
      ]
     },
     "execution_count": 18,
     "metadata": {},
     "output_type": "execute_result"
    }
   ],
   "source": [
    "(\"Pwskills\")+str(1)"
   ]
  },
  {
   "cell_type": "code",
   "execution_count": 24,
   "id": "2a71c98f-9760-41a2-89c6-3bfd3df48c00",
   "metadata": {},
   "outputs": [
    {
     "ename": "ValueError",
     "evalue": "invalid literal for int() with base 10: 'pwskills'",
     "output_type": "error",
     "traceback": [
      "\u001b[0;31m---------------------------------------------------------------------------\u001b[0m",
      "\u001b[0;31mValueError\u001b[0m                                Traceback (most recent call last)",
      "Cell \u001b[0;32mIn[24], line 1\u001b[0m\n\u001b[0;32m----> 1\u001b[0m \u001b[38;5;28;43mint\u001b[39;49m\u001b[43m(\u001b[49m\u001b[38;5;124;43m'\u001b[39;49m\u001b[38;5;124;43mpwskills\u001b[39;49m\u001b[38;5;124;43m'\u001b[39;49m\u001b[43m)\u001b[49m \u001b[38;5;241m+\u001b[39m \u001b[38;5;241m1\u001b[39m \n",
      "\u001b[0;31mValueError\u001b[0m: invalid literal for int() with base 10: 'pwskills'"
     ]
    }
   ],
   "source": [
    "int('pwskills') + 1 "
   ]
  },
  {
   "cell_type": "code",
   "execution_count": 21,
   "id": "7ec91d43-c5b8-426e-89ea-a650ecb1004a",
   "metadata": {},
   "outputs": [
    {
     "ename": "SyntaxError",
     "evalue": "invalid character '‘' (U+2018) (4178497420.py, line 1)",
     "output_type": "error",
     "traceback": [
      "\u001b[0;36m  Cell \u001b[0;32mIn[21], line 1\u001b[0;36m\u001b[0m\n\u001b[0;31m    ‘pwskills’ + type(1)\u001b[0m\n\u001b[0m    ^\u001b[0m\n\u001b[0;31mSyntaxError\u001b[0m\u001b[0;31m:\u001b[0m invalid character '‘' (U+2018)\n"
     ]
    }
   ],
   "source": [
    "‘pwskills’ + type(1)"
   ]
  },
  {
   "cell_type": "code",
   "execution_count": 48,
   "id": "8b33c919-09c5-4478-85cf-7966fede5587",
   "metadata": {},
   "outputs": [
    {
     "data": {
      "text/plain": [
       "'pwskills1'"
      ]
     },
     "execution_count": 48,
     "metadata": {},
     "output_type": "execute_result"
    }
   ],
   "source": [
    "\"pwskills\" + str(1)"
   ]
  },
  {
   "cell_type": "code",
   "execution_count": 27,
   "id": "716b5553-54bb-4abe-909e-5d34c7b98b9d",
   "metadata": {},
   "outputs": [
    {
     "ename": "ValueError",
     "evalue": "invalid literal for int() with base 10: 'pwskills'",
     "output_type": "error",
     "traceback": [
      "\u001b[0;31m---------------------------------------------------------------------------\u001b[0m",
      "\u001b[0;31mValueError\u001b[0m                                Traceback (most recent call last)",
      "Cell \u001b[0;32mIn[27], line 1\u001b[0m\n\u001b[0;32m----> 1\u001b[0m \u001b[38;5;28;43mint\u001b[39;49m\u001b[43m(\u001b[49m\u001b[38;5;124;43m'\u001b[39;49m\u001b[38;5;124;43mpwskills\u001b[39;49m\u001b[38;5;124;43m'\u001b[39;49m\u001b[43m)\u001b[49m \u001b[38;5;241m+\u001b[39m\u001b[38;5;241m1\u001b[39m\n",
      "\u001b[0;31mValueError\u001b[0m: invalid literal for int() with base 10: 'pwskills'"
     ]
    }
   ],
   "source": [
    "int('pwskills') +1"
   ]
  },
  {
   "cell_type": "code",
   "execution_count": null,
   "id": "80689df7-6601-4502-8e93-a734932db377",
   "metadata": {},
   "outputs": [],
   "source": [
    "_pw_skills=\"sach\""
   ]
  },
  {
   "cell_type": "code",
   "execution_count": 29,
   "id": "54ceb0b2-e07a-4d1e-b24a-8b5041a01b18",
   "metadata": {},
   "outputs": [
    {
     "ename": "NameError",
     "evalue": "name '_pw_skills' is not defined",
     "output_type": "error",
     "traceback": [
      "\u001b[0;31m---------------------------------------------------------------------------\u001b[0m",
      "\u001b[0;31mNameError\u001b[0m                                 Traceback (most recent call last)",
      "Cell \u001b[0;32mIn[29], line 1\u001b[0m\n\u001b[0;32m----> 1\u001b[0m \u001b[43m_pw_skills\u001b[49m\n",
      "\u001b[0;31mNameError\u001b[0m: name '_pw_skills' is not defined"
     ]
    }
   ],
   "source": [
    "_pw_skills"
   ]
  },
  {
   "cell_type": "code",
   "execution_count": 30,
   "id": "199b3708-0aaf-4a14-9bef-44d559819149",
   "metadata": {},
   "outputs": [
    {
     "ename": "SyntaxError",
     "evalue": "cannot assign to expression here. Maybe you meant '==' instead of '='? (1639636686.py, line 1)",
     "output_type": "error",
     "traceback": [
      "\u001b[0;36m  Cell \u001b[0;32mIn[30], line 1\u001b[0;36m\u001b[0m\n\u001b[0;31m    Pw-skills=\"sach\"\u001b[0m\n\u001b[0m    ^\u001b[0m\n\u001b[0;31mSyntaxError\u001b[0m\u001b[0;31m:\u001b[0m cannot assign to expression here. Maybe you meant '==' instead of '='?\n"
     ]
    }
   ],
   "source": [
    "Pw-skills=\"sach\""
   ]
  },
  {
   "cell_type": "code",
   "execution_count": 31,
   "id": "779b11f8-620a-48fb-a53b-bd3f8c3c0147",
   "metadata": {},
   "outputs": [
    {
     "ename": "NameError",
     "evalue": "name 'Pw' is not defined",
     "output_type": "error",
     "traceback": [
      "\u001b[0;31m---------------------------------------------------------------------------\u001b[0m",
      "\u001b[0;31mNameError\u001b[0m                                 Traceback (most recent call last)",
      "Cell \u001b[0;32mIn[31], line 1\u001b[0m\n\u001b[0;32m----> 1\u001b[0m \u001b[43mPw\u001b[49m\u001b[38;5;241m-\u001b[39mskills\n",
      "\u001b[0;31mNameError\u001b[0m: name 'Pw' is not defined"
     ]
    }
   ],
   "source": [
    "Pw-skills"
   ]
  },
  {
   "cell_type": "code",
   "execution_count": 33,
   "id": "88241d5e-de31-4630-920d-4ef185010d86",
   "metadata": {},
   "outputs": [],
   "source": [
    "Num_100=\"sach\""
   ]
  },
  {
   "cell_type": "code",
   "execution_count": 34,
   "id": "7b726de7-6bc3-46ba-b189-e2a568573a8c",
   "metadata": {},
   "outputs": [
    {
     "data": {
      "text/plain": [
       "'sach'"
      ]
     },
     "execution_count": 34,
     "metadata": {},
     "output_type": "execute_result"
    }
   ],
   "source": [
    "Num_100"
   ]
  },
  {
   "cell_type": "code",
   "execution_count": 35,
   "id": "fb2d87e7-2011-402b-9e35-e526609674b5",
   "metadata": {},
   "outputs": [
    {
     "ename": "SyntaxError",
     "evalue": "cannot assign to expression here. Maybe you meant '==' instead of '='? (1003052473.py, line 1)",
     "output_type": "error",
     "traceback": [
      "\u001b[0;36m  Cell \u001b[0;32mIn[35], line 1\u001b[0;36m\u001b[0m\n\u001b[0;31m    20%_num=\"sach\"\u001b[0m\n\u001b[0m    ^\u001b[0m\n\u001b[0;31mSyntaxError\u001b[0m\u001b[0;31m:\u001b[0m cannot assign to expression here. Maybe you meant '==' instead of '='?\n"
     ]
    }
   ],
   "source": [
    "20%_num=\"sach\""
   ]
  },
  {
   "cell_type": "code",
   "execution_count": 36,
   "id": "90d2e336-5ea0-4436-a6b3-516b1f853af6",
   "metadata": {},
   "outputs": [
    {
     "ename": "NameError",
     "evalue": "name '_num' is not defined",
     "output_type": "error",
     "traceback": [
      "\u001b[0;31m---------------------------------------------------------------------------\u001b[0m",
      "\u001b[0;31mNameError\u001b[0m                                 Traceback (most recent call last)",
      "Cell \u001b[0;32mIn[36], line 1\u001b[0m\n\u001b[0;32m----> 1\u001b[0m \u001b[38;5;241m20\u001b[39m\u001b[38;5;241m%\u001b[39m\u001b[43m_num\u001b[49m\n",
      "\u001b[0;31mNameError\u001b[0m: name '_num' is not defined"
     ]
    }
   ],
   "source": [
    "20%_num"
   ]
  },
  {
   "cell_type": "code",
   "execution_count": 37,
   "id": "5b404755-d375-441a-a846-e2e0a52f46ea",
   "metadata": {},
   "outputs": [],
   "source": [
    "_sach_hawal=\"sach\""
   ]
  },
  {
   "cell_type": "code",
   "execution_count": 38,
   "id": "6844046d-13f9-4b1d-a824-17ae6ad49ad6",
   "metadata": {},
   "outputs": [
    {
     "data": {
      "text/plain": [
       "'sach'"
      ]
     },
     "execution_count": 38,
     "metadata": {},
     "output_type": "execute_result"
    }
   ],
   "source": [
    "_sach_hawal"
   ]
  },
  {
   "cell_type": "code",
   "execution_count": 39,
   "id": "4c06befa-d2d1-4fc6-9737-e5020b3ce70f",
   "metadata": {},
   "outputs": [],
   "source": [
    "_pw_skills=\"sach\""
   ]
  },
  {
   "cell_type": "code",
   "execution_count": 40,
   "id": "af2fc573-6869-4cd0-8512-8a97a39870f6",
   "metadata": {},
   "outputs": [
    {
     "data": {
      "text/plain": [
       "'sach'"
      ]
     },
     "execution_count": 40,
     "metadata": {},
     "output_type": "execute_result"
    }
   ],
   "source": [
    "_pw_skills"
   ]
  },
  {
   "cell_type": "code",
   "execution_count": 41,
   "id": "3f08f319-65dc-49a7-8240-781192d42790",
   "metadata": {},
   "outputs": [
    {
     "ename": "SyntaxError",
     "evalue": "cannot assign to expression here. Maybe you meant '==' instead of '='? (1639636686.py, line 1)",
     "output_type": "error",
     "traceback": [
      "\u001b[0;36m  Cell \u001b[0;32mIn[41], line 1\u001b[0;36m\u001b[0m\n\u001b[0;31m    Pw-skills=\"sach\"\u001b[0m\n\u001b[0m    ^\u001b[0m\n\u001b[0;31mSyntaxError\u001b[0m\u001b[0;31m:\u001b[0m cannot assign to expression here. Maybe you meant '==' instead of '='?\n"
     ]
    }
   ],
   "source": [
    "Pw-skills=\"sach\""
   ]
  },
  {
   "cell_type": "code",
   "execution_count": 42,
   "id": "a58eb365-88c5-47d4-89bd-0c0173823187",
   "metadata": {},
   "outputs": [
    {
     "data": {
      "text/plain": [
       "'kjsfkddddddddddddddddddddddddddddddddddddddddddddddddddddddddddddddddddddddddddddddddddddddddddddddddddddddddd\\nfdsjhdsfaaaaaaajlkjsdljfdsjf\\ndfhsdhfsdhhsdh'"
      ]
     },
     "execution_count": 42,
     "metadata": {},
     "output_type": "execute_result"
    }
   ],
   "source": [
    "'''kjsfkddddddddddddddddddddddddddddddddddddddddddddddddddddddddddddddddddddddddddddddddddddddddddddddddddddddddd\n",
    "fdsjhdsfaaaaaaajlkjsdljfdsjf\n",
    "dfhsdhfsdhhsdh'''"
   ]
  },
  {
   "cell_type": "code",
   "execution_count": 44,
   "id": "8d3006cb-6de4-414a-afc1-c1da16124bb3",
   "metadata": {},
   "outputs": [
    {
     "ename": "SyntaxError",
     "evalue": "invalid character '‘' (U+2018) (2278989848.py, line 3)",
     "output_type": "error",
     "traceback": [
      "\u001b[0;36m  Cell \u001b[0;32mIn[44], line 3\u001b[0;36m\u001b[0m\n\u001b[0;31m    Name[0] = ‘P’\u001b[0m\n\u001b[0m              ^\u001b[0m\n\u001b[0;31mSyntaxError\u001b[0m\u001b[0;31m:\u001b[0m invalid character '‘' (U+2018)\n"
     ]
    }
   ],
   "source": [
    "Name = \"pwskills\"\n",
    "\n",
    "Name[0] = ‘P’"
   ]
  },
  {
   "cell_type": "code",
   "execution_count": 46,
   "id": "a0df6386-d78c-4b53-914d-6ca5789d5e76",
   "metadata": {},
   "outputs": [
    {
     "data": {
      "text/plain": [
       "True"
      ]
     },
     "execution_count": 46,
     "metadata": {},
     "output_type": "execute_result"
    }
   ],
   "source": [
    "'pwskills'.upper().lower().isalnum()"
   ]
  },
  {
   "cell_type": "code",
   "execution_count": 47,
   "id": "4a4a900d-9220-4c6e-b2b7-ce59172aab49",
   "metadata": {},
   "outputs": [
    {
     "data": {
      "text/plain": [
       "(-1+3j)"
      ]
     },
     "execution_count": 47,
     "metadata": {},
     "output_type": "execute_result"
    }
   ],
   "source": [
    "num1= 23\n",
    "\n",
    "num2= 44\n",
    "\n",
    "num2= 2+3j\n",
    "\n",
    "num1= num2.imag\n",
    "\n",
    "num2-num1"
   ]
  },
  {
   "cell_type": "code",
   "execution_count": 49,
   "id": "1f390e2a-48b3-4e22-b37a-531112d7f4eb",
   "metadata": {},
   "outputs": [
    {
     "ename": "SyntaxError",
     "evalue": "incomplete input (3515459852.py, line 2)",
     "output_type": "error",
     "traceback": [
      "\u001b[0;36m  Cell \u001b[0;32mIn[49], line 2\u001b[0;36m\u001b[0m\n\u001b[0;31m    for i in s:\u001b[0m\n\u001b[0m               ^\u001b[0m\n\u001b[0;31mSyntaxError\u001b[0m\u001b[0;31m:\u001b[0m incomplete input\n"
     ]
    }
   ],
   "source": [
    "s=2546554465465211\n",
    "for i in s:"
   ]
  },
  {
   "cell_type": "code",
   "execution_count": 1,
   "id": "533a238b-751e-43d9-b0bc-6dc8824e72f7",
   "metadata": {},
   "outputs": [
    {
     "name": "stdout",
     "output_type": "stream",
     "text": [
      "PwSkills PwSkills "
     ]
    }
   ],
   "source": [
    "for course in ['Data Science Masters', 'ML', 'data science masters', 'DL']:\n",
    "\n",
    "    if len(course)!= 2:\n",
    "\n",
    "        print('PwSkills' , end=' ')"
   ]
  },
  {
   "cell_type": "code",
   "execution_count": 21,
   "id": "5e0b9bce-93b1-4c14-b83c-58d2a7cda09b",
   "metadata": {},
   "outputs": [
    {
     "name": "stdout",
     "output_type": "stream",
     "text": [
      "105\n"
     ]
    }
   ],
   "source": [
    "sum = 0\n",
    "\n",
    "for i in range(1,100):\n",
    "\n",
    "    sum += i\n",
    "\n",
    "    if sum > 100:\n",
    "\n",
    "        break\n",
    "\n",
    "print(sum)"
   ]
  },
  {
   "cell_type": "code",
   "execution_count": 20,
   "id": "03f434ac-7c8a-48e3-b5c0-0ce3cedd90f5",
   "metadata": {},
   "outputs": [
    {
     "data": {
      "text/plain": [
       "0"
      ]
     },
     "execution_count": 20,
     "metadata": {},
     "output_type": "execute_result"
    }
   ],
   "source": [
    "sum = 0\n",
    "for i in range(1,10):\n",
    "    sum + i\n",
    "sum"
   ]
  },
  {
   "cell_type": "code",
   "execution_count": null,
   "id": "cd80c96e-fecb-4bed-acc1-37aa930788ba",
   "metadata": {},
   "outputs": [],
   "source": [
    "i=0\n",
    "\n",
    "while i< 1:\n",
    "\n",
    "    # print('pwskills')"
   ]
  },
  {
   "cell_type": "code",
   "execution_count": 23,
   "id": "a0683382-f59d-439a-a3ea-d18ac9154099",
   "metadata": {},
   "outputs": [
    {
     "ename": "NameError",
     "evalue": "name 'count' is not defined",
     "output_type": "error",
     "traceback": [
      "\u001b[0;31m---------------------------------------------------------------------------\u001b[0m",
      "\u001b[0;31mNameError\u001b[0m                                 Traceback (most recent call last)",
      "Cell \u001b[0;32mIn[23], line 11\u001b[0m\n\u001b[1;32m      7\u001b[0m     \u001b[38;5;28msum\u001b[39m \u001b[38;5;241m+\u001b[39m\u001b[38;5;241m=\u001b[39m num\n\u001b[1;32m      9\u001b[0m     num \u001b[38;5;241m+\u001b[39m\u001b[38;5;241m=\u001b[39m \u001b[38;5;241m2\u001b[39m\n\u001b[0;32m---> 11\u001b[0m     count\u001b[38;5;241m+\u001b[39m\u001b[38;5;241m=\u001b[39m\u001b[38;5;241m1\u001b[39m\n\u001b[1;32m     13\u001b[0m \u001b[38;5;28mprint\u001b[39m(\u001b[38;5;28msum\u001b[39m)\n",
      "\u001b[0;31mNameError\u001b[0m: name 'count' is not defined"
     ]
    }
   ],
   "source": [
    "num = 2\n",
    "\n",
    "sum = 0\n",
    "\n",
    "while num <=20:\n",
    "\n",
    "    sum += num\n",
    "\n",
    "    num += 2\n",
    "\n",
    "    count+=1\n",
    "\n",
    "print(sum)"
   ]
  },
  {
   "cell_type": "code",
   "execution_count": 24,
   "id": "118dc2d2-0079-4bbc-a75f-ffc84ae7557a",
   "metadata": {},
   "outputs": [
    {
     "name": "stdout",
     "output_type": "stream",
     "text": [
      "True\n"
     ]
    }
   ],
   "source": [
    "for i in 'Pwskills':\n",
    "\n",
    "    if i.lower() in ['a', 'e', 'i', 'o', 'u']:\n",
    "\n",
    "        print(True)"
   ]
  },
  {
   "cell_type": "code",
   "execution_count": 1,
   "id": "9b0d1a60-b203-4f2f-aea1-34e0c6540197",
   "metadata": {},
   "outputs": [
    {
     "name": "stdout",
     "output_type": "stream",
     "text": [
      "7\n"
     ]
    }
   ],
   "source": [
    "num1, num2 = [1,2,3,4,], [5,6,7,8]\n",
    "num = [num1, num2]\n",
    "print(num[1][2])"
   ]
  },
  {
   "cell_type": "code",
   "execution_count": 28,
   "id": "d5e85054-8f69-4922-b5d1-e95ca1a6b351",
   "metadata": {},
   "outputs": [
    {
     "name": "stdout",
     "output_type": "stream",
     "text": [
      "* \n",
      "* * \n",
      "* * * \n",
      "* * * * \n",
      "* * * * * \n"
     ]
    }
   ],
   "source": [
    "rows=5\n",
    "for i in range(0,rows):\n",
    "    for j in range(0,i+1):\n",
    "        print(\"*\",end=\" \")\n",
    "    print(\"\\r\")  \n",
    "        "
   ]
  },
  {
   "cell_type": "code",
   "execution_count": 29,
   "id": "2d691372-8c40-46fe-852a-379dd9e42fa1",
   "metadata": {},
   "outputs": [
    {
     "name": "stdout",
     "output_type": "stream",
     "text": [
      "* * * * * \n",
      "* * * * * \n",
      "* * * * * \n",
      "* * * * * \n",
      "* * * * * \n"
     ]
    }
   ],
   "source": [
    "rows=5\n",
    "for i in range(0,rows):\n",
    "    for j in range(0,5):\n",
    "        print(\"*\",end=\" \")\n",
    "    print(\"\\r\") "
   ]
  },
  {
   "cell_type": "code",
   "execution_count": 32,
   "id": "c9f28c91-84c4-4dd4-88f7-f97e7b3c92e3",
   "metadata": {},
   "outputs": [
    {
     "ename": "SyntaxError",
     "evalue": "incomplete input (766184312.py, line 4)",
     "output_type": "error",
     "traceback": [
      "\u001b[0;36m  Cell \u001b[0;32mIn[32], line 4\u001b[0;36m\u001b[0m\n\u001b[0;31m    for j in range(0,5):\u001b[0m\n\u001b[0m                        ^\u001b[0m\n\u001b[0;31mSyntaxError\u001b[0m\u001b[0;31m:\u001b[0m incomplete input\n"
     ]
    }
   ],
   "source": [
    "rows=5\n",
    "for i in range(0,rows):\n",
    "    print(\"*\",end=\" \")\n",
    "    for j in range(0,5):"
   ]
  },
  {
   "cell_type": "code",
   "execution_count": 10,
   "id": "4a8d3942-b53f-4c55-acd8-dab45d0e81b9",
   "metadata": {},
   "outputs": [],
   "source": [
    "def check(mystring):\n",
    "    return \"sky\" in mystring\n",
    "\n",
    "a=check(\"Sky is blue\")"
   ]
  },
  {
   "cell_type": "code",
   "execution_count": 11,
   "id": "24cc7dec-e1b1-49b9-b9c5-97cbab6f1ec8",
   "metadata": {},
   "outputs": [
    {
     "data": {
      "text/plain": [
       "False"
      ]
     },
     "execution_count": 11,
     "metadata": {},
     "output_type": "execute_result"
    }
   ],
   "source": [
    "a"
   ]
  },
  {
   "cell_type": "code",
   "execution_count": null,
   "id": "c5c7c0f6-e20e-44a5-ba8a-ec9bab0e709a",
   "metadata": {},
   "outputs": [],
   "source": []
  }
 ],
 "metadata": {
  "kernelspec": {
   "display_name": "Python 3 (ipykernel)",
   "language": "python",
   "name": "python3"
  },
  "language_info": {
   "codemirror_mode": {
    "name": "ipython",
    "version": 3
   },
   "file_extension": ".py",
   "mimetype": "text/x-python",
   "name": "python",
   "nbconvert_exporter": "python",
   "pygments_lexer": "ipython3",
   "version": "3.10.8"
  }
 },
 "nbformat": 4,
 "nbformat_minor": 5
}
