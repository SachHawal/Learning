{
 "cells": [
  {
   "cell_type": "code",
   "execution_count": 23,
   "id": "1abfa607-b119-45ff-a94e-0c6bb120e766",
   "metadata": {},
   "outputs": [],
   "source": [
    "import threading"
   ]
  },
  {
   "cell_type": "code",
   "execution_count": 48,
   "id": "af41a532-3103-4ba8-87b2-cbff6a3d85e8",
   "metadata": {},
   "outputs": [],
   "source": [
    "def test(id):\n",
    "    print(\"program start {} \".format(id))"
   ]
  },
  {
   "cell_type": "code",
   "execution_count": 49,
   "id": "9ff8d28a-6c9d-48b9-8ac0-5a29ea8c8753",
   "metadata": {},
   "outputs": [
    {
     "name": "stdout",
     "output_type": "stream",
     "text": [
      "program start 58 \n"
     ]
    }
   ],
   "source": [
    "test(58)"
   ]
  },
  {
   "cell_type": "code",
   "execution_count": 65,
   "id": "6c4a5f87-78fb-4cf2-a8ba-383e6842eeea",
   "metadata": {},
   "outputs": [],
   "source": [
    "thread =[threading.Thread(target=test,args=(i,)) for i in range(10)]"
   ]
  },
  {
   "cell_type": "code",
   "execution_count": 67,
   "id": "cfb22173-d689-4667-9905-7ca5aaed8ac4",
   "metadata": {},
   "outputs": [
    {
     "name": "stdout",
     "output_type": "stream",
     "text": [
      "program start 0 \n",
      "program start 1 \n",
      "program start 2 \n",
      "program start 3 \n",
      "program start 4 \n",
      "program start 5 \n",
      "program start 6 \n",
      "program start 7 \n",
      "program start 8 \n",
      "program start 9 \n"
     ]
    }
   ],
   "source": [
    "for t in thread :\n",
    "    t.start()"
   ]
  },
  {
   "cell_type": "code",
   "execution_count": 68,
   "id": "c9640f41-c347-4f8c-8198-677c76529ed7",
   "metadata": {},
   "outputs": [
    {
     "data": {
      "text/plain": [
       "[<Thread(Thread-115 (test), stopped 140302312515136)>,\n",
       " <Thread(Thread-116 (test), stopped 140302312515136)>,\n",
       " <Thread(Thread-117 (test), stopped 140302312515136)>,\n",
       " <Thread(Thread-118 (test), stopped 140302312515136)>,\n",
       " <Thread(Thread-119 (test), stopped 140302312515136)>,\n",
       " <Thread(Thread-120 (test), stopped 140302312515136)>,\n",
       " <Thread(Thread-121 (test), stopped 140302312515136)>,\n",
       " <Thread(Thread-122 (test), stopped 140302312515136)>,\n",
       " <Thread(Thread-123 (test), stopped 140302312515136)>,\n",
       " <Thread(Thread-124 (test), stopped 140302312515136)>]"
      ]
     },
     "execution_count": 68,
     "metadata": {},
     "output_type": "execute_result"
    }
   ],
   "source": [
    "thread\n"
   ]
  },
  {
   "cell_type": "code",
   "execution_count": 69,
   "id": "8d2c9e71-c310-4d6b-8775-b0eb8e348794",
   "metadata": {},
   "outputs": [
    {
     "data": {
      "text/plain": [
       "140303229134400"
      ]
     },
     "execution_count": 69,
     "metadata": {},
     "output_type": "execute_result"
    }
   ],
   "source": [
    "id(thread)"
   ]
  },
  {
   "cell_type": "code",
   "execution_count": null,
   "id": "e9b0ccec-a52f-427e-b9d5-3e427ec36279",
   "metadata": {},
   "outputs": [],
   "source": []
  }
 ],
 "metadata": {
  "kernelspec": {
   "display_name": "Python 3 (ipykernel)",
   "language": "python",
   "name": "python3"
  },
  "language_info": {
   "codemirror_mode": {
    "name": "ipython",
    "version": 3
   },
   "file_extension": ".py",
   "mimetype": "text/x-python",
   "name": "python",
   "nbconvert_exporter": "python",
   "pygments_lexer": "ipython3",
   "version": "3.10.8"
  }
 },
 "nbformat": 4,
 "nbformat_minor": 5
}
