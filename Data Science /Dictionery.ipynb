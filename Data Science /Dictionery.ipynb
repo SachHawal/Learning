{
 "cells": [
  {
   "cell_type": "code",
   "execution_count": 5,
   "id": "9019b5b9-00fa-4397-bb80-d916c900eb36",
   "metadata": {},
   "outputs": [],
   "source": [
    "my_dict={'sach':'name','age':23}"
   ]
  },
  {
   "cell_type": "code",
   "execution_count": 6,
   "id": "51a8d3df-71f5-45b6-b953-1b82b028dae9",
   "metadata": {},
   "outputs": [
    {
     "data": {
      "text/plain": [
       "{'sach': 'name', 'age': 23}"
      ]
     },
     "execution_count": 6,
     "metadata": {},
     "output_type": "execute_result"
    }
   ],
   "source": [
    "my_dect\n"
   ]
  },
  {
   "cell_type": "code",
   "execution_count": 7,
   "id": "fe3d306c-3da8-4053-be20-71ec6e679935",
   "metadata": {},
   "outputs": [
    {
     "name": "stdout",
     "output_type": "stream",
     "text": [
      "\u001b[H\u001b[2J"
     ]
    }
   ],
   "source": [
    "%clear"
   ]
  },
  {
   "cell_type": "code",
   "execution_count": 8,
   "id": "d980f0f7-e61d-4ee4-9592-7e1ec0153f68",
   "metadata": {},
   "outputs": [
    {
     "data": {
      "text/plain": [
       "{'sach': 'name', 'age': 23}"
      ]
     },
     "execution_count": 8,
     "metadata": {},
     "output_type": "execute_result"
    }
   ],
   "source": [
    "my_dict"
   ]
  },
  {
   "cell_type": "code",
   "execution_count": 10,
   "id": "2351d024-76e0-46f1-a4ed-848729345949",
   "metadata": {},
   "outputs": [],
   "source": [
    "my_dict.clear()"
   ]
  },
  {
   "cell_type": "code",
   "execution_count": 11,
   "id": "2d665970-df3f-40e1-aa6b-c549c2368d0f",
   "metadata": {},
   "outputs": [
    {
     "data": {
      "text/plain": [
       "{}"
      ]
     },
     "execution_count": 11,
     "metadata": {},
     "output_type": "execute_result"
    }
   ],
   "source": [
    "my_dict"
   ]
  },
  {
   "cell_type": "code",
   "execution_count": 26,
   "id": "523c3b37-3353-483f-8b24-c29b28801809",
   "metadata": {},
   "outputs": [],
   "source": [
    "#Copy() Methods\n",
    "my_dict={'sach':'name','age':23}"
   ]
  },
  {
   "cell_type": "code",
   "execution_count": 22,
   "id": "10e3f6ba-18ac-4b73-9592-5e26fcd0a79a",
   "metadata": {},
   "outputs": [],
   "source": [
    "new_dict=my_dict.copy()"
   ]
  },
  {
   "cell_type": "code",
   "execution_count": 23,
   "id": "37b89d7f-520d-4a24-9e62-b1dc0be526f3",
   "metadata": {},
   "outputs": [],
   "source": [
    "new_dict['age']=56"
   ]
  },
  {
   "cell_type": "code",
   "execution_count": 24,
   "id": "864fc52a-3424-4ff2-9f2a-7cf0a046ed83",
   "metadata": {},
   "outputs": [
    {
     "data": {
      "text/plain": [
       "{'sach': 'name', 'age': 23}"
      ]
     },
     "execution_count": 24,
     "metadata": {},
     "output_type": "execute_result"
    }
   ],
   "source": [
    "my_dict"
   ]
  },
  {
   "cell_type": "code",
   "execution_count": 25,
   "id": "480b27f9-23a1-431a-8aa2-74897c0c1951",
   "metadata": {},
   "outputs": [
    {
     "data": {
      "text/plain": [
       "{'sach': 'name', 'age': 56}"
      ]
     },
     "execution_count": 25,
     "metadata": {},
     "output_type": "execute_result"
    }
   ],
   "source": [
    "new_dict"
   ]
  },
  {
   "cell_type": "code",
   "execution_count": 61,
   "id": "2c6f235f-39af-4a5e-85c8-829a9f7ba9a1",
   "metadata": {},
   "outputs": [
    {
     "name": "stdout",
     "output_type": "stream",
     "text": [
      "23\n"
     ]
    }
   ],
   "source": [
    "#GET() Methods\n",
    "my_dict1={'sach':'name','age':23}\n",
    "age=my_dict1.get('age')\n",
    "print(age)"
   ]
  },
  {
   "cell_type": "code",
   "execution_count": 62,
   "id": "7cbfe00b-516e-4117-826c-8122f8e4ff3e",
   "metadata": {},
   "outputs": [
    {
     "data": {
      "text/plain": [
       "{'sach': 'its a my name', 'age': 23}"
      ]
     },
     "execution_count": 62,
     "metadata": {},
     "output_type": "execute_result"
    }
   ],
   "source": [
    "my_dict1['sach']='its a my name'\n",
    "my_dict\n"
   ]
  },
  {
   "cell_type": "code",
   "execution_count": 63,
   "id": "9d6efdf5-1403-4243-ad3e-2957adf493e4",
   "metadata": {},
   "outputs": [],
   "source": [
    "age=my_dict1.get('name')"
   ]
  },
  {
   "cell_type": "code",
   "execution_count": 64,
   "id": "c965a972-42bf-415e-a874-c3d8646cc4d8",
   "metadata": {},
   "outputs": [
    {
     "name": "stdout",
     "output_type": "stream",
     "text": [
      "None\n"
     ]
    }
   ],
   "source": [
    "print(age)"
   ]
  },
  {
   "cell_type": "code",
   "execution_count": 65,
   "id": "16c797f3-a738-4580-8ebe-f81f16bbf5c0",
   "metadata": {},
   "outputs": [],
   "source": [
    "occu=my_dict1.get('occupation','unemployed')"
   ]
  },
  {
   "cell_type": "code",
   "execution_count": 66,
   "id": "f310d299-50c3-4d1b-a636-409cf8ee8a7c",
   "metadata": {},
   "outputs": [
    {
     "data": {
      "text/plain": [
       "'unemployed'"
      ]
     },
     "execution_count": 66,
     "metadata": {},
     "output_type": "execute_result"
    }
   ],
   "source": [
    "occu"
   ]
  },
  {
   "cell_type": "code",
   "execution_count": 67,
   "id": "adc027e2-7b0d-4842-8587-346037305906",
   "metadata": {},
   "outputs": [],
   "source": [
    "my_dict1.get('occupation')"
   ]
  },
  {
   "cell_type": "code",
   "execution_count": 68,
   "id": "c63f0e49-41eb-4ce4-a319-8a7aa35441b2",
   "metadata": {},
   "outputs": [
    {
     "data": {
      "text/plain": [
       "{'sach': 'its a my name', 'age': 23}"
      ]
     },
     "execution_count": 68,
     "metadata": {},
     "output_type": "execute_result"
    }
   ],
   "source": [
    "my_dict1"
   ]
  },
  {
   "cell_type": "code",
   "execution_count": 70,
   "id": "6e4266aa-de0c-40bc-a07a-565c8c9d098a",
   "metadata": {},
   "outputs": [
    {
     "data": {
      "text/plain": [
       "{'sach': 'name', 'age': 23, 'gender': 'Male'}"
      ]
     },
     "execution_count": 70,
     "metadata": {},
     "output_type": "execute_result"
    }
   ],
   "source": [
    "#Itmes()\n",
    "my_dict2={'sach':'name','age':23,'gender':'Male'}\n",
    "my_dict2"
   ]
  },
  {
   "cell_type": "code",
   "execution_count": 71,
   "id": "a92f2682-baf6-45b4-8352-3caa9547ab01",
   "metadata": {},
   "outputs": [],
   "source": [
    "item=my_dict.items()"
   ]
  },
  {
   "cell_type": "code",
   "execution_count": 72,
   "id": "2eba85ee-181f-429e-aa86-1d90b61d43d1",
   "metadata": {},
   "outputs": [
    {
     "data": {
      "text/plain": [
       "dict_items([('sach', 'its a my name'), ('age', 23)])"
      ]
     },
     "execution_count": 72,
     "metadata": {},
     "output_type": "execute_result"
    }
   ],
   "source": [
    "item"
   ]
  },
  {
   "cell_type": "code",
   "execution_count": 73,
   "id": "bdc2c17c-0f92-4c60-bedd-a535be5a1818",
   "metadata": {},
   "outputs": [
    {
     "name": "stdout",
     "output_type": "stream",
     "text": [
      "dict_items([('sach', 'its a my name'), ('age', 23)])\n"
     ]
    }
   ],
   "source": [
    "print(item)"
   ]
  },
  {
   "cell_type": "code",
   "execution_count": 74,
   "id": "f11c0132-f857-4fdd-9323-d64f83d675ef",
   "metadata": {},
   "outputs": [
    {
     "data": {
      "text/plain": [
       "[('sach', 'its a my name'), ('age', 23)]"
      ]
     },
     "execution_count": 74,
     "metadata": {},
     "output_type": "execute_result"
    }
   ],
   "source": [
    "list(item)"
   ]
  },
  {
   "cell_type": "code",
   "execution_count": 82,
   "id": "bd618fda-07b3-492b-8b66-b32ab1f94fe2",
   "metadata": {},
   "outputs": [],
   "source": [
    "#Keys()\n",
    "my_dict3={'sach':'name','age':23,'gender':'Male','blood':'O+'}\n",
    "keys=my_dict3.keys()"
   ]
  },
  {
   "cell_type": "code",
   "execution_count": 85,
   "id": "16dad21d-ae73-4a51-8f37-b439ac0b4ac5",
   "metadata": {},
   "outputs": [
    {
     "data": {
      "text/plain": [
       "dict_keys(['sach', 'age', 'gender', 'blood'])"
      ]
     },
     "execution_count": 85,
     "metadata": {},
     "output_type": "execute_result"
    }
   ],
   "source": [
    "keys"
   ]
  },
  {
   "cell_type": "code",
   "execution_count": null,
   "id": "4b626feb-2dd0-4e5e-be9a-6454a9a9480b",
   "metadata": {},
   "outputs": [],
   "source": []
  }
 ],
 "metadata": {
  "kernelspec": {
   "display_name": "Python 3 (ipykernel)",
   "language": "python",
   "name": "python3"
  },
  "language_info": {
   "codemirror_mode": {
    "name": "ipython",
    "version": 3
   },
   "file_extension": ".py",
   "mimetype": "text/x-python",
   "name": "python",
   "nbconvert_exporter": "python",
   "pygments_lexer": "ipython3",
   "version": "3.10.8"
  }
 },
 "nbformat": 4,
 "nbformat_minor": 5
}
