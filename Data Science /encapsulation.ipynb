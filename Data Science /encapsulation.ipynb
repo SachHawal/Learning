{
 "cells": [
  {
   "cell_type": "code",
   "execution_count": 1,
   "id": "f781c8b0-5542-4662-bd61-a4a605af11ab",
   "metadata": {},
   "outputs": [],
   "source": [
    "class test():\n",
    "    def __init__(self,a,b):\n",
    "        self.a=a\n",
    "        self.b=b"
   ]
  },
  {
   "cell_type": "code",
   "execution_count": 5,
   "id": "659a0bc4-9188-44f3-a6a8-3d4b6fc8ce1e",
   "metadata": {},
   "outputs": [],
   "source": [
    "t=test(23,34)"
   ]
  },
  {
   "cell_type": "code",
   "execution_count": 11,
   "id": "f485da16-b850-4225-b737-82de91203a26",
   "metadata": {},
   "outputs": [
    {
     "data": {
      "text/plain": [
       "23"
      ]
     },
     "execution_count": 11,
     "metadata": {},
     "output_type": "execute_result"
    }
   ],
   "source": [
    "t.a"
   ]
  },
  {
   "cell_type": "code",
   "execution_count": 7,
   "id": "3ecba967-1c8d-4384-a089-62e97f7422c8",
   "metadata": {},
   "outputs": [
    {
     "data": {
      "text/plain": [
       "34"
      ]
     },
     "execution_count": 7,
     "metadata": {},
     "output_type": "execute_result"
    }
   ],
   "source": [
    "t.b"
   ]
  },
  {
   "cell_type": "code",
   "execution_count": 15,
   "id": "be0edb37-579e-4806-89c9-12d7afc29964",
   "metadata": {},
   "outputs": [],
   "source": [
    "t.a=2342  #Now here we can change the value of a from the out side class. now to prevent this we can we encapsulation"
   ]
  },
  {
   "cell_type": "code",
   "execution_count": 16,
   "id": "7743c040-7e6e-4f3e-85e9-d66bb25cd800",
   "metadata": {},
   "outputs": [
    {
     "data": {
      "text/plain": [
       "2342"
      ]
     },
     "execution_count": 16,
     "metadata": {},
     "output_type": "execute_result"
    }
   ],
   "source": [
    "t.a"
   ]
  },
  {
   "cell_type": "code",
   "execution_count": 20,
   "id": "3b55bcdd-0e97-442d-9df6-1a59350ace65",
   "metadata": {},
   "outputs": [],
   "source": [
    "#  t. #here after typing t. when we press tab that time a and b instant do not have to display here"
   ]
  },
  {
   "cell_type": "code",
   "execution_count": 19,
   "id": "5b341534-64b1-4c05-bf30-2c13aa215ab1",
   "metadata": {},
   "outputs": [],
   "source": [
    "#Encapsulattion"
   ]
  },
  {
   "cell_type": "code",
   "execution_count": 33,
   "id": "9a41add9-2fd0-4962-94ca-c7371f74cd7a",
   "metadata": {},
   "outputs": [],
   "source": [
    "class car():\n",
    "    def __init__(self,year,make,model,speed):\n",
    "        self.__year=year\n",
    "        self.__make=make\n",
    "        self.__madel=model\n",
    "        self.__speed=0\n",
    "    "
   ]
  },
  {
   "cell_type": "code",
   "execution_count": 34,
   "id": "3bc44f6a-bcea-4262-89ef-c063a30e58d1",
   "metadata": {},
   "outputs": [],
   "source": [
    "c=car(2022, \"Toyato\" , \"yz\" , 23)"
   ]
  },
  {
   "cell_type": "code",
   "execution_count": 36,
   "id": "9eca9fbb-ac24-4ada-bf4a-4aaf0bbb647c",
   "metadata": {},
   "outputs": [],
   "source": [
    "# c.      #now here after pressing tab nothig is showing this is because we have entered double slash(__) after instanr variable like (self.__year)"
   ]
  },
  {
   "cell_type": "code",
   "execution_count": 41,
   "id": "1ae04651-3cb7-4183-8204-93abad24d7e1",
   "metadata": {},
   "outputs": [
    {
     "data": {
      "text/plain": [
       "2022"
      ]
     },
     "execution_count": 41,
     "metadata": {},
     "output_type": "execute_result"
    }
   ],
   "source": [
    "c._car__year   #here we caled class name starting single slash(_) and after year with double slash(__) to call a instance variable outside func}"
   ]
  },
  {
   "cell_type": "code",
   "execution_count": 42,
   "id": "0b7407ba-a502-4765-83a5-4d4519a6d5e6",
   "metadata": {},
   "outputs": [],
   "source": [
    "# Now here i want permit accesss for only minimun or as per us we will define set and get fun here"
   ]
  },
  {
   "cell_type": "code",
   "execution_count": 185,
   "id": "5948d2c1-e053-46c9-911f-77957e14e6b6",
   "metadata": {},
   "outputs": [],
   "source": [
    "class car1():\n",
    "    def __init__(self,year1,make1,model1,speed1):\n",
    "        self.__year1=year1\n",
    "        self.__make1=make1\n",
    "        self.__madel1=model1\n",
    "        self.__speed1=0\n",
    "    \n",
    "    def set_speed1(self,speed):\n",
    "        self.__speed1= 0 if speed < 0 else speed\n",
    "        \n",
    "    def get_speed1(self):\n",
    "        return self.__speed1"
   ]
  },
  {
   "cell_type": "code",
   "execution_count": 186,
   "id": "094e72e1-7c50-444f-9790-b96f2641b774",
   "metadata": {},
   "outputs": [],
   "source": [
    "t=car1(2022, \"Toyato\" , \"yz\",0)"
   ]
  },
  {
   "cell_type": "code",
   "execution_count": 187,
   "id": "17aa12ae-01e5-4763-845c-e671dbbccb71",
   "metadata": {},
   "outputs": [],
   "source": [
    "t.set_speed1(-12)"
   ]
  },
  {
   "cell_type": "code",
   "execution_count": 188,
   "id": "3e5055ef-33a7-4cf3-9b58-b768a9e23de0",
   "metadata": {},
   "outputs": [
    {
     "data": {
      "text/plain": [
       "0"
      ]
     },
     "execution_count": 188,
     "metadata": {},
     "output_type": "execute_result"
    }
   ],
   "source": [
    "t.get_speed1()"
   ]
  },
  {
   "cell_type": "code",
   "execution_count": 189,
   "id": "9b877287-b2b6-486a-8f3f-c48349ebe383",
   "metadata": {},
   "outputs": [],
   "source": [
    "t.set_speed1(123)"
   ]
  },
  {
   "cell_type": "code",
   "execution_count": 190,
   "id": "4d1bbb41-13e1-4b26-90ef-9fc1a53f24be",
   "metadata": {},
   "outputs": [
    {
     "data": {
      "text/plain": [
       "123"
      ]
     },
     "execution_count": 190,
     "metadata": {},
     "output_type": "execute_result"
    }
   ],
   "source": [
    "t.get_speed1()"
   ]
  },
  {
   "cell_type": "code",
   "execution_count": 224,
   "id": "91838ee7-d548-4d53-ae9d-9bb2330b0008",
   "metadata": {},
   "outputs": [],
   "source": [
    "class bank_acc():\n",
    "    def __init__(self,balance):\n",
    "        self.__balance=balance\n",
    "    \n",
    "    def deposit(self,amount):\n",
    "        self.__balance=self.__balance+amount\n",
    "    \n",
    "    def withdraw(self,withdraw):\n",
    "        if self.__balance >= withdraw:\n",
    "            self.__balance=self.__balance-withdraw\n",
    "            return True\n",
    "        else:\n",
    "            return False\n",
    "    \n",
    "    def get_balance(self):\n",
    "        return self.__balance"
   ]
  },
  {
   "cell_type": "code",
   "execution_count": 225,
   "id": "5b1242aa-8308-4b27-83fb-f6ede84d4e98",
   "metadata": {},
   "outputs": [],
   "source": [
    "b=bank_acc(1000)"
   ]
  },
  {
   "cell_type": "code",
   "execution_count": 226,
   "id": "8b2dca9e-c1e2-4bee-920a-98bfa5c8c644",
   "metadata": {},
   "outputs": [
    {
     "data": {
      "text/plain": [
       "1000"
      ]
     },
     "execution_count": 226,
     "metadata": {},
     "output_type": "execute_result"
    }
   ],
   "source": [
    "b.get_balance()"
   ]
  },
  {
   "cell_type": "code",
   "execution_count": 227,
   "id": "fea55348-32ca-4098-9fc9-f656927335ff",
   "metadata": {},
   "outputs": [],
   "source": [
    "b.deposit(67588)"
   ]
  },
  {
   "cell_type": "code",
   "execution_count": 228,
   "id": "7cc62efd-dd74-47ec-9c93-e17c63af8de9",
   "metadata": {},
   "outputs": [
    {
     "data": {
      "text/plain": [
       "68588"
      ]
     },
     "execution_count": 228,
     "metadata": {},
     "output_type": "execute_result"
    }
   ],
   "source": [
    "b.get_balance()"
   ]
  },
  {
   "cell_type": "code",
   "execution_count": 229,
   "id": "a52d035a-3cf5-4966-b01b-dfb8cabcb924",
   "metadata": {},
   "outputs": [
    {
     "data": {
      "text/plain": [
       "True"
      ]
     },
     "execution_count": 229,
     "metadata": {},
     "output_type": "execute_result"
    }
   ],
   "source": [
    "b.withdraw(8588)"
   ]
  },
  {
   "cell_type": "code",
   "execution_count": 230,
   "id": "8a1b31e5-05d6-4a57-9a1c-33e6f6ecb942",
   "metadata": {},
   "outputs": [
    {
     "data": {
      "text/plain": [
       "60000"
      ]
     },
     "execution_count": 230,
     "metadata": {},
     "output_type": "execute_result"
    }
   ],
   "source": [
    "b.get_balance()"
   ]
  },
  {
   "cell_type": "code",
   "execution_count": null,
   "id": "616cb9be-bf2e-44b9-9878-2f458ec48a4b",
   "metadata": {},
   "outputs": [],
   "source": []
  }
 ],
 "metadata": {
  "kernelspec": {
   "display_name": "Python 3 (ipykernel)",
   "language": "python",
   "name": "python3"
  },
  "language_info": {
   "codemirror_mode": {
    "name": "ipython",
    "version": 3
   },
   "file_extension": ".py",
   "mimetype": "text/x-python",
   "name": "python",
   "nbconvert_exporter": "python",
   "pygments_lexer": "ipython3",
   "version": "3.10.8"
  }
 },
 "nbformat": 4,
 "nbformat_minor": 5
}
