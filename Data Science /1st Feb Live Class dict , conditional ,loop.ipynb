{
 "cells": [
  {
   "cell_type": "code",
   "execution_count": 1,
   "id": "6d30d431-f0f4-4e15-a360-8e585ea0ab55",
   "metadata": {},
   "outputs": [],
   "source": [
    "d={}"
   ]
  },
  {
   "cell_type": "code",
   "execution_count": 2,
   "id": "7274b9c4-33de-482f-a8a8-617643f6aa9e",
   "metadata": {},
   "outputs": [
    {
     "data": {
      "text/plain": [
       "dict"
      ]
     },
     "execution_count": 2,
     "metadata": {},
     "output_type": "execute_result"
    }
   ],
   "source": [
    "type(d)"
   ]
  },
  {
   "cell_type": "code",
   "execution_count": 3,
   "id": "b8ea7e8a-eeef-44f8-96d1-d4d5dadd2f0b",
   "metadata": {},
   "outputs": [
    {
     "data": {
      "text/plain": [
       "{}"
      ]
     },
     "execution_count": 3,
     "metadata": {},
     "output_type": "execute_result"
    }
   ],
   "source": [
    "d"
   ]
  },
  {
   "cell_type": "code",
   "execution_count": 4,
   "id": "d4e8ac4b-7a9f-4698-b5a9-e68e11f552be",
   "metadata": {},
   "outputs": [],
   "source": [
    "d1={\"key\":\"Value\"}"
   ]
  },
  {
   "cell_type": "code",
   "execution_count": 5,
   "id": "fe04007a-b34a-4c50-b4e0-074539eecc10",
   "metadata": {},
   "outputs": [
    {
     "data": {
      "text/plain": [
       "{'key': 'Value'}"
      ]
     },
     "execution_count": 5,
     "metadata": {},
     "output_type": "execute_result"
    }
   ],
   "source": [
    "d1"
   ]
  },
  {
   "cell_type": "code",
   "execution_count": 8,
   "id": "689a1de8-47c0-4b57-879e-a8a2eeb0ea95",
   "metadata": {},
   "outputs": [],
   "source": [
    "d2={\"name\":\"sach\",\"email\":\"Sphawal\",\"contact\":123456789}"
   ]
  },
  {
   "cell_type": "code",
   "execution_count": 9,
   "id": "c9f6429a-214a-4f82-9da7-415ab954a99f",
   "metadata": {},
   "outputs": [
    {
     "data": {
      "text/plain": [
       "{'name': 'sach', 'email': 'Sphawal', 'contact': 123456789}"
      ]
     },
     "execution_count": 9,
     "metadata": {},
     "output_type": "execute_result"
    }
   ],
   "source": [
    "d2"
   ]
  },
  {
   "cell_type": "code",
   "execution_count": 16,
   "id": "68b398f1-782a-4c6f-8b84-b1cf6ba3b455",
   "metadata": {},
   "outputs": [],
   "source": [
    "d3={231:\"sach\",\"@\":\"-\",True:1234568}\n",
    "\n",
    "#here True is =1\n",
    "#False = 0"
   ]
  },
  {
   "cell_type": "code",
   "execution_count": 17,
   "id": "8368dde2-61c5-4fe6-8fc8-5252a6872b34",
   "metadata": {},
   "outputs": [
    {
     "data": {
      "text/plain": [
       "{231: 'sach', '@': '-', True: 1234568}"
      ]
     },
     "execution_count": 17,
     "metadata": {},
     "output_type": "execute_result"
    }
   ],
   "source": [
    "d3"
   ]
  },
  {
   "cell_type": "code",
   "execution_count": 18,
   "id": "5769889a-2305-4876-bf98-32f67cad6e31",
   "metadata": {},
   "outputs": [],
   "source": [
    "# as kay numbric value its working we can use numric value \n",
    "#  @ as a key its will give error special case char give error _ also we cant use \n",
    "# if we use this it will use \"_sach\",\n",
    "# True Boolean value Its work as  a key \n",
    "# we cant use special char under Quets\"@\"\n",
    "# "
   ]
  },
  {
   "cell_type": "code",
   "execution_count": 19,
   "id": "2f6f7873-7565-417b-8757-10d881cb360e",
   "metadata": {},
   "outputs": [],
   "source": [
    "# Removing Single value frm dict\n",
    "# we have to use here key to rmove value "
   ]
  },
  {
   "cell_type": "code",
   "execution_count": 20,
   "id": "9a4e7225-556a-475a-b78a-3b1b3e0ac478",
   "metadata": {},
   "outputs": [
    {
     "data": {
      "text/plain": [
       "'sach'"
      ]
     },
     "execution_count": 20,
     "metadata": {},
     "output_type": "execute_result"
    }
   ],
   "source": [
    "d3[231]"
   ]
  },
  {
   "cell_type": "code",
   "execution_count": 21,
   "id": "c486b8c5-8573-40b0-a4f3-de29f09d4f55",
   "metadata": {},
   "outputs": [
    {
     "data": {
      "text/plain": [
       "'-'"
      ]
     },
     "execution_count": 21,
     "metadata": {},
     "output_type": "execute_result"
    }
   ],
   "source": [
    "d3['@']"
   ]
  },
  {
   "cell_type": "code",
   "execution_count": 22,
   "id": "84658638-d1ec-4be6-9760-43e13844d7a5",
   "metadata": {},
   "outputs": [
    {
     "data": {
      "text/plain": [
       "1234568"
      ]
     },
     "execution_count": 22,
     "metadata": {},
     "output_type": "execute_result"
    }
   ],
   "source": [
    "d3[1]\n",
    "\n",
    "# In d3 True value is 1234555 thats it executive after given 1 instate True becuase True = 1"
   ]
  },
  {
   "cell_type": "code",
   "execution_count": 24,
   "id": "93977913-7aac-4b45-aad1-10a9652a4c07",
   "metadata": {},
   "outputs": [
    {
     "data": {
      "text/plain": [
       "1234568"
      ]
     },
     "execution_count": 24,
     "metadata": {},
     "output_type": "execute_result"
    }
   ],
   "source": [
    "d3[True]"
   ]
  },
  {
   "cell_type": "code",
   "execution_count": 25,
   "id": "3f5cee69-9c05-45c6-aceb-c0c9dfa8cf14",
   "metadata": {},
   "outputs": [],
   "source": [
    "d4={\"name\":\"sach\",\"mail_id\":\"ss@gmail.com\",\"name\":\"sach_Haval\"}"
   ]
  },
  {
   "cell_type": "code",
   "execution_count": 26,
   "id": "f55f8867-8f56-4380-9df4-777f416b49fd",
   "metadata": {},
   "outputs": [
    {
     "data": {
      "text/plain": [
       "{'name': 'sach_Haval', 'mail_id': 'ss@gmail.com'}"
      ]
     },
     "execution_count": 26,
     "metadata": {},
     "output_type": "execute_result"
    }
   ],
   "source": [
    "d4"
   ]
  },
  {
   "cell_type": "code",
   "execution_count": 30,
   "id": "68b6406f-3a81-4169-8627-435384da9f62",
   "metadata": {},
   "outputs": [
    {
     "data": {
      "text/plain": [
       "'sach_Haval'"
      ]
     },
     "execution_count": 30,
     "metadata": {},
     "output_type": "execute_result"
    }
   ],
   "source": [
    "d4[\"name\"]\n",
    "#Here its taken second value because its overrite  first name kay to second name kay it will overrite last key value of the dict"
   ]
  },
  {
   "cell_type": "code",
   "execution_count": 31,
   "id": "8e65421c-befe-410e-804f-b7716001ec33",
   "metadata": {},
   "outputs": [],
   "source": [
    "#key must be unique but here we can use double key but its will overrit first key value info"
   ]
  },
  {
   "cell_type": "code",
   "execution_count": 35,
   "id": "d38f7857-4043-4de3-a9d1-9d1b8fc148d5",
   "metadata": {},
   "outputs": [],
   "source": [
    "d5={\"comp\":\"pwskill\",\"courses\":[\"web\",\"java\",\"c\",\"Cc\",\"VB\"]}"
   ]
  },
  {
   "cell_type": "code",
   "execution_count": 36,
   "id": "28383203-d9f2-4185-bf32-5ee04f86163d",
   "metadata": {},
   "outputs": [
    {
     "data": {
      "text/plain": [
       "{'comp': 'pwskill', 'courses': ['web', 'java', 'c', 'Cc', 'VB']}"
      ]
     },
     "execution_count": 36,
     "metadata": {},
     "output_type": "execute_result"
    }
   ],
   "source": [
    "d5"
   ]
  },
  {
   "cell_type": "code",
   "execution_count": 39,
   "id": "5db9f55c-b80a-41e2-a8a0-6edda3ae01a8",
   "metadata": {},
   "outputs": [
    {
     "data": {
      "text/plain": [
       "['web', 'java', 'c', 'Cc', 'VB']"
      ]
     },
     "execution_count": 39,
     "metadata": {},
     "output_type": "execute_result"
    }
   ],
   "source": [
    "d5['courses']\n",
    "# how to remove second value from list in dict"
   ]
  },
  {
   "cell_type": "code",
   "execution_count": 40,
   "id": "d12198c2-49ca-4d69-85f0-278554758da9",
   "metadata": {},
   "outputs": [
    {
     "data": {
      "text/plain": [
       "'web'"
      ]
     },
     "execution_count": 40,
     "metadata": {},
     "output_type": "execute_result"
    }
   ],
   "source": [
    "d5['courses'][0]"
   ]
  },
  {
   "cell_type": "code",
   "execution_count": 4,
   "id": "54108f9f-e880-4da5-8078-2d92d31bf500",
   "metadata": {},
   "outputs": [],
   "source": [
    "d6={\"num\":[1,2,4,5,6,4,4,8],\"assi\":(1,2,1,5,1,2,5),\"Lounch_date\":{28,12,14},\"class_time\":{\"webdev\":8,\"java\":12,\"c\":12,\"cc\":5}}"
   ]
  },
  {
   "cell_type": "code",
   "execution_count": 5,
   "id": "4191edb6-4e52-4b0a-8370-fab51ca79d9f",
   "metadata": {},
   "outputs": [
    {
     "data": {
      "text/plain": [
       "{'num': [1, 2, 4, 5, 6, 4, 4, 8],\n",
       " 'assi': (1, 2, 1, 5, 1, 2, 5),\n",
       " 'Lounch_date': {12, 14, 28},\n",
       " 'class_time': {'webdev': 8, 'java': 12, 'c': 12, 'cc': 5}}"
      ]
     },
     "execution_count": 5,
     "metadata": {},
     "output_type": "execute_result"
    }
   ],
   "source": [
    "d6"
   ]
  },
  {
   "cell_type": "code",
   "execution_count": 6,
   "id": "0bfb7a26-b2d6-47e5-b7cf-07f91352c1c2",
   "metadata": {},
   "outputs": [
    {
     "data": {
      "text/plain": [
       "{'webdev': 8, 'java': 12, 'c': 12, 'cc': 5}"
      ]
     },
     "execution_count": 6,
     "metadata": {},
     "output_type": "execute_result"
    }
   ],
   "source": [
    "# We have learned about Dict here now if we want to remov any data from dict \n",
    "d6[\"class_time\"]"
   ]
  },
  {
   "cell_type": "code",
   "execution_count": 7,
   "id": "8c78dafc-11cf-4d75-9ec0-f6ccdf57c4d7",
   "metadata": {},
   "outputs": [
    {
     "data": {
      "text/plain": [
       "12"
      ]
     },
     "execution_count": 7,
     "metadata": {},
     "output_type": "execute_result"
    }
   ],
   "source": [
    "d6[\"class_time\"][\"java\"]"
   ]
  },
  {
   "cell_type": "code",
   "execution_count": 8,
   "id": "2c4ee3aa-bc81-4472-8c39-a3c961afdb57",
   "metadata": {},
   "outputs": [],
   "source": [
    "#here we have removed a required data from dict "
   ]
  },
  {
   "cell_type": "code",
   "execution_count": 9,
   "id": "229ec43a-0869-462d-88b6-8448ade89209",
   "metadata": {},
   "outputs": [
    {
     "data": {
      "text/plain": [
       "(1, 2, 1, 5, 1, 2, 5)"
      ]
     },
     "execution_count": 9,
     "metadata": {},
     "output_type": "execute_result"
    }
   ],
   "source": [
    "d6[\"assi\"]"
   ]
  },
  {
   "cell_type": "code",
   "execution_count": 10,
   "id": "f3fcb3f8-393a-4882-9387-1e103b0afab0",
   "metadata": {},
   "outputs": [
    {
     "data": {
      "text/plain": [
       "1"
      ]
     },
     "execution_count": 10,
     "metadata": {},
     "output_type": "execute_result"
    }
   ],
   "source": [
    "d6[\"assi\"][2] #here its work as a index number "
   ]
  },
  {
   "cell_type": "code",
   "execution_count": 11,
   "id": "f19a0699-1eda-4cd4-b1ef-342117c2d1b8",
   "metadata": {},
   "outputs": [
    {
     "data": {
      "text/plain": [
       "8"
      ]
     },
     "execution_count": 11,
     "metadata": {},
     "output_type": "execute_result"
    }
   ],
   "source": [
    "d6[\"class_time\"][\"webdev\"]"
   ]
  },
  {
   "cell_type": "code",
   "execution_count": 12,
   "id": "4d404dc1-01c2-41fd-9381-ee860ee01071",
   "metadata": {},
   "outputs": [],
   "source": [
    "#Adding Kay pair\n",
    "d6['mentore']=[\"sach\",\"sach\",\"om\"]"
   ]
  },
  {
   "cell_type": "code",
   "execution_count": 13,
   "id": "2941928f-c28e-4bb5-b933-bb4226b8d539",
   "metadata": {},
   "outputs": [
    {
     "data": {
      "text/plain": [
       "{'num': [1, 2, 4, 5, 6, 4, 4, 8],\n",
       " 'assi': (1, 2, 1, 5, 1, 2, 5),\n",
       " 'Lounch_date': {12, 14, 28},\n",
       " 'class_time': {'webdev': 8, 'java': 12, 'c': 12, 'cc': 5},\n",
       " 'mentore': ['sach', 'sach', 'om']}"
      ]
     },
     "execution_count": 13,
     "metadata": {},
     "output_type": "execute_result"
    }
   ],
   "source": [
    "d6"
   ]
  },
  {
   "cell_type": "code",
   "execution_count": 14,
   "id": "d71c26fd-ec05-4c22-88b5-0305f5a8a5e1",
   "metadata": {},
   "outputs": [],
   "source": [
    "#now assi kay are already available if i insert same key here it will replace the old key "
   ]
  },
  {
   "cell_type": "code",
   "execution_count": 15,
   "id": "9647f966-48f5-4df9-a7f8-be7fcb4f7b61",
   "metadata": {},
   "outputs": [],
   "source": [
    "#deleting the key pair \n",
    "del d6[\"assi\"] #here its deleted the assi key and its value "
   ]
  },
  {
   "cell_type": "code",
   "execution_count": 16,
   "id": "a72ddde2-fbfd-4329-9fd8-33b35e125618",
   "metadata": {},
   "outputs": [
    {
     "data": {
      "text/plain": [
       "{'num': [1, 2, 4, 5, 6, 4, 4, 8],\n",
       " 'Lounch_date': {12, 14, 28},\n",
       " 'class_time': {'webdev': 8, 'java': 12, 'c': 12, 'cc': 5},\n",
       " 'mentore': ['sach', 'sach', 'om']}"
      ]
     },
     "execution_count": 16,
     "metadata": {},
     "output_type": "execute_result"
    }
   ],
   "source": [
    "d6"
   ]
  },
  {
   "cell_type": "code",
   "execution_count": 17,
   "id": "a0232674-c018-44a1-8392-5fafd23efb81",
   "metadata": {},
   "outputs": [
    {
     "data": {
      "text/plain": [
       "dict_keys(['num', 'Lounch_date', 'class_time', 'mentore'])"
      ]
     },
     "execution_count": 17,
     "metadata": {},
     "output_type": "execute_result"
    }
   ],
   "source": [
    "#Now taking list of all key\n",
    "d6.keys()"
   ]
  },
  {
   "cell_type": "code",
   "execution_count": 18,
   "id": "13ca2cac-a255-4e41-af03-058bd5fcfafe",
   "metadata": {},
   "outputs": [
    {
     "data": {
      "text/plain": [
       "dict_values([[1, 2, 4, 5, 6, 4, 4, 8], {28, 12, 14}, {'webdev': 8, 'java': 12, 'c': 12, 'cc': 5}, ['sach', 'sach', 'om']])"
      ]
     },
     "execution_count": 18,
     "metadata": {},
     "output_type": "execute_result"
    }
   ],
   "source": [
    "d6.values()"
   ]
  },
  {
   "cell_type": "code",
   "execution_count": 19,
   "id": "32493c2a-2d8f-4724-b2c6-a0465f432ddd",
   "metadata": {},
   "outputs": [
    {
     "data": {
      "text/plain": [
       "['num', 'Lounch_date', 'class_time', 'mentore']"
      ]
     },
     "execution_count": 19,
     "metadata": {},
     "output_type": "execute_result"
    }
   ],
   "source": [
    "list(d6.keys()) #here we converted keys to list"
   ]
  },
  {
   "cell_type": "code",
   "execution_count": 20,
   "id": "482e32cb-928c-41f9-803a-68ae197d435f",
   "metadata": {},
   "outputs": [
    {
     "data": {
      "text/plain": [
       "[[1, 2, 4, 5, 6, 4, 4, 8],\n",
       " {12, 14, 28},\n",
       " {'webdev': 8, 'java': 12, 'c': 12, 'cc': 5},\n",
       " ['sach', 'sach', 'om']]"
      ]
     },
     "execution_count": 20,
     "metadata": {},
     "output_type": "execute_result"
    }
   ],
   "source": [
    "list(d6.values()) #here we convrted all values in list like same we can convert any thing from dict or any other data type "
   ]
  },
  {
   "cell_type": "code",
   "execution_count": 21,
   "id": "ecdac997-dd78-4d32-b88b-704d61de5c7e",
   "metadata": {},
   "outputs": [
    {
     "data": {
      "text/plain": [
       "('num', 'Lounch_date', 'class_time', 'mentore')"
      ]
     },
     "execution_count": 21,
     "metadata": {},
     "output_type": "execute_result"
    }
   ],
   "source": [
    "tuple(d6.keys())"
   ]
  },
  {
   "cell_type": "code",
   "execution_count": 22,
   "id": "451a1dfa-94d3-4f59-a639-d542ef6e64e5",
   "metadata": {},
   "outputs": [
    {
     "data": {
      "text/plain": [
       "[[1, 2, 4, 5, 6, 4, 4, 8],\n",
       " {12, 14, 28},\n",
       " {'webdev': 8, 'java': 12, 'c': 12, 'cc': 5},\n",
       " ['sach', 'sach', 'om']]"
      ]
     },
     "execution_count": 22,
     "metadata": {},
     "output_type": "execute_result"
    }
   ],
   "source": [
    "list(d6.values())"
   ]
  },
  {
   "cell_type": "code",
   "execution_count": 23,
   "id": "e31d0bd5-462b-430b-834a-75101be031bb",
   "metadata": {},
   "outputs": [
    {
     "data": {
      "text/plain": [
       "{'Lounch_date', 'class_time', 'mentore', 'num'}"
      ]
     },
     "execution_count": 23,
     "metadata": {},
     "output_type": "execute_result"
    }
   ],
   "source": [
    "set(d6.keys())"
   ]
  },
  {
   "cell_type": "code",
   "execution_count": 24,
   "id": "3e21f876-b5fc-4d29-a8b8-2d3589b82b4e",
   "metadata": {},
   "outputs": [
    {
     "data": {
      "text/plain": [
       "dict_items([('num', [1, 2, 4, 5, 6, 4, 4, 8]), ('Lounch_date', {28, 12, 14}), ('class_time', {'webdev': 8, 'java': 12, 'c': 12, 'cc': 5}), ('mentore', ['sach', 'sach', 'om'])])"
      ]
     },
     "execution_count": 24,
     "metadata": {},
     "output_type": "execute_result"
    }
   ],
   "source": [
    "d6.items()  #ti exicute a full dict"
   ]
  },
  {
   "cell_type": "code",
   "execution_count": 25,
   "id": "975ad14d-6fe8-4e8a-89ce-e16208bbdf13",
   "metadata": {},
   "outputs": [],
   "source": [
    "d6[\"sach\"]=\"assf\""
   ]
  },
  {
   "cell_type": "code",
   "execution_count": 26,
   "id": "f901d00c-6383-4d17-b7dd-07b43750e9a4",
   "metadata": {},
   "outputs": [
    {
     "data": {
      "text/plain": [
       "{'num': [1, 2, 4, 5, 6, 4, 4, 8],\n",
       " 'Lounch_date': {12, 14, 28},\n",
       " 'class_time': {'webdev': 8, 'java': 12, 'c': 12, 'cc': 5},\n",
       " 'mentore': ['sach', 'sach', 'om'],\n",
       " 'sach': 'assf'}"
      ]
     },
     "execution_count": 26,
     "metadata": {},
     "output_type": "execute_result"
    }
   ],
   "source": [
    "d6"
   ]
  },
  {
   "cell_type": "code",
   "execution_count": 27,
   "id": "0d53df1b-b4b4-4887-84d3-bae50de114d7",
   "metadata": {},
   "outputs": [
    {
     "data": {
      "text/plain": [
       "'assf'"
      ]
     },
     "execution_count": 27,
     "metadata": {},
     "output_type": "execute_result"
    }
   ],
   "source": [
    "d6.pop(\"sach\") #here we removing or del value using key"
   ]
  },
  {
   "cell_type": "code",
   "execution_count": 28,
   "id": "435dffcb-8d86-4aae-b524-d86d4ba71081",
   "metadata": {},
   "outputs": [
    {
     "data": {
      "text/plain": [
       "{'num': [1, 2, 4, 5, 6, 4, 4, 8],\n",
       " 'Lounch_date': {12, 14, 28},\n",
       " 'class_time': {'webdev': 8, 'java': 12, 'c': 12, 'cc': 5},\n",
       " 'mentore': ['sach', 'sach', 'om']}"
      ]
     },
     "execution_count": 28,
     "metadata": {},
     "output_type": "execute_result"
    }
   ],
   "source": [
    "d6"
   ]
  },
  {
   "cell_type": "code",
   "execution_count": 29,
   "id": "c70f855f-6ad8-42f7-b38e-d33a0f13ee05",
   "metadata": {},
   "outputs": [
    {
     "ename": "TypeError",
     "evalue": "pop expected at least 1 argument, got 0",
     "output_type": "error",
     "traceback": [
      "\u001b[0;31m---------------------------------------------------------------------------\u001b[0m",
      "\u001b[0;31mTypeError\u001b[0m                                 Traceback (most recent call last)",
      "Cell \u001b[0;32mIn[29], line 1\u001b[0m\n\u001b[0;32m----> 1\u001b[0m \u001b[43md6\u001b[49m\u001b[38;5;241;43m.\u001b[39;49m\u001b[43mpop\u001b[49m\u001b[43m(\u001b[49m\u001b[43m)\u001b[49m\n",
      "\u001b[0;31mTypeError\u001b[0m: pop expected at least 1 argument, got 0"
     ]
    }
   ],
   "source": [
    "d6.pop()"
   ]
  },
  {
   "cell_type": "code",
   "execution_count": 27,
   "id": "e8f3c5c6-0057-4d1c-b650-7846ebe40e5a",
   "metadata": {},
   "outputs": [
    {
     "name": "stdin",
     "output_type": "stream",
     "text": [
      "ENter the marks 21\n"
     ]
    },
    {
     "name": "stdout",
     "output_type": "stream",
     "text": [
      "you will be apart of the A3 Batch\n"
     ]
    }
   ],
   "source": [
    "#conditions commands \n",
    "marks=float(input(\"ENter the marks\"))\n",
    "if marks>=80:  #we have to take care of a indentation of code\n",
    "    print(\"you wll be a part of A0 Part\")\n",
    "elif marks >= 60 and marks< 80:\n",
    "    print(\"you will be a part of A1 Batch\")\n",
    "elif marks >= 40 and marks< 60:\n",
    "    print(\"you will be apart of the A2 Batch\")\n",
    "else:\n",
    "    print(\"you will be apart of the A3 Batch\")\n",
    "    \n"
   ]
  },
  {
   "cell_type": "code",
   "execution_count": 28,
   "id": "bbbca8d8-182b-4aaf-ac7a-98825b6fb2f6",
   "metadata": {},
   "outputs": [],
   "source": [
    "# True and True=1\n",
    "# True and False=0\n",
    "# False and True=0\n",
    "# False and False =0"
   ]
  },
  {
   "cell_type": "code",
   "execution_count": 29,
   "id": "0a6740b9-e0e6-48df-8b5e-49f7d5e8ce12",
   "metadata": {},
   "outputs": [],
   "source": [
    "# True or False =1\n",
    "# False or True = 1\n",
    "# True or True = 1\n",
    "# False or False =0"
   ]
  },
  {
   "cell_type": "code",
   "execution_count": 30,
   "id": "1f2e7db0-be26-4e79-a555-b288768bfe42",
   "metadata": {},
   "outputs": [
    {
     "data": {
      "text/plain": [
       "float"
      ]
     },
     "execution_count": 30,
     "metadata": {},
     "output_type": "execute_result"
    }
   ],
   "source": [
    "type(marks)"
   ]
  },
  {
   "cell_type": "code",
   "execution_count": 33,
   "id": "55bbcc70-8512-4ce2-85d8-d7772f7a074f",
   "metadata": {},
   "outputs": [
    {
     "name": "stdin",
     "output_type": "stream",
     "text": [
      "Enter amount 25\n"
     ]
    },
    {
     "name": "stdout",
     "output_type": "stream",
     "text": [
      "I will purchase\n"
     ]
    }
   ],
   "source": [
    "price=int(input(\"Enter amount\"))\n",
    "if price > 1000:\n",
    "    print(\"I will not Purchase\")\n",
    "else:\n",
    "    print(\"I will purchase\")"
   ]
  },
  {
   "cell_type": "code",
   "execution_count": null,
   "id": "11e40ba7-f7d1-462f-847b-3851ede882fb",
   "metadata": {},
   "outputs": [],
   "source": [
    "#if there is not any else or elif condition its not gave any out put"
   ]
  },
  {
   "cell_type": "code",
   "execution_count": 37,
   "id": "c445eb28-60e8-4e7b-b50f-f52e9270cd18",
   "metadata": {},
   "outputs": [
    {
     "name": "stdin",
     "output_type": "stream",
     "text": [
      "Enter amount 2000\n"
     ]
    },
    {
     "name": "stdout",
     "output_type": "stream",
     "text": [
      "I will not Purchase\n",
      "This is too much\n"
     ]
    }
   ],
   "source": [
    "price=int(input(\"Enter amount\"))\n",
    "if price > 1000:\n",
    "    print(\"I will not Purchase\")\n",
    "    if price>1500:\n",
    "        print(\"This is too much\")"
   ]
  },
  {
   "cell_type": "code",
   "execution_count": 38,
   "id": "be6ae916-c0b3-4b4d-a5a3-0736f80549d2",
   "metadata": {},
   "outputs": [],
   "source": [
    "#Loops Started "
   ]
  },
  {
   "cell_type": "code",
   "execution_count": 39,
   "id": "87d62e63-905d-42da-aef6-34577aa84ecb",
   "metadata": {},
   "outputs": [],
   "source": [
    "l=[1,2,3,4,5,6,7,8,9]"
   ]
  },
  {
   "cell_type": "code",
   "execution_count": 41,
   "id": "4c5110f4-a816-40a4-849d-a37f32aa26d4",
   "metadata": {},
   "outputs": [
    {
     "name": "stdout",
     "output_type": "stream",
     "text": [
      "2\n",
      "3\n",
      "4\n",
      "5\n",
      "6\n",
      "7\n",
      "8\n",
      "9\n",
      "10\n"
     ]
    }
   ],
   "source": [
    "for i in l:\n",
    "    i=i+1\n",
    "    print(i)"
   ]
  },
  {
   "cell_type": "code",
   "execution_count": 42,
   "id": "fc1f266d-a4d5-4b9a-af57-7a6b546951a6",
   "metadata": {},
   "outputs": [
    {
     "data": {
      "text/plain": [
       "1"
      ]
     },
     "execution_count": 42,
     "metadata": {},
     "output_type": "execute_result"
    }
   ],
   "source": [
    "l[0]"
   ]
  },
  {
   "cell_type": "code",
   "execution_count": 43,
   "id": "c82c7cb0-01f2-4c47-8de0-d3d4f3b5c17c",
   "metadata": {},
   "outputs": [],
   "source": [
    "l1=[]"
   ]
  },
  {
   "cell_type": "code",
   "execution_count": 45,
   "id": "97fd7ed6-e592-4cf1-b47e-ef4b77a04a3d",
   "metadata": {},
   "outputs": [],
   "source": [
    "l1.append(l[0]+1)"
   ]
  },
  {
   "cell_type": "code",
   "execution_count": 46,
   "id": "f5f071d2-f27e-4d81-ad93-a17697fe02a0",
   "metadata": {},
   "outputs": [
    {
     "data": {
      "text/plain": [
       "[2]"
      ]
     },
     "execution_count": 46,
     "metadata": {},
     "output_type": "execute_result"
    }
   ],
   "source": [
    "l1"
   ]
  },
  {
   "cell_type": "code",
   "execution_count": 47,
   "id": "d0f89f52-e75a-44f4-8635-e5b622f59930",
   "metadata": {},
   "outputs": [
    {
     "name": "stdout",
     "output_type": "stream",
     "text": [
      "[1, 2, 3, 4, 5, 6, 7, 8, 9]\n",
      "[1, 2, 3, 4, 5, 6, 7, 8, 9]\n",
      "[1, 2, 3, 4, 5, 6, 7, 8, 9]\n",
      "[1, 2, 3, 4, 5, 6, 7, 8, 9]\n",
      "[1, 2, 3, 4, 5, 6, 7, 8, 9]\n",
      "[1, 2, 3, 4, 5, 6, 7, 8, 9]\n",
      "[1, 2, 3, 4, 5, 6, 7, 8, 9]\n",
      "[1, 2, 3, 4, 5, 6, 7, 8, 9]\n",
      "[1, 2, 3, 4, 5, 6, 7, 8, 9]\n"
     ]
    }
   ],
   "source": [
    "#For Loop\n",
    "for j in l:\n",
    "    print(l) #have to adustant the logic here "
   ]
  },
  {
   "cell_type": "code",
   "execution_count": 58,
   "id": "45ba3e0c-1220-484d-9f09-024abaee14e7",
   "metadata": {},
   "outputs": [
    {
     "name": "stdout",
     "output_type": "stream",
     "text": [
      "2\n",
      "3\n",
      "4\n",
      "5\n",
      "6\n",
      "7\n",
      "8\n",
      "9\n",
      "10\n"
     ]
    },
    {
     "data": {
      "text/plain": [
       "[2, 3, 4, 5, 6, 7, 8, 9, 10]"
      ]
     },
     "execution_count": 58,
     "metadata": {},
     "output_type": "execute_result"
    }
   ],
   "source": [
    "l1=[]\n",
    "for j in l:\n",
    "    print(j+1)\n",
    "    l1.append(j+1)\n",
    "l1   "
   ]
  },
  {
   "cell_type": "code",
   "execution_count": 57,
   "id": "a1bfb959-8e35-4583-b090-db9a97af54e9",
   "metadata": {},
   "outputs": [
    {
     "data": {
      "text/plain": [
       "[2, 3, 4, 5, 6, 7, 8, 9, 10]"
      ]
     },
     "execution_count": 57,
     "metadata": {},
     "output_type": "execute_result"
    }
   ],
   "source": [
    "l1"
   ]
  },
  {
   "cell_type": "code",
   "execution_count": 62,
   "id": "b54e81c3-b950-4264-8a55-d4af9219460e",
   "metadata": {},
   "outputs": [
    {
     "name": "stdout",
     "output_type": "stream",
     "text": [
      "SAKSH\n",
      "SACH\n",
      "HAWAL\n"
     ]
    }
   ],
   "source": [
    "lst=[\"saksh\",\"sach\",\"Hawal\"]\n",
    "for i in lst:\n",
    "    print(i.upper())"
   ]
  },
  {
   "cell_type": "code",
   "execution_count": 65,
   "id": "10865bf0-d9ff-4c35-b8ab-e3f475480ab4",
   "metadata": {},
   "outputs": [
    {
     "name": "stdout",
     "output_type": "stream",
     "text": [
      "saksh\n",
      "sach\n",
      "Hawal\n"
     ]
    },
    {
     "data": {
      "text/plain": [
       "['SAKSH', 'SACH', 'HAWAL']"
      ]
     },
     "execution_count": 65,
     "metadata": {},
     "output_type": "execute_result"
    }
   ],
   "source": [
    "lst1=[]\n",
    "lst2=[\"saksh\",\"sach\",\"Hawal\"]\n",
    "for i in lst2:\n",
    "    print(i)\n",
    "    lst1.append(i.upper())\n",
    "lst1    "
   ]
  },
  {
   "cell_type": "code",
   "execution_count": 66,
   "id": "d0d832a3-303a-46de-88b3-76bd123ca260",
   "metadata": {},
   "outputs": [],
   "source": [
    "a=[1,2,3,4,5,\"sach\",\"match\",215,\"aksh\",0.123,\"Meshu\",\"Pillu\"124,45,78]"
   ]
  },
  {
   "cell_type": "code",
   "execution_count": 67,
   "id": "76dd5709-e66b-4940-ab41-a239430cdff4",
   "metadata": {},
   "outputs": [],
   "source": [
    "a1_num=[]\n",
    "a2_str=[]\n",
    "for i in a:\n",
    "    if type(i)==int or type(i)==float:\n",
    "        a1_num.append(i)\n",
    "    else:\n",
    "        a2_str.append(i)"
   ]
  },
  {
   "cell_type": "code",
   "execution_count": 68,
   "id": "fcb782bb-f0c2-4adb-b7b7-f5a4c56f907f",
   "metadata": {},
   "outputs": [
    {
     "data": {
      "text/plain": [
       "[1, 2, 3, 4, 5, 215]"
      ]
     },
     "execution_count": 68,
     "metadata": {},
     "output_type": "execute_result"
    }
   ],
   "source": [
    "a1_num"
   ]
  },
  {
   "cell_type": "code",
   "execution_count": 69,
   "id": "d6925dab-c29b-4ce8-bb5c-c5c4a8135e9a",
   "metadata": {},
   "outputs": [
    {
     "data": {
      "text/plain": [
       "['sach', 'match']"
      ]
     },
     "execution_count": 69,
     "metadata": {},
     "output_type": "execute_result"
    }
   ],
   "source": [
    "a2_str"
   ]
  },
  {
   "cell_type": "code",
   "execution_count": 70,
   "id": "113c49f9-ef3e-4762-bbf9-df2c9d007d2a",
   "metadata": {},
   "outputs": [],
   "source": [
    "a1_num=[]\n",
    "a2_str=[]\n",
    "for i in a:\n",
    "    if i==int or i==float:\n",
    "        a1_num.append(i)\n",
    "    else:\n",
    "        a2_str.append(i)      #here in this program gives us nothing because we have to compare the by using type of value "
   ]
  },
  {
   "cell_type": "code",
   "execution_count": 71,
   "id": "25ca6fbf-4415-4414-a6a9-ff4c7493d988",
   "metadata": {},
   "outputs": [
    {
     "data": {
      "text/plain": [
       "[]"
      ]
     },
     "execution_count": 71,
     "metadata": {},
     "output_type": "execute_result"
    }
   ],
   "source": [
    "a1_num"
   ]
  },
  {
   "cell_type": "code",
   "execution_count": null,
   "id": "bf8a9b6c-8a89-4094-a277-ede08b08036a",
   "metadata": {},
   "outputs": [],
   "source": []
  }
 ],
 "metadata": {
  "kernelspec": {
   "display_name": "Python 3 (ipykernel)",
   "language": "python",
   "name": "python3"
  },
  "language_info": {
   "codemirror_mode": {
    "name": "ipython",
    "version": 3
   },
   "file_extension": ".py",
   "mimetype": "text/x-python",
   "name": "python",
   "nbconvert_exporter": "python",
   "pygments_lexer": "ipython3",
   "version": "3.10.8"
  }
 },
 "nbformat": 4,
 "nbformat_minor": 5
}
