{
 "cells": [
  {
   "cell_type": "code",
   "execution_count": 3,
   "id": "c82d4d09-b8d6-4ea0-98ce-f35d7db2b174",
   "metadata": {},
   "outputs": [],
   "source": [
    "class Myclass():\n",
    "    def show(self):\n",
    "        print(\"show my methods\")"
   ]
  },
  {
   "cell_type": "code",
   "execution_count": 4,
   "id": "d0b062e6-c263-43b6-8a33-59d7dc485c5f",
   "metadata": {},
   "outputs": [
    {
     "name": "stdout",
     "output_type": "stream",
     "text": [
      "show my methods\n"
     ]
    }
   ],
   "source": [
    "x=Myclass()\n",
    "x.show()"
   ]
  },
  {
   "cell_type": "code",
   "execution_count": 32,
   "id": "cc270fb3-1add-4526-bc20-66a5ebd4ffb1",
   "metadata": {},
   "outputs": [],
   "source": [
    "class Mobile():\n",
    "    def __init__(self):\n",
    "        self.model='samsung'\n",
    "    \n",
    "    def show_model(self):\n",
    "        price=1000\n",
    "        city=\"belgaum\"\n",
    "        print(\"Model:\",self.model, \"Price\",price, \"City\",city)"
   ]
  },
  {
   "cell_type": "code",
   "execution_count": 33,
   "id": "7b463d46-2d28-400e-b1c1-928b1e3cefc3",
   "metadata": {},
   "outputs": [
    {
     "name": "stdout",
     "output_type": "stream",
     "text": [
      "Model: samsung Price 1000 City belgaum\n",
      "Nokia\n"
     ]
    }
   ],
   "source": [
    "x=Mobile()\n",
    "x.show_model()\n",
    "x.model=\"Nokia\"\n",
    "print(x.model)"
   ]
  },
  {
   "cell_type": "code",
   "execution_count": 35,
   "id": "f9b32c7d-d803-4736-a46a-65bd1c130319",
   "metadata": {},
   "outputs": [],
   "source": [
    "class Fullname():\n",
    "    def __init__(self,n):\n",
    "        self.name=n\n",
    "        \n",
    "    def surname(self,s):\n",
    "        print(\"Name\",self.name, \"surname\",s)"
   ]
  },
  {
   "cell_type": "code",
   "execution_count": 45,
   "id": "7267d43a-6a81-42d9-bb9d-1e8a28d2d5e0",
   "metadata": {},
   "outputs": [
    {
     "name": "stdout",
     "output_type": "stream",
     "text": [
      "Name sachin surname Hawal\n"
     ]
    }
   ],
   "source": [
    "x=Fullname(\"sachin\")\n",
    "x.surname(\"Hawal\")\n",
    "#print(x.name)"
   ]
  },
  {
   "cell_type": "code",
   "execution_count": 2,
   "id": "fe5bf3b5-b9f1-452c-8c6d-217d8c8017c7",
   "metadata": {},
   "outputs": [],
   "source": [
    "class Mobile1():\n",
    "    def __init__(self,p):\n",
    "        self.model=p\n",
    "    \n",
    "    def show_model(self,s):\n",
    "        price=s\n",
    "        print(\"Model:\",self.model, \"Price\",price,)"
   ]
  },
  {
   "cell_type": "code",
   "execution_count": 8,
   "id": "09d6f882-235f-43e1-89ec-d329661c876f",
   "metadata": {},
   "outputs": [
    {
     "name": "stdout",
     "output_type": "stream",
     "text": [
      "Model: Samsung Price 20000\n",
      "139773809192352\n",
      "\n",
      "Model: Nokia Price 30000\n",
      "139773809190576\n",
      "\n",
      "Model: Vivo Price 50000\n",
      "139773809195904\n"
     ]
    }
   ],
   "source": [
    "x=Mobile1(\"Samsung\")\n",
    "x.show_model(20000)\n",
    "print(id(x))\n",
    "print()\n",
    "xx=Mobile1(\"Nokia\")\n",
    "xx.show_model(30000)\n",
    "print(id(xx))\n",
    "print()\n",
    "xxx=Mobile1(\"Vivo\")\n",
    "xxx.show_model(50000)\n",
    "print(id(xxx))\n",
    "#print(x.model)"
   ]
  },
  {
   "cell_type": "code",
   "execution_count": 9,
   "id": "c914bf1f-a984-450b-b7a1-a6f331c5fecb",
   "metadata": {},
   "outputs": [
    {
     "name": "stdout",
     "output_type": "stream",
     "text": [
      "<class 'int'>\n"
     ]
    }
   ],
   "source": [
    "#PWSKILL\n",
    "a=1\n",
    "print(type(a))"
   ]
  },
  {
   "cell_type": "code",
   "execution_count": 12,
   "id": "5edb1cb5-84da-4473-9b18-07c6dc65dda6",
   "metadata": {},
   "outputs": [
    {
     "name": "stdout",
     "output_type": "stream",
     "text": [
      "<class 'str'>\n"
     ]
    }
   ],
   "source": [
    "b=\"sachin\"\n",
    "print(type(b))"
   ]
  },
  {
   "cell_type": "code",
   "execution_count": 18,
   "id": "e164d382-0a6e-4986-a1d1-51c2370a6ba8",
   "metadata": {},
   "outputs": [],
   "source": [
    "class Test():\n",
    "    pass"
   ]
  },
  {
   "cell_type": "code",
   "execution_count": 19,
   "id": "d92c9e26-2fda-4b7f-8cd3-cad91f2b65cc",
   "metadata": {},
   "outputs": [],
   "source": [
    "a=Test()"
   ]
  },
  {
   "cell_type": "code",
   "execution_count": 20,
   "id": "ebebc33d-9811-4e1f-8400-401a4da5adb7",
   "metadata": {},
   "outputs": [
    {
     "name": "stdout",
     "output_type": "stream",
     "text": [
      "<class '__main__.Test'>\n"
     ]
    }
   ],
   "source": [
    "print(type(a))"
   ]
  },
  {
   "cell_type": "code",
   "execution_count": 21,
   "id": "d1e98a56-ec4b-48ad-bcb7-afa68c9b3063",
   "metadata": {},
   "outputs": [
    {
     "data": {
      "text/plain": [
       "__main__.Test"
      ]
     },
     "execution_count": 21,
     "metadata": {},
     "output_type": "execute_result"
    }
   ],
   "source": [
    "type(a)"
   ]
  },
  {
   "cell_type": "code",
   "execution_count": 23,
   "id": "2166730e-bf26-4e84-afa2-7a1f5168d390",
   "metadata": {},
   "outputs": [],
   "source": [
    "class pwskills():\n",
    "    def welcome(): #TypeError: pwskills.welcome() takes 0 positional arguments but 1 was given we have to declare self staemnt\n",
    "        print(\"welcome to PWSKILLS\")"
   ]
  },
  {
   "cell_type": "code",
   "execution_count": 25,
   "id": "ef39d049-4690-4933-912d-0c51ac5ed7d2",
   "metadata": {},
   "outputs": [
    {
     "ename": "TypeError",
     "evalue": "pwskills.welcome() takes 0 positional arguments but 1 was given",
     "output_type": "error",
     "traceback": [
      "\u001b[0;31m---------------------------------------------------------------------------\u001b[0m",
      "\u001b[0;31mTypeError\u001b[0m                                 Traceback (most recent call last)",
      "Cell \u001b[0;32mIn[25], line 2\u001b[0m\n\u001b[1;32m      1\u001b[0m sachin\u001b[38;5;241m=\u001b[39mpwskills()\n\u001b[0;32m----> 2\u001b[0m \u001b[43msachin\u001b[49m\u001b[38;5;241;43m.\u001b[39;49m\u001b[43mwelcome\u001b[49m\u001b[43m(\u001b[49m\u001b[43m)\u001b[49m\n",
      "\u001b[0;31mTypeError\u001b[0m: pwskills.welcome() takes 0 positional arguments but 1 was given"
     ]
    }
   ],
   "source": [
    "sachin=pwskills()\n",
    "sachin.welcome()  "
   ]
  },
  {
   "cell_type": "code",
   "execution_count": 26,
   "id": "93d7658b-8ff8-4687-b1b2-0cd9170ba807",
   "metadata": {},
   "outputs": [],
   "source": [
    "class pwskills():\n",
    "    def welcome(self):\n",
    "        print(\"welcome to PWSKILLS\")"
   ]
  },
  {
   "cell_type": "code",
   "execution_count": 27,
   "id": "3638f4c6-a8fb-43ce-bee2-58559c9872ec",
   "metadata": {},
   "outputs": [
    {
     "name": "stdout",
     "output_type": "stream",
     "text": [
      "welcome to PWSKILLS\n"
     ]
    }
   ],
   "source": [
    "sachin=pwskills()\n",
    "sachin.welcome() "
   ]
  },
  {
   "cell_type": "code",
   "execution_count": 6,
   "id": "fcdf788c-c4fc-4687-8111-ca8f0a847d6c",
   "metadata": {},
   "outputs": [],
   "source": [
    "class Student_dt():\n",
    "    def __init__(self,std_name,std_email,std_Number,std_Id):\n",
    "        self.std_name=std_name\n",
    "        self.std_email=std_email\n",
    "        self.std_Number=std_Number\n",
    "        self.std_Id=std_Id\n",
    "    \n",
    "    def retrn(self):\n",
    "        return self.std_name, self.std_email, self.std_Number, self.std_Id"
   ]
  },
  {
   "cell_type": "code",
   "execution_count": 7,
   "id": "80193da9-6453-4618-9002-d7f942a32d69",
   "metadata": {},
   "outputs": [
    {
     "ename": "TypeError",
     "evalue": "Student_dt.__init__() missing 4 required positional arguments: 'std_name', 'std_email', 'std_Number', and 'std_Id'",
     "output_type": "error",
     "traceback": [
      "\u001b[0;31m---------------------------------------------------------------------------\u001b[0m",
      "\u001b[0;31mTypeError\u001b[0m                                 Traceback (most recent call last)",
      "Cell \u001b[0;32mIn[7], line 1\u001b[0m\n\u001b[0;32m----> 1\u001b[0m sachin\u001b[38;5;241m=\u001b[39m\u001b[43mStudent_dt\u001b[49m\u001b[43m(\u001b[49m\u001b[43m)\u001b[49m\n",
      "\u001b[0;31mTypeError\u001b[0m: Student_dt.__init__() missing 4 required positional arguments: 'std_name', 'std_email', 'std_Number', and 'std_Id'"
     ]
    }
   ],
   "source": [
    "sachin=Student_dt()\n"
   ]
  },
  {
   "cell_type": "code",
   "execution_count": 8,
   "id": "40eb9b16-1d83-4f0d-ba04-b29ed3bfd7f7",
   "metadata": {},
   "outputs": [
    {
     "data": {
      "text/plain": [
       "('sachin', 'abc@gmail.com', 12334, 234)"
      ]
     },
     "execution_count": 8,
     "metadata": {},
     "output_type": "execute_result"
    }
   ],
   "source": [
    "sachin=Student_dt(\"sachin\",\"abc@gmail.com\",12334,234)\n",
    "sachin.retrn()"
   ]
  },
  {
   "cell_type": "code",
   "execution_count": 14,
   "id": "3e3a3616-34d7-48a2-9461-a7ecb5882e03",
   "metadata": {},
   "outputs": [],
   "source": [
    "class Student_dt():\n",
    "    def __init__(self,std_name,std_email,std_Number,std_Id):\n",
    "        self.std_name1=std_name\n",
    "        self.std_email1=std_email\n",
    "        self.std_Number1=std_Number\n",
    "        self.std_Id1=std_Id\n",
    "    \n",
    "    def retrn(self):\n",
    "        return self.std_name1, self.std_email1, self.std_Number1, self.std_Id1"
   ]
  },
  {
   "cell_type": "code",
   "execution_count": 15,
   "id": "6afeb106-1e25-46a2-ad59-d7e97117bcba",
   "metadata": {},
   "outputs": [
    {
     "data": {
      "text/plain": [
       "('Mahesh', 'Aks@gmail.com', 543677, 1098)"
      ]
     },
     "execution_count": 15,
     "metadata": {},
     "output_type": "execute_result"
    }
   ],
   "source": [
    "Mahesh=Student_dt(\"Mahesh\",\"Aks@gmail.com\",543677,1098)\n",
    "Mahesh.retrn()"
   ]
  },
  {
   "cell_type": "code",
   "execution_count": 16,
   "id": "3e8a1ea4-66f9-4c76-ad18-1b1bc6934d99",
   "metadata": {},
   "outputs": [
    {
     "data": {
      "text/plain": [
       "'Mahesh'"
      ]
     },
     "execution_count": 16,
     "metadata": {},
     "output_type": "execute_result"
    }
   ],
   "source": [
    "Mahesh.std_name1"
   ]
  },
  {
   "cell_type": "code",
   "execution_count": 17,
   "id": "902af02e-c17e-481e-8057-5845a6a387ee",
   "metadata": {},
   "outputs": [
    {
     "data": {
      "text/plain": [
       "'sachin'"
      ]
     },
     "execution_count": 17,
     "metadata": {},
     "output_type": "execute_result"
    }
   ],
   "source": [
    "sachin.std_name"
   ]
  },
  {
   "cell_type": "code",
   "execution_count": 1,
   "id": "4e6deb71-2ccd-472b-9eea-cd2294e72dea",
   "metadata": {},
   "outputs": [],
   "source": [
    "class skills():\n",
    "    def __init__(sach,name,age,number):\n",
    "        sach.name1=name\n",
    "        sach.age1=age\n",
    "        sach.number1=number\n",
    "    def show(sach):\n",
    "        return sach.name1,sach.age1,sach.number1\n",
    "\n",
    "        "
   ]
  },
  {
   "cell_type": "code",
   "execution_count": 2,
   "id": "14b9ef11-c4fd-42e0-b735-ba9e47699645",
   "metadata": {},
   "outputs": [
    {
     "data": {
      "text/plain": [
       "('Bandi', 43, 87690876)"
      ]
     },
     "execution_count": 2,
     "metadata": {},
     "output_type": "execute_result"
    }
   ],
   "source": [
    "ved=skills(\"Bandi\",43,87690876)\n",
    "ved.show()"
   ]
  },
  {
   "cell_type": "code",
   "execution_count": 3,
   "id": "829e489e-d659-409a-a41a-fb87054eaae5",
   "metadata": {},
   "outputs": [
    {
     "data": {
      "text/plain": [
       "'Bandi'"
      ]
     },
     "execution_count": 3,
     "metadata": {},
     "output_type": "execute_result"
    }
   ],
   "source": [
    "ved.name1"
   ]
  },
  {
   "cell_type": "code",
   "execution_count": 4,
   "id": "69080f22-aadc-46bc-82c1-b383f295e5ae",
   "metadata": {},
   "outputs": [
    {
     "data": {
      "text/plain": [
       "43"
      ]
     },
     "execution_count": 4,
     "metadata": {},
     "output_type": "execute_result"
    }
   ],
   "source": [
    "ved.age1"
   ]
  },
  {
   "cell_type": "code",
   "execution_count": 5,
   "id": "18cac0ea-ac2b-42ca-a100-431e6695e9e5",
   "metadata": {},
   "outputs": [
    {
     "data": {
      "text/plain": [
       "87690876"
      ]
     },
     "execution_count": 5,
     "metadata": {},
     "output_type": "execute_result"
    }
   ],
   "source": [
    "ved.number1"
   ]
  },
  {
   "cell_type": "code",
   "execution_count": 6,
   "id": "6d6d2660-7dc0-4115-939d-c5cb443cdfb9",
   "metadata": {},
   "outputs": [],
   "source": [
    "ved.number1=9008326406"
   ]
  },
  {
   "cell_type": "code",
   "execution_count": 7,
   "id": "3ddaf2c0-cf45-4438-ac63-e8363a1b7d44",
   "metadata": {},
   "outputs": [
    {
     "data": {
      "text/plain": [
       "9008326406"
      ]
     },
     "execution_count": 7,
     "metadata": {},
     "output_type": "execute_result"
    }
   ],
   "source": [
    "ved.number1"
   ]
  },
  {
   "cell_type": "code",
   "execution_count": 8,
   "id": "0ac1cd64-c98d-4518-a5ca-1c918d33bff7",
   "metadata": {},
   "outputs": [
    {
     "data": {
      "text/plain": [
       "('Bandi', 43, 9008326406)"
      ]
     },
     "execution_count": 8,
     "metadata": {},
     "output_type": "execute_result"
    }
   ],
   "source": [
    "ved.show()"
   ]
  },
  {
   "cell_type": "code",
   "execution_count": 11,
   "id": "9310ec47-22ef-4f69-89f3-fec4c2139b8a",
   "metadata": {},
   "outputs": [
    {
     "name": "stdin",
     "output_type": "stream",
     "text": [
      "Enter Your Name Please: d\n",
      "Enter Your age  Please: d\n",
      "Enter Your Number Please: 3\n"
     ]
    },
    {
     "data": {
      "text/plain": [
       "('d', 'd', 3)"
      ]
     },
     "execution_count": 11,
     "metadata": {},
     "output_type": "execute_result"
    }
   ],
   "source": [
    "#a=input(\"Enter Your Name Please:\")\n",
    "#b=input(\"Enter Your age  Please:\")\n",
    "#c=int(input(\"Enter Your Number Please:\"))\n",
    "sach=skills(a,b,c)\n",
    "sach.show()"
   ]
  },
  {
   "cell_type": "code",
   "execution_count": 13,
   "id": "18a77e6c-d706-4207-8332-5f0aaed5c9f2",
   "metadata": {},
   "outputs": [
    {
     "data": {
      "text/plain": [
       "3"
      ]
     },
     "execution_count": 13,
     "metadata": {},
     "output_type": "execute_result"
    }
   ],
   "source": [
    "sach.number1"
   ]
  },
  {
   "cell_type": "code",
   "execution_count": null,
   "id": "7208429f-eb85-4640-b3ad-b24031fa2898",
   "metadata": {},
   "outputs": [],
   "source": []
  },
  {
   "cell_type": "code",
   "execution_count": null,
   "id": "8726ace6-7e40-41b4-8682-8b15f104d538",
   "metadata": {},
   "outputs": [],
   "source": []
  }
 ],
 "metadata": {
  "kernelspec": {
   "display_name": "Python 3 (ipykernel)",
   "language": "python",
   "name": "python3"
  },
  "language_info": {
   "codemirror_mode": {
    "name": "ipython",
    "version": 3
   },
   "file_extension": ".py",
   "mimetype": "text/x-python",
   "name": "python",
   "nbconvert_exporter": "python",
   "pygments_lexer": "ipython3",
   "version": "3.10.8"
  }
 },
 "nbformat": 4,
 "nbformat_minor": 5
}
