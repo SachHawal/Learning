{
 "cells": [
  {
   "cell_type": "code",
   "execution_count": 15,
   "id": "8b504f77-3964-413e-b7ff-b43b772d62ab",
   "metadata": {},
   "outputs": [
    {
     "data": {
      "text/plain": [
       "2"
      ]
     },
     "execution_count": 15,
     "metadata": {},
     "output_type": "execute_result"
    }
   ],
   "source": [
    "1+1"
   ]
  },
  {
   "cell_type": "code",
   "execution_count": 18,
   "id": "6b61c50f-6d3b-417d-a634-9f6ebb7ee78d",
   "metadata": {},
   "outputs": [
    {
     "data": {
      "text/plain": [
       "25"
      ]
     },
     "execution_count": 18,
     "metadata": {},
     "output_type": "execute_result"
    }
   ],
   "source": [
    "5*5"
   ]
  },
  {
   "cell_type": "code",
   "execution_count": 19,
   "id": "b9e62cf9-c39a-4e53-916a-ed6cf44b7152",
   "metadata": {},
   "outputs": [],
   "source": [
    "#Python: python its a programing langauge supports opps as well as scripting \n",
    "#scripting: code o hum likte hai line by line or unstructured code which written without oops concept \n"
   ]
  },
  {
   "cell_type": "code",
   "execution_count": 20,
   "id": "93649d40-fe2c-4fe5-b481-b28123a1e6cc",
   "metadata": {},
   "outputs": [
    {
     "name": "stdout",
     "output_type": "stream",
     "text": [
      "10\n"
     ]
    }
   ],
   "source": [
    "#Variable:\n",
    "a=10  # \"a\" here A is a variable \n",
    "print(a)"
   ]
  },
  {
   "cell_type": "code",
   "execution_count": 8,
   "id": "a576fa26-2437-482a-9acc-38f3f96b56b3",
   "metadata": {},
   "outputs": [
    {
     "data": {
      "text/plain": [
       "10"
      ]
     },
     "execution_count": 8,
     "metadata": {},
     "output_type": "execute_result"
    }
   ],
   "source": [
    "a"
   ]
  },
  {
   "cell_type": "code",
   "execution_count": 10,
   "id": "a0fbc498-82d3-4fdd-aabc-a57c358671fa",
   "metadata": {},
   "outputs": [],
   "source": [
    "sach=10"
   ]
  },
  {
   "cell_type": "code",
   "execution_count": 12,
   "id": "3f42f539-868c-4e04-add9-8d1ee466e798",
   "metadata": {},
   "outputs": [
    {
     "data": {
      "text/plain": [
       "10"
      ]
     },
     "execution_count": 12,
     "metadata": {},
     "output_type": "execute_result"
    }
   ],
   "source": [
    "sach"
   ]
  },
  {
   "cell_type": "code",
   "execution_count": 15,
   "id": "09b22892-dd81-44d3-adad-a237bb2232d4",
   "metadata": {},
   "outputs": [
    {
     "data": {
      "text/plain": [
       "20"
      ]
     },
     "execution_count": 15,
     "metadata": {},
     "output_type": "execute_result"
    }
   ],
   "source": [
    "sach+a"
   ]
  },
  {
   "cell_type": "code",
   "execution_count": 17,
   "id": "fdba8314-051a-4c39-bb9a-393b798d1331",
   "metadata": {},
   "outputs": [
    {
     "data": {
      "text/plain": [
       "int"
      ]
     },
     "execution_count": 17,
     "metadata": {},
     "output_type": "execute_result"
    }
   ],
   "source": [
    "type(sach)\n"
   ]
  },
  {
   "cell_type": "code",
   "execution_count": 19,
   "id": "377f67b5-6f17-4899-969f-34c1e9a79b39",
   "metadata": {},
   "outputs": [
    {
     "data": {
      "text/plain": [
       "int"
      ]
     },
     "execution_count": 19,
     "metadata": {},
     "output_type": "execute_result"
    }
   ],
   "source": [
    "type(a)"
   ]
  },
  {
   "cell_type": "code",
   "execution_count": 20,
   "id": "d261c066-5fa5-4d2b-bb9e-304d8a6a037e",
   "metadata": {},
   "outputs": [],
   "source": [
    "b=2.09"
   ]
  },
  {
   "cell_type": "code",
   "execution_count": 21,
   "id": "cea54167-47ea-46bd-8031-b4ebd9ed784e",
   "metadata": {},
   "outputs": [
    {
     "data": {
      "text/plain": [
       "2.09"
      ]
     },
     "execution_count": 21,
     "metadata": {},
     "output_type": "execute_result"
    }
   ],
   "source": [
    "b"
   ]
  },
  {
   "cell_type": "code",
   "execution_count": 23,
   "id": "726651f9-8179-43ee-8e72-06eb7344b1a2",
   "metadata": {},
   "outputs": [
    {
     "data": {
      "text/plain": [
       "float"
      ]
     },
     "execution_count": 23,
     "metadata": {},
     "output_type": "execute_result"
    }
   ],
   "source": [
    "type(b)"
   ]
  },
  {
   "cell_type": "code",
   "execution_count": 24,
   "id": "ff0177f1-d218-4cd5-9f9d-fd6864e04b12",
   "metadata": {},
   "outputs": [],
   "source": [
    "c=45.123454"
   ]
  },
  {
   "cell_type": "code",
   "execution_count": 26,
   "id": "a47947cf-8a64-4045-8ede-38c4b4d2ef59",
   "metadata": {},
   "outputs": [
    {
     "data": {
      "text/plain": [
       "float"
      ]
     },
     "execution_count": 26,
     "metadata": {},
     "output_type": "execute_result"
    }
   ],
   "source": [
    "type(c)"
   ]
  },
  {
   "cell_type": "code",
   "execution_count": 30,
   "id": "76ff9cda-271f-44a7-9491-ce779b361fb9",
   "metadata": {},
   "outputs": [
    {
     "data": {
      "text/plain": [
       "str"
      ]
     },
     "execution_count": 30,
     "metadata": {},
     "output_type": "execute_result"
    }
   ],
   "source": [
    "d=\"sac\"\n",
    "d\n",
    "type(d)"
   ]
  },
  {
   "cell_type": "code",
   "execution_count": 57,
   "id": "f187796f-2f14-411b-97b6-8a002a4881d9",
   "metadata": {},
   "outputs": [
    {
     "name": "stdout",
     "output_type": "stream",
     "text": [
      "Hi my name is sach\n"
     ]
    }
   ],
   "source": [
    "e='Hi my name is sach'\n",
    "e\n",
    "print(e)"
   ]
  },
  {
   "cell_type": "code",
   "execution_count": 34,
   "id": "39b8a567-48b0-4674-9444-cf1577acc662",
   "metadata": {},
   "outputs": [],
   "source": [
    "#Boolean   True=1,  False=0\n",
    "a=True\n",
    "b=False"
   ]
  },
  {
   "cell_type": "code",
   "execution_count": 36,
   "id": "fcdd8e79-066e-42fd-899b-d8d2f15f6dbf",
   "metadata": {},
   "outputs": [
    {
     "data": {
      "text/plain": [
       "bool"
      ]
     },
     "execution_count": 36,
     "metadata": {},
     "output_type": "execute_result"
    }
   ],
   "source": [
    "type(a)"
   ]
  },
  {
   "cell_type": "code",
   "execution_count": 37,
   "id": "ea23eb8d-d7ed-40ed-9fe1-1f8d3fe21b96",
   "metadata": {},
   "outputs": [],
   "source": [
    "n=True"
   ]
  },
  {
   "cell_type": "code",
   "execution_count": 38,
   "id": "b0521602-e08c-44f7-a0b3-73279b8ebe9b",
   "metadata": {},
   "outputs": [],
   "source": [
    "m=False"
   ]
  },
  {
   "cell_type": "code",
   "execution_count": 40,
   "id": "3c68786d-a368-4caa-b5d7-90215ebf13fe",
   "metadata": {},
   "outputs": [
    {
     "data": {
      "text/plain": [
       "1"
      ]
     },
     "execution_count": 40,
     "metadata": {},
     "output_type": "execute_result"
    }
   ],
   "source": [
    "m+n"
   ]
  },
  {
   "cell_type": "code",
   "execution_count": 41,
   "id": "82f710b0-a2cd-465e-9a4e-c79c4064d70f",
   "metadata": {},
   "outputs": [
    {
     "data": {
      "text/plain": [
       "1"
      ]
     },
     "execution_count": 41,
     "metadata": {},
     "output_type": "execute_result"
    }
   ],
   "source": [
    "True*True"
   ]
  },
  {
   "cell_type": "code",
   "execution_count": 44,
   "id": "cd23d691-f892-4b53-be66-8296339d5dc4",
   "metadata": {},
   "outputs": [
    {
     "data": {
      "text/plain": [
       "0"
      ]
     },
     "execution_count": 44,
     "metadata": {},
     "output_type": "execute_result"
    }
   ],
   "source": [
    "True*False"
   ]
  },
  {
   "cell_type": "code",
   "execution_count": 45,
   "id": "022c98e3-a046-43a3-aaa2-44e74aece868",
   "metadata": {},
   "outputs": [
    {
     "ename": "ZeroDivisionError",
     "evalue": "division by zero",
     "output_type": "error",
     "traceback": [
      "\u001b[0;31m---------------------------------------------------------------------------\u001b[0m",
      "\u001b[0;31mZeroDivisionError\u001b[0m                         Traceback (most recent call last)",
      "Cell \u001b[0;32mIn[45], line 1\u001b[0m\n\u001b[0;32m----> 1\u001b[0m \u001b[38;5;28;43;01mTrue\u001b[39;49;00m\u001b[43m \u001b[49m\u001b[38;5;241;43m/\u001b[39;49m\u001b[43m \u001b[49m\u001b[38;5;28;43;01mFalse\u001b[39;49;00m\n",
      "\u001b[0;31mZeroDivisionError\u001b[0m: division by zero"
     ]
    }
   ],
   "source": [
    "True / False"
   ]
  },
  {
   "cell_type": "code",
   "execution_count": 50,
   "id": "2442c079-c3c7-48ac-a9f1-5a9ee18e789b",
   "metadata": {},
   "outputs": [
    {
     "data": {
      "text/plain": [
       "complex"
      ]
     },
     "execution_count": 50,
     "metadata": {},
     "output_type": "execute_result"
    }
   ],
   "source": [
    "#Complex Number   \"\"\"Complex number is nothing but real number and imaginery number\"\"\"\n",
    "v = 5+8j\n",
    "type(v)"
   ]
  },
  {
   "cell_type": "code",
   "execution_count": 49,
   "id": "ed0abf4d-5d16-4070-80ee-a35e1aac6149",
   "metadata": {},
   "outputs": [
    {
     "data": {
      "text/plain": [
       "5.0"
      ]
     },
     "execution_count": 49,
     "metadata": {},
     "output_type": "execute_result"
    }
   ],
   "source": [
    "v.real "
   ]
  },
  {
   "cell_type": "code",
   "execution_count": 52,
   "id": "473544e8-57ed-4ce4-ba80-c08d3ea2dc65",
   "metadata": {},
   "outputs": [
    {
     "data": {
      "text/plain": [
       "8.0"
      ]
     },
     "execution_count": 52,
     "metadata": {},
     "output_type": "execute_result"
    }
   ],
   "source": [
    "v.imag"
   ]
  },
  {
   "cell_type": "code",
   "execution_count": 53,
   "id": "88203ddd-5eb8-41f6-8901-7cd0ce20d72c",
   "metadata": {},
   "outputs": [
    {
     "data": {
      "text/plain": [
       "<function complex.conjugate()>"
      ]
     },
     "execution_count": 53,
     "metadata": {},
     "output_type": "execute_result"
    }
   ],
   "source": [
    "v.conjugate"
   ]
  },
  {
   "cell_type": "code",
   "execution_count": 58,
   "id": "54cf8a8a-4315-496f-b9c3-0244f3c64f1c",
   "metadata": {},
   "outputs": [
    {
     "data": {
      "text/plain": [
       "(5+8j)"
      ]
     },
     "execution_count": 58,
     "metadata": {},
     "output_type": "execute_result"
    }
   ],
   "source": [
    "v"
   ]
  },
  {
   "cell_type": "code",
   "execution_count": 60,
   "id": "e3a4bb1a-ec60-4b4b-b2a7-b23641a26deb",
   "metadata": {},
   "outputs": [
    {
     "name": "stdout",
     "output_type": "stream",
     "text": [
      "sach hawal\n"
     ]
    }
   ],
   "source": [
    "sach=\"sach hawal\"\n",
    "print(sach)"
   ]
  },
  {
   "cell_type": "code",
   "execution_count": 70,
   "id": "9f327b21-ba69-4753-be95-a767f0248af4",
   "metadata": {},
   "outputs": [
    {
     "name": "stdout",
     "output_type": "stream",
     "text": [
      "pwskills\n"
     ]
    },
    {
     "data": {
      "text/plain": [
       "str"
      ]
     },
     "execution_count": 70,
     "metadata": {},
     "output_type": "execute_result"
    }
   ],
   "source": [
    "s=\"pwskills\"\n",
    "print(s)\n",
    "type(s)\n",
    "#\"-8 -7 -6 - 5 -4 -3 -2 -1\"\n",
    "#\"p w s k i l l s\"\n",
    "#\"0 1 2 3 4 5 6 7\""
   ]
  },
  {
   "cell_type": "code",
   "execution_count": 63,
   "id": "9906e131-66f8-498a-af7d-abae4a3003b5",
   "metadata": {},
   "outputs": [
    {
     "data": {
      "text/plain": [
       "'p'"
      ]
     },
     "execution_count": 63,
     "metadata": {},
     "output_type": "execute_result"
    }
   ],
   "source": [
    "s[0]"
   ]
  },
  {
   "cell_type": "code",
   "execution_count": 65,
   "id": "fc99d78c-1d3a-4538-b2e0-a22603cb57f1",
   "metadata": {},
   "outputs": [
    {
     "data": {
      "text/plain": [
       "'s'"
      ]
     },
     "execution_count": 65,
     "metadata": {},
     "output_type": "execute_result"
    }
   ],
   "source": [
    "s[2]"
   ]
  },
  {
   "cell_type": "code",
   "execution_count": 68,
   "id": "65c0a43c-d25a-4530-bb70-798b7e7ac1b7",
   "metadata": {},
   "outputs": [
    {
     "data": {
      "text/plain": [
       "'k'"
      ]
     },
     "execution_count": 68,
     "metadata": {},
     "output_type": "execute_result"
    }
   ],
   "source": [
    "s[3]"
   ]
  },
  {
   "cell_type": "code",
   "execution_count": 72,
   "id": "c9c1da98-4baa-403a-bce2-5c097fe95f9c",
   "metadata": {},
   "outputs": [
    {
     "data": {
      "text/plain": [
       "'s'"
      ]
     },
     "execution_count": 72,
     "metadata": {},
     "output_type": "execute_result"
    }
   ],
   "source": [
    "#backword indexing \n",
    "s[-1]"
   ]
  },
  {
   "cell_type": "code",
   "execution_count": 74,
   "id": "868968b5-6a14-4b3e-9b52-7e884a75efa1",
   "metadata": {},
   "outputs": [
    {
     "data": {
      "text/plain": [
       "'p'"
      ]
     },
     "execution_count": 74,
     "metadata": {},
     "output_type": "execute_result"
    }
   ],
   "source": [
    "s[-8]"
   ]
  },
  {
   "cell_type": "code",
   "execution_count": 78,
   "id": "955663df-49d5-4a4f-98bb-89c90b173664",
   "metadata": {},
   "outputs": [
    {
     "data": {
      "text/plain": [
       "'pws'"
      ]
     },
     "execution_count": 78,
     "metadata": {},
     "output_type": "execute_result"
    }
   ],
   "source": [
    "s[0:3]"
   ]
  },
  {
   "cell_type": "code",
   "execution_count": 79,
   "id": "136bcd08-7fee-4546-aec1-dc3c16cc3eb6",
   "metadata": {},
   "outputs": [
    {
     "data": {
      "text/plain": [
       "'pwsk'"
      ]
     },
     "execution_count": 79,
     "metadata": {},
     "output_type": "execute_result"
    }
   ],
   "source": [
    "s[0:4]"
   ]
  },
  {
   "cell_type": "code",
   "execution_count": 82,
   "id": "6d25ae6d-ed07-437b-944e-a92bfc7dd5fc",
   "metadata": {},
   "outputs": [
    {
     "data": {
      "text/plain": [
       "'pw'"
      ]
     },
     "execution_count": 82,
     "metadata": {},
     "output_type": "execute_result"
    }
   ],
   "source": [
    "s[0:2]"
   ]
  },
  {
   "cell_type": "code",
   "execution_count": 87,
   "id": "9b9450a9-287b-4f81-bb57-efc867699028",
   "metadata": {},
   "outputs": [
    {
     "data": {
      "text/plain": [
       "'psil'"
      ]
     },
     "execution_count": 87,
     "metadata": {},
     "output_type": "execute_result"
    }
   ],
   "source": [
    "s[0:7:2]b"
   ]
  },
  {
   "cell_type": "code",
   "execution_count": 89,
   "id": "c2b8e244-3418-4829-b43a-b543fcd19253",
   "metadata": {},
   "outputs": [
    {
     "data": {
      "text/plain": [
       "'ps'"
      ]
     },
     "execution_count": 89,
     "metadata": {},
     "output_type": "execute_result"
    }
   ],
   "source": [
    "s[0:4:2]"
   ]
  },
  {
   "cell_type": "code",
   "execution_count": 90,
   "id": "e78888e5-f9a6-4f3c-a1ee-d7d42d058c59",
   "metadata": {},
   "outputs": [
    {
     "data": {
      "text/plain": [
       "'psil'"
      ]
     },
     "execution_count": 90,
     "metadata": {},
     "output_type": "execute_result"
    }
   ],
   "source": [
    "s[::2]"
   ]
  },
  {
   "cell_type": "code",
   "execution_count": 94,
   "id": "6bec66f6-f89e-4acb-9fdf-2a674e97b6c2",
   "metadata": {},
   "outputs": [
    {
     "data": {
      "text/plain": [
       "'sil'"
      ]
     },
     "execution_count": 94,
     "metadata": {},
     "output_type": "execute_result"
    }
   ],
   "source": [
    "s[2::2]"
   ]
  },
  {
   "cell_type": "code",
   "execution_count": 96,
   "id": "d33cff94-c227-4f44-96c7-75aa4b7ecc74",
   "metadata": {},
   "outputs": [
    {
     "ename": "ValueError",
     "evalue": "slice step cannot be zero",
     "output_type": "error",
     "traceback": [
      "\u001b[0;31m---------------------------------------------------------------------------\u001b[0m",
      "\u001b[0;31mValueError\u001b[0m                                Traceback (most recent call last)",
      "Cell \u001b[0;32mIn[96], line 1\u001b[0m\n\u001b[0;32m----> 1\u001b[0m \u001b[43ms\u001b[49m\u001b[43m[\u001b[49m\u001b[38;5;241;43m2\u001b[39;49m\u001b[43m:\u001b[49m\u001b[43m:\u001b[49m\u001b[38;5;241;43m0\u001b[39;49m\u001b[43m]\u001b[49m\n",
      "\u001b[0;31mValueError\u001b[0m: slice step cannot be zero"
     ]
    }
   ],
   "source": [
    "s[2::0]"
   ]
  },
  {
   "cell_type": "code",
   "execution_count": 98,
   "id": "3ba42f92-a0ef-448f-a417-893eec0d21db",
   "metadata": {},
   "outputs": [
    {
     "data": {
      "text/plain": [
       "'skills'"
      ]
     },
     "execution_count": 98,
     "metadata": {},
     "output_type": "execute_result"
    }
   ],
   "source": [
    "s[2::1]"
   ]
  },
  {
   "cell_type": "code",
   "execution_count": 101,
   "id": "74ea0b81-d925-48e3-aab9-38b85853f789",
   "metadata": {},
   "outputs": [
    {
     "data": {
      "text/plain": [
       "'sllikswp'"
      ]
     },
     "execution_count": 101,
     "metadata": {},
     "output_type": "execute_result"
    }
   ],
   "source": [
    "s[::-1]"
   ]
  },
  {
   "cell_type": "code",
   "execution_count": 103,
   "id": "367c0b46-56ec-4db4-abb0-5f5fd397535e",
   "metadata": {},
   "outputs": [
    {
     "data": {
      "text/plain": [
       "''"
      ]
     },
     "execution_count": 103,
     "metadata": {},
     "output_type": "execute_result"
    }
   ],
   "source": [
    "s[2:7:-1]"
   ]
  },
  {
   "cell_type": "code",
   "execution_count": 105,
   "id": "da7afa77-7ec5-40c8-9979-891dc4b8f448",
   "metadata": {},
   "outputs": [
    {
     "data": {
      "text/plain": [
       "''"
      ]
     },
     "execution_count": 105,
     "metadata": {},
     "output_type": "execute_result"
    }
   ],
   "source": [
    "s[8:0] "
   ]
  },
  {
   "cell_type": "code",
   "execution_count": 108,
   "id": "01881eed-a48d-4886-b976-dfd7cdac9d29",
   "metadata": {},
   "outputs": [
    {
     "data": {
      "text/plain": [
       "'slliksw'"
      ]
     },
     "execution_count": 108,
     "metadata": {},
     "output_type": "execute_result"
    }
   ],
   "source": [
    "s[8:0:-1]"
   ]
  },
  {
   "cell_type": "code",
   "execution_count": 110,
   "id": "bfbe4319-7a62-412f-b898-79d70a6fa5a5",
   "metadata": {},
   "outputs": [
    {
     "data": {
      "text/plain": [
       "''"
      ]
     },
     "execution_count": 110,
     "metadata": {},
     "output_type": "execute_result"
    }
   ],
   "source": [
    "s[-2:-8:1]"
   ]
  },
  {
   "cell_type": "code",
   "execution_count": 112,
   "id": "462d1151-831f-4daf-beae-e504b6b10b08",
   "metadata": {},
   "outputs": [
    {
     "data": {
      "text/plain": [
       "'lliksw'"
      ]
     },
     "execution_count": 112,
     "metadata": {},
     "output_type": "execute_result"
    }
   ],
   "source": [
    "s[-2:-8:-1"
   ]
  },
  {
   "cell_type": "code",
   "execution_count": 115,
   "id": "82f606b4-674b-4192-9e30-9aa25eafa590",
   "metadata": {},
   "outputs": [
    {
     "data": {
      "text/plain": [
       "'llikswp'"
      ]
     },
     "execution_count": 115,
     "metadata": {},
     "output_type": "execute_result"
    }
   ],
   "source": [
    "s[-2::-1]"
   ]
  },
  {
   "cell_type": "code",
   "execution_count": 121,
   "id": "0c84d950-8d09-4cfd-8183-fb9420e9b7c1",
   "metadata": {},
   "outputs": [
    {
     "data": {
      "text/plain": [
       "'sllikswp'"
      ]
     },
     "execution_count": 121,
     "metadata": {},
     "output_type": "execute_result"
    }
   ],
   "source": [
    "s[::-1]"
   ]
  },
  {
   "cell_type": "code",
   "execution_count": 123,
   "id": "8362447c-2843-4e8d-992f-75ca1c74daac",
   "metadata": {},
   "outputs": [
    {
     "data": {
      "text/plain": [
       "'pwskills'"
      ]
     },
     "execution_count": 123,
     "metadata": {},
     "output_type": "execute_result"
    }
   ],
   "source": [
    "s[::1]"
   ]
  },
  {
   "cell_type": "code",
   "execution_count": 125,
   "id": "6fb94c9f-f652-4135-80fd-88e30397edff",
   "metadata": {},
   "outputs": [
    {
     "ename": "IndexError",
     "evalue": "string index out of range",
     "output_type": "error",
     "traceback": [
      "\u001b[0;31m---------------------------------------------------------------------------\u001b[0m",
      "\u001b[0;31mIndexError\u001b[0m                                Traceback (most recent call last)",
      "Cell \u001b[0;32mIn[125], line 1\u001b[0m\n\u001b[0;32m----> 1\u001b[0m \u001b[43ms\u001b[49m\u001b[43m[\u001b[49m\u001b[38;5;241;43m90\u001b[39;49m\u001b[43m]\u001b[49m\n",
      "\u001b[0;31mIndexError\u001b[0m: string index out of range"
     ]
    }
   ],
   "source": [
    "s[90]"
   ]
  },
  {
   "cell_type": "code",
   "execution_count": 126,
   "id": "140bd318-e8b7-4773-934f-953f8d6d72c5",
   "metadata": {},
   "outputs": [
    {
     "data": {
      "text/plain": [
       "'sllikswp'"
      ]
     },
     "execution_count": 126,
     "metadata": {},
     "output_type": "execute_result"
    }
   ],
   "source": [
    "s[:-9000:-1]"
   ]
  },
  {
   "cell_type": "code",
   "execution_count": 127,
   "id": "0670298f-704d-4087-8ba0-7d7431739a66",
   "metadata": {},
   "outputs": [
    {
     "data": {
      "text/plain": [
       "'sllikswp'"
      ]
     },
     "execution_count": 127,
     "metadata": {},
     "output_type": "execute_result"
    }
   ],
   "source": [
    "s[::-1]"
   ]
  },
  {
   "cell_type": "code",
   "execution_count": 129,
   "id": "b8c0c168-fd94-4d88-ad9a-768221eec13c",
   "metadata": {},
   "outputs": [
    {
     "data": {
      "text/plain": [
       "'lliksw'"
      ]
     },
     "execution_count": 129,
     "metadata": {},
     "output_type": "execute_result"
    }
   ],
   "source": [
    "s[-2:-8:-1]"
   ]
  },
  {
   "cell_type": "code",
   "execution_count": 137,
   "id": "cb06084a-4ac9-4505-a632-68fcf291040c",
   "metadata": {},
   "outputs": [
    {
     "data": {
      "text/plain": [
       "'2'"
      ]
     },
     "execution_count": 137,
     "metadata": {},
     "output_type": "execute_result"
    }
   ],
   "source": [
    "c=200\n",
    "h=str(c)\n",
    "h[0]"
   ]
  },
  {
   "cell_type": "code",
   "execution_count": 10,
   "id": "46590c33-d939-4837-bff0-aa9ff618143c",
   "metadata": {},
   "outputs": [
    {
     "data": {
      "text/plain": [
       "20"
      ]
     },
     "execution_count": 10,
     "metadata": {},
     "output_type": "execute_result"
    }
   ],
   "source": [
    "s1=\"Hi My name is sachin\"\n",
    "len(s1)"
   ]
  },
  {
   "cell_type": "code",
   "execution_count": 11,
   "id": "368f2304-378f-4f20-9a67-98c07da614bc",
   "metadata": {},
   "outputs": [
    {
     "ename": "TypeError",
     "evalue": "'str' object does not support item assignment",
     "output_type": "error",
     "traceback": [
      "\u001b[0;31m---------------------------------------------------------------------------\u001b[0m",
      "\u001b[0;31mTypeError\u001b[0m                                 Traceback (most recent call last)",
      "Cell \u001b[0;32mIn[11], line 1\u001b[0m\n\u001b[0;32m----> 1\u001b[0m \u001b[43ms1\u001b[49m\u001b[43m[\u001b[49m\u001b[38;5;124;43m\"\u001b[39;49m\u001b[38;5;124;43mHi\u001b[39;49m\u001b[38;5;124;43m\"\u001b[39;49m\u001b[43m]\u001b[49m\u001b[38;5;241m=\u001b[39m\u001b[38;5;124m\"\u001b[39m\u001b[38;5;124mby\u001b[39m\u001b[38;5;124m\"\u001b[39m\n",
      "\u001b[0;31mTypeError\u001b[0m: 'str' object does not support item assignment"
     ]
    }
   ],
   "source": [
    "s1[\"Hi\"]=\"by\""
   ]
  },
  {
   "cell_type": "code",
   "execution_count": 6,
   "id": "20c5f730-e4b7-458c-91d2-b644176990aa",
   "metadata": {},
   "outputs": [
    {
     "data": {
      "text/plain": [
       "12"
      ]
     },
     "execution_count": 6,
     "metadata": {},
     "output_type": "execute_result"
    }
   ],
   "source": [
    "s1.find(\"s\")"
   ]
  },
  {
   "cell_type": "code",
   "execution_count": 7,
   "id": "87a97985-9325-4f3c-a09e-f37345633385",
   "metadata": {},
   "outputs": [
    {
     "data": {
      "text/plain": [
       "1"
      ]
     },
     "execution_count": 7,
     "metadata": {},
     "output_type": "execute_result"
    }
   ],
   "source": [
    "s1.find(\"i\")"
   ]
  },
  {
   "cell_type": "code",
   "execution_count": 148,
   "id": "c6ab46c0-bc8d-4eec-b1a6-2f7dac675c78",
   "metadata": {},
   "outputs": [
    {
     "data": {
      "text/plain": [
       "-1"
      ]
     },
     "execution_count": 148,
     "metadata": {},
     "output_type": "execute_result"
    }
   ],
   "source": [
    "s1.find(\"Si\")"
   ]
  },
  {
   "cell_type": "code",
   "execution_count": 152,
   "id": "b4da19e8-c514-4bb5-b885-2ae1421deda9",
   "metadata": {},
   "outputs": [
    {
     "data": {
      "text/plain": [
       "3"
      ]
     },
     "execution_count": 152,
     "metadata": {},
     "output_type": "execute_result"
    }
   ],
   "source": [
    "s1.count(\"i\")"
   ]
  },
  {
   "cell_type": "code",
   "execution_count": 154,
   "id": "d056706f-115a-4dbf-b48d-d9cee3708b3a",
   "metadata": {},
   "outputs": [
    {
     "data": {
      "text/plain": [
       "0"
      ]
     },
     "execution_count": 154,
     "metadata": {},
     "output_type": "execute_result"
    }
   ],
   "source": [
    "s1.count(\"st\")"
   ]
  },
  {
   "cell_type": "code",
   "execution_count": 156,
   "id": "a0ac98ec-d23c-4207-9ba0-10ebd994daef",
   "metadata": {},
   "outputs": [
    {
     "data": {
      "text/plain": [
       "'HI MY NAME IS SACHIN'"
      ]
     },
     "execution_count": 156,
     "metadata": {},
     "output_type": "execute_result"
    }
   ],
   "source": [
    "s1.upper()"
   ]
  },
  {
   "cell_type": "code",
   "execution_count": 159,
   "id": "79e19120-3f74-4b22-94d6-b4519f40eb23",
   "metadata": {},
   "outputs": [
    {
     "data": {
      "text/plain": [
       "'hi my name is sachin'"
      ]
     },
     "execution_count": 159,
     "metadata": {},
     "output_type": "execute_result"
    }
   ],
   "source": [
    "s2='HI MY NAME IS SACHIN'\n",
    "s2.lower()"
   ]
  },
  {
   "cell_type": "code",
   "execution_count": 161,
   "id": "306e6b4a-8a94-4ad5-9434-077f43149175",
   "metadata": {},
   "outputs": [
    {
     "data": {
      "text/plain": [
       "'Hi My Name Is Sachin'"
      ]
     },
     "execution_count": 161,
     "metadata": {},
     "output_type": "execute_result"
    }
   ],
   "source": [
    "s1.title()"
   ]
  },
  {
   "cell_type": "code",
   "execution_count": 163,
   "id": "6708d35b-751c-4e21-9229-76ca2cb9b623",
   "metadata": {},
   "outputs": [
    {
     "data": {
      "text/plain": [
       "'Hi my name is sachin'"
      ]
     },
     "execution_count": 163,
     "metadata": {},
     "output_type": "execute_result"
    }
   ],
   "source": [
    "s1.capitalize()"
   ]
  },
  {
   "cell_type": "code",
   "execution_count": 164,
   "id": "29e97e97-df14-432d-840c-5b6675d193ca",
   "metadata": {},
   "outputs": [
    {
     "data": {
      "text/plain": [
       "(5+8j)"
      ]
     },
     "execution_count": 164,
     "metadata": {},
     "output_type": "execute_result"
    }
   ],
   "source": [
    "v"
   ]
  },
  {
   "cell_type": "code",
   "execution_count": 165,
   "id": "3ad9a073-3eff-45e0-9cd4-73db1dd47726",
   "metadata": {},
   "outputs": [
    {
     "data": {
      "text/plain": [
       "'pwskills'"
      ]
     },
     "execution_count": 165,
     "metadata": {},
     "output_type": "execute_result"
    }
   ],
   "source": [
    "s"
   ]
  },
  {
   "cell_type": "code",
   "execution_count": 167,
   "id": "981198e7-bb2e-4267-bd35-8fbe4984b882",
   "metadata": {},
   "outputs": [
    {
     "data": {
      "text/plain": [
       "'pwskills1'"
      ]
     },
     "execution_count": 167,
     "metadata": {},
     "output_type": "execute_result"
    }
   ],
   "source": [
    "s+\"1\""
   ]
  },
  {
   "cell_type": "code",
   "execution_count": 169,
   "id": "0df699b7-b8dc-4df9-a4e5-f796fee8de91",
   "metadata": {},
   "outputs": [
    {
     "data": {
      "text/plain": [
       "['pwskills']"
      ]
     },
     "execution_count": 169,
     "metadata": {},
     "output_type": "execute_result"
    }
   ],
   "source": [
    "s.split()"
   ]
  },
  {
   "cell_type": "code",
   "execution_count": 171,
   "id": "daf07d27-0ddd-437e-b3a0-574e27f4bb8b",
   "metadata": {},
   "outputs": [
    {
     "data": {
      "text/plain": [
       "'pwskillspwskillspwskills'"
      ]
     },
     "execution_count": 171,
     "metadata": {},
     "output_type": "execute_result"
    }
   ],
   "source": [
    "s*3"
   ]
  },
  {
   "cell_type": "code",
   "execution_count": 173,
   "id": "f960635d-c336-4092-bb01-5fc481fe4cc2",
   "metadata": {},
   "outputs": [
    {
     "ename": "TypeError",
     "evalue": "unsupported operand type(s) for /: 'str' and 'int'",
     "output_type": "error",
     "traceback": [
      "\u001b[0;31m---------------------------------------------------------------------------\u001b[0m",
      "\u001b[0;31mTypeError\u001b[0m                                 Traceback (most recent call last)",
      "Cell \u001b[0;32mIn[173], line 1\u001b[0m\n\u001b[0;32m----> 1\u001b[0m \u001b[38;5;124;43m\"\u001b[39;49m\u001b[38;5;124;43msach\u001b[39;49m\u001b[38;5;124;43m\"\u001b[39;49m\u001b[43m \u001b[49m\u001b[38;5;241;43m/\u001b[39;49m\u001b[43m \u001b[49m\u001b[38;5;241;43m4\u001b[39;49m\n",
      "\u001b[0;31mTypeError\u001b[0m: unsupported operand type(s) for /: 'str' and 'int'"
     ]
    }
   ],
   "source": [
    "\"sach\" / 4"
   ]
  },
  {
   "cell_type": "code",
   "execution_count": 174,
   "id": "bb3c9a2c-b143-4880-b166-3e2f9046d015",
   "metadata": {},
   "outputs": [
    {
     "ename": "SyntaxError",
     "evalue": "unterminated string literal (detected at line 1) (3360507056.py, line 1)",
     "output_type": "error",
     "traceback": [
      "\u001b[0;36m  Cell \u001b[0;32mIn[174], line 1\u001b[0;36m\u001b[0m\n\u001b[0;31m    'sachin doni't do copy and pase'\u001b[0m\n\u001b[0m                                   ^\u001b[0m\n\u001b[0;31mSyntaxError\u001b[0m\u001b[0;31m:\u001b[0m unterminated string literal (detected at line 1)\n"
     ]
    }
   ],
   "source": [
    "'sachin doni't do copy and pase'\n"
   ]
  },
  {
   "cell_type": "code",
   "execution_count": 4,
   "id": "fb6f4710-2565-46ed-8d10-ab5aa907fa60",
   "metadata": {},
   "outputs": [],
   "source": [
    "#Multiline comment\n",
    "s3=\"\"\"sachin doni't do copy and paste sachin doni't do copy and pastesachin doni't do copy and pastesachin doni't do copy and paste\n",
    "sachin doni't do copy and pastesachin doni't do copy and pastesachin doni't do copy and pastesachin doni't do copy and paste\n",
    "sachin doni't do copy and pastesachin doni't do copy and pastesachin doni't do copy and pastesachin doni't do copy and paste\n",
    "sachin doni't do copy and pastesachin doni't do copy and pastesachin doni't do copy and pastesachin doni't do copy and paste\n",
    "sachin doni't do copy and pastesachin doni't do copy and pastesachin doni't do copy and pastesachin doni't do copy and paste\"\"\""
   ]
  },
  {
   "cell_type": "code",
   "execution_count": 5,
   "id": "11f94598-cea9-470c-99c1-7514e01477e6",
   "metadata": {},
   "outputs": [],
   "source": [
    "#single line comment \n",
    "# sachin doni't do copy and paste sachin doni't do copy and pastesachin doni't do copy and pastesachin doni't do copy and paste\n",
    "# sachin doni't do copy and pastesachin doni't do copy and pastesachin doni't do copy and pastesachin doni't do copy and paste\n",
    "# sachin doni't do copy and pastesachin doni't do copy and pastesachin doni't do copy and pastesachin doni't do copy and paste\n",
    "# sachin doni't do copy and pastesachin doni't do copy and pastesachin doni't do copy and pastesachin doni't do copy and paste\n",
    "# sachin doni't do copy and pastesachin doni't do copy and pastesachin doni't do copy and pastesachin doni't do copy and paste"
   ]
  },
  {
   "cell_type": "code",
   "execution_count": 6,
   "id": "991b2e40-9c27-4dd7-9017-605805ca6711",
   "metadata": {},
   "outputs": [
    {
     "data": {
      "text/plain": [
       "\"sachin doni't do copy and paste sachin doni't do copy and pastesachin doni't do copy and pastesachin doni't do copy and paste\\nsachin doni't do copy and pastesachin doni't do copy and pastesachin doni't do copy and pastesachin doni't do copy and paste\\nsachin doni't do copy and pastesachin doni't do copy and pastesachin doni't do copy and pastesachin doni't do copy and paste\\nsachin doni't do copy and pastesachin doni't do copy and pastesachin doni't do copy and pastesachin doni't do copy and paste\\nsachin doni't do copy and pastesachin doni't do copy and pastesachin doni't do copy and pastesachin doni't do copy and paste\""
      ]
     },
     "execution_count": 6,
     "metadata": {},
     "output_type": "execute_result"
    }
   ],
   "source": [
    "s3"
   ]
  }
 ],
 "metadata": {
  "kernelspec": {
   "display_name": "Python 3 (ipykernel)",
   "language": "python",
   "name": "python3"
  },
  "language_info": {
   "codemirror_mode": {
    "name": "ipython",
    "version": 3
   },
   "file_extension": ".py",
   "mimetype": "text/x-python",
   "name": "python",
   "nbconvert_exporter": "python",
   "pygments_lexer": "ipython3",
   "version": "3.10.8"
  }
 },
 "nbformat": 4,
 "nbformat_minor": 5
}
