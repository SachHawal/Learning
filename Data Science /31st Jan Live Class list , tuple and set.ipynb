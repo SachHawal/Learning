{
 "cells": [
  {
   "cell_type": "code",
   "execution_count": 12,
   "id": "3c9fcea9-2674-499a-81b8-955f743ed8a1",
   "metadata": {},
   "outputs": [],
   "source": [
    " i = [1,548,4698, \"sach\", 8+5J,  True ,352.53]\n"
   ]
  },
  {
   "cell_type": "code",
   "execution_count": 13,
   "id": "7f09fa7e-4cd1-4db2-9f98-ca0359ac5f6b",
   "metadata": {},
   "outputs": [
    {
     "data": {
      "text/plain": [
       "list"
      ]
     },
     "execution_count": 13,
     "metadata": {},
     "output_type": "execute_result"
    }
   ],
   "source": [
    "type(i)"
   ]
  },
  {
   "cell_type": "code",
   "execution_count": 15,
   "id": "740b4c61-e011-4f87-9ad6-8b8c166218a1",
   "metadata": {},
   "outputs": [
    {
     "data": {
      "text/plain": [
       "548"
      ]
     },
     "execution_count": 15,
     "metadata": {},
     "output_type": "execute_result"
    }
   ],
   "source": [
    "i[1]"
   ]
  },
  {
   "cell_type": "code",
   "execution_count": 16,
   "id": "3f72c978-7864-412d-88d7-fa043f71501b",
   "metadata": {},
   "outputs": [
    {
     "ename": "IndexError",
     "evalue": "list index out of range",
     "output_type": "error",
     "traceback": [
      "\u001b[0;31m---------------------------------------------------------------------------\u001b[0m",
      "\u001b[0;31mIndexError\u001b[0m                                Traceback (most recent call last)",
      "Cell \u001b[0;32mIn[16], line 1\u001b[0m\n\u001b[0;32m----> 1\u001b[0m \u001b[43mi\u001b[49m\u001b[43m[\u001b[49m\u001b[38;5;241;43m56\u001b[39;49m\u001b[43m]\u001b[49m\n",
      "\u001b[0;31mIndexError\u001b[0m: list index out of range"
     ]
    }
   ],
   "source": [
    "i[56]"
   ]
  },
  {
   "cell_type": "code",
   "execution_count": 18,
   "id": "2af3443b-fa8b-4f03-8b67-d0adc55f3701",
   "metadata": {},
   "outputs": [
    {
     "data": {
      "text/plain": [
       "[1, 548, 4698]"
      ]
     },
     "execution_count": 18,
     "metadata": {},
     "output_type": "execute_result"
    }
   ],
   "source": [
    "i[0:3]"
   ]
  },
  {
   "cell_type": "code",
   "execution_count": 20,
   "id": "d20a773d-88b0-4f66-8518-585d49f52cf5",
   "metadata": {},
   "outputs": [
    {
     "data": {
      "text/plain": [
       "352.53"
      ]
     },
     "execution_count": 20,
     "metadata": {},
     "output_type": "execute_result"
    }
   ],
   "source": [
    "i[-1]"
   ]
  },
  {
   "cell_type": "code",
   "execution_count": 24,
   "id": "623d0b68-2afc-4a9d-b057-c6d551bd2cd7",
   "metadata": {},
   "outputs": [
    {
     "data": {
      "text/plain": [
       "[352.53, (8+5j), 'sach', 4698, 548, 1]"
      ]
     },
     "execution_count": 24,
     "metadata": {},
     "output_type": "execute_result"
    }
   ],
   "source": [
    "i[::-1]"
   ]
  },
  {
   "cell_type": "code",
   "execution_count": 26,
   "id": "9b6c580f-4484-424f-a4b8-027d4bfe7eed",
   "metadata": {},
   "outputs": [],
   "source": [
    "s2=\"sachin hwal\""
   ]
  },
  {
   "cell_type": "code",
   "execution_count": 29,
   "id": "34852d08-37f9-4844-b294-c3d389b903a1",
   "metadata": {},
   "outputs": [
    {
     "data": {
      "text/plain": [
       "['s', 'a', 'c', 'h', 'i', 'n', ' ', 'h', 'w', 'a', 'l']"
      ]
     },
     "execution_count": 29,
     "metadata": {},
     "output_type": "execute_result"
    }
   ],
   "source": [
    "list(s2)"
   ]
  },
  {
   "cell_type": "code",
   "execution_count": 31,
   "id": "f82fca36-9a1a-41fb-a0a6-4fdf7b64ebf6",
   "metadata": {},
   "outputs": [
    {
     "data": {
      "text/plain": [
       "['s',\n",
       " 'a',\n",
       " 'c',\n",
       " 'h',\n",
       " 'i',\n",
       " 'n',\n",
       " ' ',\n",
       " 'h',\n",
       " 'w',\n",
       " 'a',\n",
       " 'l',\n",
       " 1,\n",
       " 548,\n",
       " 4698,\n",
       " 'sach',\n",
       " (8+5j),\n",
       " 352.53]"
      ]
     },
     "execution_count": 31,
     "metadata": {},
     "output_type": "execute_result"
    }
   ],
   "source": [
    "list(s2)+i"
   ]
  },
  {
   "cell_type": "code",
   "execution_count": 33,
   "id": "d146802c-f31f-414c-b0d5-8096e9be53f2",
   "metadata": {},
   "outputs": [
    {
     "data": {
      "text/plain": [
       "'sa'"
      ]
     },
     "execution_count": 33,
     "metadata": {},
     "output_type": "execute_result"
    }
   ],
   "source": [
    "i[3][0:2]"
   ]
  },
  {
   "cell_type": "code",
   "execution_count": 35,
   "id": "eed85357-6bb3-4c45-a3e3-b8b5665de3b8",
   "metadata": {},
   "outputs": [
    {
     "data": {
      "text/plain": [
       "[1, 548, 4698, 'sach', (8+5j), 352.53]"
      ]
     },
     "execution_count": 35,
     "metadata": {},
     "output_type": "execute_result"
    }
   ],
   "source": [
    "i"
   ]
  },
  {
   "cell_type": "code",
   "execution_count": 37,
   "id": "9e5b4705-bf1e-40ef-84af-0a0f8078cf48",
   "metadata": {},
   "outputs": [
    {
     "ename": "TypeError",
     "evalue": "can only concatenate list (not \"int\") to list",
     "output_type": "error",
     "traceback": [
      "\u001b[0;31m---------------------------------------------------------------------------\u001b[0m",
      "\u001b[0;31mTypeError\u001b[0m                                 Traceback (most recent call last)",
      "Cell \u001b[0;32mIn[37], line 1\u001b[0m\n\u001b[0;32m----> 1\u001b[0m \u001b[43mi\u001b[49m\u001b[38;5;241;43m+\u001b[39;49m\u001b[38;5;241;43m5\u001b[39;49m\n",
      "\u001b[0;31mTypeError\u001b[0m: can only concatenate list (not \"int\") to list"
     ]
    }
   ],
   "source": [
    "i+ 5"
   ]
  },
  {
   "cell_type": "code",
   "execution_count": 40,
   "id": "a8458016-dfb4-469c-9ec8-41058a8aabf6",
   "metadata": {},
   "outputs": [],
   "source": [
    "l1=[1,2,3,]\n"
   ]
  },
  {
   "cell_type": "code",
   "execution_count": 43,
   "id": "c633786a-87ea-43dc-8567-e4e2a740e99b",
   "metadata": {},
   "outputs": [
    {
     "data": {
      "text/plain": [
       "[1, 548, 4698, 'sach', (8+5j), 352.53, 1, 2, 3]"
      ]
     },
     "execution_count": 43,
     "metadata": {},
     "output_type": "execute_result"
    }
   ],
   "source": [
    "i+l1"
   ]
  },
  {
   "cell_type": "code",
   "execution_count": 45,
   "id": "99293ac1-d819-402d-b951-620f1e12861d",
   "metadata": {},
   "outputs": [
    {
     "data": {
      "text/plain": [
       "[1, 2, 3]"
      ]
     },
     "execution_count": 45,
     "metadata": {},
     "output_type": "execute_result"
    }
   ],
   "source": [
    "l1"
   ]
  },
  {
   "cell_type": "code",
   "execution_count": 64,
   "id": "dcbfc6e7-3b00-4b95-85d9-d0ca71c48fc2",
   "metadata": {},
   "outputs": [],
   "source": [
    "l=l1 *3\n"
   ]
  },
  {
   "cell_type": "code",
   "execution_count": 52,
   "id": "28d14577-8410-4588-b513-a85ada8bfca6",
   "metadata": {},
   "outputs": [
    {
     "data": {
      "text/plain": [
       "9"
      ]
     },
     "execution_count": 52,
     "metadata": {},
     "output_type": "execute_result"
    }
   ],
   "source": [
    "len(l)"
   ]
  },
  {
   "cell_type": "code",
   "execution_count": 56,
   "id": "c97aee40-c48a-4dbd-b4f9-15b4f4701c4e",
   "metadata": {},
   "outputs": [],
   "source": [
    "l.append(54)"
   ]
  },
  {
   "cell_type": "code",
   "execution_count": 74,
   "id": "790e8ead-17dd-43c9-9e9f-32509baf49e4",
   "metadata": {},
   "outputs": [
    {
     "data": {
      "text/plain": [
       "[1, 2, 3, 1, 2, 3, 1, 2, 3]"
      ]
     },
     "execution_count": 74,
     "metadata": {},
     "output_type": "execute_result"
    }
   ],
   "source": [
    "l"
   ]
  },
  {
   "cell_type": "code",
   "execution_count": 75,
   "id": "c24825ca-92bd-4d2b-af51-7bb18154b949",
   "metadata": {},
   "outputs": [],
   "source": [
    "sa=\"sach\""
   ]
  },
  {
   "cell_type": "code",
   "execution_count": 76,
   "id": "dcc368cc-96dc-499f-ab53-105691d40b0a",
   "metadata": {},
   "outputs": [],
   "source": [
    "l.append(sa)"
   ]
  },
  {
   "cell_type": "code",
   "execution_count": 77,
   "id": "ce7f3a13-922f-4ec0-8dd3-837e6c1bfeab",
   "metadata": {},
   "outputs": [
    {
     "data": {
      "text/plain": [
       "[1, 2, 3, 1, 2, 3, 1, 2, 3, 'sach']"
      ]
     },
     "execution_count": 77,
     "metadata": {},
     "output_type": "execute_result"
    }
   ],
   "source": [
    "l"
   ]
  },
  {
   "cell_type": "code",
   "execution_count": 80,
   "id": "f828e2d2-5a5c-42f9-8d63-861ddb2120a2",
   "metadata": {},
   "outputs": [],
   "source": [
    "l.append(l1)"
   ]
  },
  {
   "cell_type": "code",
   "execution_count": 82,
   "id": "23278db1-b0db-418e-8036-aa9063094c27",
   "metadata": {},
   "outputs": [
    {
     "data": {
      "text/plain": [
       "[1, 2, 3, 1, 2, 3, 1, 2, 3, 'sach', [1, 2, 3], [1, 2, 3], [1, 2, 3]]"
      ]
     },
     "execution_count": 82,
     "metadata": {},
     "output_type": "execute_result"
    }
   ],
   "source": [
    "l"
   ]
  },
  {
   "cell_type": "code",
   "execution_count": 84,
   "id": "b7480397-29fc-4443-8798-87707f962bd2",
   "metadata": {},
   "outputs": [
    {
     "data": {
      "text/plain": [
       "[1, 2, 3]"
      ]
     },
     "execution_count": 84,
     "metadata": {},
     "output_type": "execute_result"
    }
   ],
   "source": [
    "l[-1]"
   ]
  },
  {
   "cell_type": "code",
   "execution_count": 85,
   "id": "3e87f414-d614-4370-9af0-337cd197d7e8",
   "metadata": {},
   "outputs": [
    {
     "data": {
      "text/plain": [
       "2"
      ]
     },
     "execution_count": 85,
     "metadata": {},
     "output_type": "execute_result"
    }
   ],
   "source": [
    "l[-1][1]"
   ]
  },
  {
   "cell_type": "code",
   "execution_count": 86,
   "id": "fefc8a25-0fa9-49ae-9cac-cecbfc7b69e2",
   "metadata": {},
   "outputs": [
    {
     "data": {
      "text/plain": [
       "[1, 2, 3, 1, 2, 3, 1, 2, 3, 'sach', [1, 2, 3], [1, 2, 3], [1, 2, 3]]"
      ]
     },
     "execution_count": 86,
     "metadata": {},
     "output_type": "execute_result"
    }
   ],
   "source": [
    "l"
   ]
  },
  {
   "cell_type": "code",
   "execution_count": 87,
   "id": "a8bd54a9-13fd-4bc4-84da-ff07386281aa",
   "metadata": {},
   "outputs": [
    {
     "ename": "TypeError",
     "evalue": "'int' object is not iterable",
     "output_type": "error",
     "traceback": [
      "\u001b[0;31m---------------------------------------------------------------------------\u001b[0m",
      "\u001b[0;31mTypeError\u001b[0m                                 Traceback (most recent call last)",
      "Cell \u001b[0;32mIn[87], line 1\u001b[0m\n\u001b[0;32m----> 1\u001b[0m \u001b[43ml\u001b[49m\u001b[38;5;241;43m.\u001b[39;49m\u001b[43mextend\u001b[49m\u001b[43m(\u001b[49m\u001b[38;5;241;43m4\u001b[39;49m\u001b[43m)\u001b[49m\n",
      "\u001b[0;31mTypeError\u001b[0m: 'int' object is not iterable"
     ]
    }
   ],
   "source": [
    "l.extend(4)"
   ]
  },
  {
   "cell_type": "code",
   "execution_count": 89,
   "id": "8cc336d2-23a2-4a50-a021-3f5724725ebf",
   "metadata": {},
   "outputs": [],
   "source": [
    "l.extend(\"sach\")"
   ]
  },
  {
   "cell_type": "code",
   "execution_count": 91,
   "id": "18a7aec9-0e2e-4387-bf01-b356448d38d0",
   "metadata": {},
   "outputs": [
    {
     "data": {
      "text/plain": [
       "[1,\n",
       " 2,\n",
       " 3,\n",
       " 1,\n",
       " 2,\n",
       " 3,\n",
       " 1,\n",
       " 2,\n",
       " 3,\n",
       " 'sach',\n",
       " [1, 2, 3],\n",
       " [1, 2, 3],\n",
       " [1, 2, 3],\n",
       " 's',\n",
       " 'a',\n",
       " 'c',\n",
       " 'h',\n",
       " 's',\n",
       " 'a',\n",
       " 'c',\n",
       " 'h']"
      ]
     },
     "execution_count": 91,
     "metadata": {},
     "output_type": "execute_result"
    }
   ],
   "source": [
    "l"
   ]
  },
  {
   "cell_type": "code",
   "execution_count": 92,
   "id": "2ee56394-25db-463a-80fa-3203a8e280e2",
   "metadata": {},
   "outputs": [],
   "source": [
    "sach=[1, 2, 3, 1, 2, 3, 1, 2, 3, 'sach']"
   ]
  },
  {
   "cell_type": "code",
   "execution_count": 94,
   "id": "6238aa36-9cb1-4fad-9aa7-05763964f13e",
   "metadata": {},
   "outputs": [
    {
     "data": {
      "text/plain": [
       "[1, 2, 3, 1, 2, 3, 1, 2, 3, 'sach']"
      ]
     },
     "execution_count": 94,
     "metadata": {},
     "output_type": "execute_result"
    }
   ],
   "source": [
    "sach"
   ]
  },
  {
   "cell_type": "code",
   "execution_count": 103,
   "id": "37af8f64-0a4d-4183-ae04-2cf6f5cd0362",
   "metadata": {},
   "outputs": [],
   "source": [
    "sach.extend(\"Ak\")"
   ]
  },
  {
   "cell_type": "code",
   "execution_count": 104,
   "id": "85e60a7b-e65c-44f7-9cd9-3a17535d9585",
   "metadata": {},
   "outputs": [
    {
     "data": {
      "text/plain": [
       "[1,\n",
       " 2,\n",
       " 3,\n",
       " 1,\n",
       " 2,\n",
       " 3,\n",
       " 1,\n",
       " 2,\n",
       " 3,\n",
       " 'sach',\n",
       " 'A',\n",
       " 'k',\n",
       " 's',\n",
       " 'h',\n",
       " 'A',\n",
       " 'k',\n",
       " 's',\n",
       " 'h',\n",
       " 1,\n",
       " 2,\n",
       " 5,\n",
       " 1,\n",
       " 2,\n",
       " 5,\n",
       " 'A',\n",
       " 'k',\n",
       " 'A',\n",
       " 'k']"
      ]
     },
     "execution_count": 104,
     "metadata": {},
     "output_type": "execute_result"
    }
   ],
   "source": [
    "sach"
   ]
  },
  {
   "cell_type": "code",
   "execution_count": 106,
   "id": "e0b10ba0-47f8-46f5-91dc-1199b03c9507",
   "metadata": {},
   "outputs": [],
   "source": [
    "l2=[1,5,6,2]"
   ]
  },
  {
   "cell_type": "code",
   "execution_count": 107,
   "id": "15c06a95-3e30-4b07-848b-d5ef328768ac",
   "metadata": {},
   "outputs": [
    {
     "data": {
      "text/plain": [
       "[1, 5, 6, 2]"
      ]
     },
     "execution_count": 107,
     "metadata": {},
     "output_type": "execute_result"
    }
   ],
   "source": [
    "l2"
   ]
  },
  {
   "cell_type": "code",
   "execution_count": 109,
   "id": "cf8acd79-0d75-4b60-a6c3-c5f578c4b22c",
   "metadata": {},
   "outputs": [],
   "source": [
    "l2.insert(1,\"sach\")"
   ]
  },
  {
   "cell_type": "code",
   "execution_count": 110,
   "id": "2b6b141b-8c49-483c-bfe0-93fc377e2c73",
   "metadata": {},
   "outputs": [
    {
     "data": {
      "text/plain": [
       "[1, 'sach', 'sach', 5, 6, 2]"
      ]
     },
     "execution_count": 110,
     "metadata": {},
     "output_type": "execute_result"
    }
   ],
   "source": [
    "l2"
   ]
  },
  {
   "cell_type": "code",
   "execution_count": 112,
   "id": "8ff808f5-9b53-4f27-93eb-40a543fcd0aa",
   "metadata": {},
   "outputs": [],
   "source": [
    "l2.insert(2,[1,5,8,6,5])"
   ]
  },
  {
   "cell_type": "code",
   "execution_count": 115,
   "id": "593e0d9c-fd7f-49d1-be43-8e70953ab980",
   "metadata": {},
   "outputs": [
    {
     "name": "stdout",
     "output_type": "stream",
     "text": [
      "[1, 'sach', [1, 5, 8, 6, 5], [1, 5, 8, 6, 5], 'sach', 5, 6, 2]\n"
     ]
    }
   ],
   "source": [
    "print(l2)"
   ]
  },
  {
   "cell_type": "code",
   "execution_count": 118,
   "id": "c11caa59-9629-423f-bdc0-d775c6327e95",
   "metadata": {},
   "outputs": [],
   "source": [
    "l2.insert(-2,458)"
   ]
  },
  {
   "cell_type": "code",
   "execution_count": 120,
   "id": "153d3cd4-4075-44ab-b95d-993a4580ab37",
   "metadata": {},
   "outputs": [
    {
     "data": {
      "text/plain": [
       "[1, 'sach', [1, 5, 8, 6, 5], [1, 5, 8, 6, 5], 'sach', 5, 6, 458, 458, 2]"
      ]
     },
     "execution_count": 120,
     "metadata": {},
     "output_type": "execute_result"
    }
   ],
   "source": [
    "l2"
   ]
  },
  {
   "cell_type": "code",
   "execution_count": 121,
   "id": "4ebe57b7-d3d6-48c7-ae2d-ab079bce7b05",
   "metadata": {},
   "outputs": [
    {
     "data": {
      "text/plain": [
       "2"
      ]
     },
     "execution_count": 121,
     "metadata": {},
     "output_type": "execute_result"
    }
   ],
   "source": [
    "l2.pop()"
   ]
  },
  {
   "cell_type": "code",
   "execution_count": 123,
   "id": "73d801b4-69b5-4830-bdba-189380107c6a",
   "metadata": {},
   "outputs": [
    {
     "data": {
      "text/plain": [
       "[1, 5, 8, 6, 5]"
      ]
     },
     "execution_count": 123,
     "metadata": {},
     "output_type": "execute_result"
    }
   ],
   "source": [
    "l2.pop(2)"
   ]
  },
  {
   "cell_type": "code",
   "execution_count": 125,
   "id": "d276afe3-327e-4d94-86ff-afeb14d10a61",
   "metadata": {},
   "outputs": [
    {
     "data": {
      "text/plain": [
       "458"
      ]
     },
     "execution_count": 125,
     "metadata": {},
     "output_type": "execute_result"
    }
   ],
   "source": [
    "l2.pop()"
   ]
  },
  {
   "cell_type": "code",
   "execution_count": 126,
   "id": "c94e5c4d-4b6d-47f4-8a9f-1de6251dce13",
   "metadata": {},
   "outputs": [
    {
     "data": {
      "text/plain": [
       "[1, 'sach', 'sach', 5, 6]"
      ]
     },
     "execution_count": 126,
     "metadata": {},
     "output_type": "execute_result"
    }
   ],
   "source": [
    "l2"
   ]
  },
  {
   "cell_type": "code",
   "execution_count": 128,
   "id": "6203e669-bc51-4a88-ad91-56f9b8fa54b0",
   "metadata": {},
   "outputs": [],
   "source": [
    "l2.remove(\"sach\")"
   ]
  },
  {
   "cell_type": "code",
   "execution_count": 129,
   "id": "49903849-e8b8-41e6-a8c1-033a6fa55798",
   "metadata": {},
   "outputs": [
    {
     "data": {
      "text/plain": [
       "[1, 5, 6]"
      ]
     },
     "execution_count": 129,
     "metadata": {},
     "output_type": "execute_result"
    }
   ],
   "source": [
    " l2"
   ]
  },
  {
   "cell_type": "code",
   "execution_count": 136,
   "id": "a5753c58-7b90-46d3-831a-d0ea8ed3ae03",
   "metadata": {},
   "outputs": [],
   "source": [
    "l2.append([254,456,2597])"
   ]
  },
  {
   "cell_type": "code",
   "execution_count": 137,
   "id": "66ffeee5-a87a-45fb-b7a1-3c6eae18182c",
   "metadata": {},
   "outputs": [
    {
     "data": {
      "text/plain": [
       "[6, 5, 1, [254, 456, 2597]]"
      ]
     },
     "execution_count": 137,
     "metadata": {},
     "output_type": "execute_result"
    }
   ],
   "source": [
    "l2"
   ]
  },
  {
   "cell_type": "code",
   "execution_count": 142,
   "id": "d0a190f0-02d4-4738-8c89-f37a200854f0",
   "metadata": {},
   "outputs": [],
   "source": [
    "l2[3].remove(456)"
   ]
  },
  {
   "cell_type": "code",
   "execution_count": 143,
   "id": "86b5846b-3bb1-4e2c-b18a-c7f473efc00d",
   "metadata": {},
   "outputs": [
    {
     "data": {
      "text/plain": [
       "[6, 5, 1, [254, 2597]]"
      ]
     },
     "execution_count": 143,
     "metadata": {},
     "output_type": "execute_result"
    }
   ],
   "source": [
    "l2"
   ]
  },
  {
   "cell_type": "code",
   "execution_count": 144,
   "id": "78d58eda-35fe-46f8-a601-cb524415778c",
   "metadata": {},
   "outputs": [],
   "source": [
    "l2.append(\"sachin\")"
   ]
  },
  {
   "cell_type": "code",
   "execution_count": 145,
   "id": "8b4ab63d-ae6e-4333-83e7-48bbe599471f",
   "metadata": {},
   "outputs": [
    {
     "data": {
      "text/plain": [
       "[6, 5, 1, [254, 2597], 'sachin']"
      ]
     },
     "execution_count": 145,
     "metadata": {},
     "output_type": "execute_result"
    }
   ],
   "source": [
    "l2"
   ]
  },
  {
   "cell_type": "code",
   "execution_count": 147,
   "id": "62ff3e7b-769e-43f5-9017-2654a0e482f7",
   "metadata": {},
   "outputs": [],
   "source": [
    "l2.append(6)"
   ]
  },
  {
   "cell_type": "code",
   "execution_count": 154,
   "id": "43e5217d-74bf-4551-83e9-82a20772187f",
   "metadata": {},
   "outputs": [
    {
     "data": {
      "text/plain": [
       "[5, 1, [254, 2597], 'sachin']"
      ]
     },
     "execution_count": 154,
     "metadata": {},
     "output_type": "execute_result"
    }
   ],
   "source": [
    "l2"
   ]
  },
  {
   "cell_type": "code",
   "execution_count": 156,
   "id": "ce37c0cb-1e0d-4b79-b753-734f7e665c9c",
   "metadata": {},
   "outputs": [],
   "source": [
    "# l2.remove(6)"
   ]
  },
  {
   "cell_type": "code",
   "execution_count": 153,
   "id": "1fff7815-245a-4cec-b30d-e41c361215bc",
   "metadata": {},
   "outputs": [
    {
     "data": {
      "text/plain": [
       "[5, 1, [254, 2597], 'sachin']"
      ]
     },
     "execution_count": 153,
     "metadata": {},
     "output_type": "execute_result"
    }
   ],
   "source": [
    "l2"
   ]
  },
  {
   "cell_type": "code",
   "execution_count": 163,
   "id": "a530370d-9f44-4dc5-882a-69358a363849",
   "metadata": {},
   "outputs": [],
   "source": [
    "l2.reverse()"
   ]
  },
  {
   "cell_type": "code",
   "execution_count": 165,
   "id": "6386096d-dfa3-43b7-9aab-138d320f7b69",
   "metadata": {},
   "outputs": [
    {
     "data": {
      "text/plain": [
       "['sachin', [254, 2597], 1, 5]"
      ]
     },
     "execution_count": 165,
     "metadata": {},
     "output_type": "execute_result"
    }
   ],
   "source": [
    "l2"
   ]
  },
  {
   "cell_type": "code",
   "execution_count": 168,
   "id": "1680da4f-962e-442c-b317-9ff5cc6630b9",
   "metadata": {},
   "outputs": [],
   "source": [
    "l3=[1,2,5,4,8,65,48,6,6,6558,6856,845,698,566,55,8465]"
   ]
  },
  {
   "cell_type": "code",
   "execution_count": 175,
   "id": "4fe7c293-e4e8-4fa8-9477-63a4201185a6",
   "metadata": {},
   "outputs": [
    {
     "data": {
      "text/plain": [
       "[1, 2, 4, 5, 6, 6, 8, 48, 55, 65, 566, 698, 845, 6558, 6856, 8465]"
      ]
     },
     "execution_count": 175,
     "metadata": {},
     "output_type": "execute_result"
    }
   ],
   "source": [
    "l3.sort()\n",
    "l3"
   ]
  },
  {
   "cell_type": "code",
   "execution_count": 173,
   "id": "683da3c2-c6c3-4f6e-9fb9-2109b26a2099",
   "metadata": {},
   "outputs": [
    {
     "data": {
      "text/plain": [
       "[1, 2, 4, 5, 6, 6, 8, 48, 55, 65, 566, 698, 845, 6558, 6856, 8465]"
      ]
     },
     "execution_count": 173,
     "metadata": {},
     "output_type": "execute_result"
    }
   ],
   "source": [
    "l3"
   ]
  },
  {
   "cell_type": "code",
   "execution_count": 181,
   "id": "61463a86-4d1a-4879-a65e-a57bf813150c",
   "metadata": {},
   "outputs": [
    {
     "data": {
      "text/plain": [
       "[12, 'sac', 548, 'saa']"
      ]
     },
     "execution_count": 181,
     "metadata": {},
     "output_type": "execute_result"
    }
   ],
   "source": [
    "l3"
   ]
  },
  {
   "cell_type": "code",
   "execution_count": 182,
   "id": "1af7a12b-3ffd-4b29-b85a-c040e229a604",
   "metadata": {},
   "outputs": [
    {
     "ename": "TypeError",
     "evalue": "'<' not supported between instances of 'str' and 'int'",
     "output_type": "error",
     "traceback": [
      "\u001b[0;31m---------------------------------------------------------------------------\u001b[0m",
      "\u001b[0;31mTypeError\u001b[0m                                 Traceback (most recent call last)",
      "Cell \u001b[0;32mIn[182], line 2\u001b[0m\n\u001b[1;32m      1\u001b[0m l4\u001b[38;5;241m=\u001b[39m[\u001b[38;5;241m12\u001b[39m,\u001b[38;5;124m\"\u001b[39m\u001b[38;5;124msac\u001b[39m\u001b[38;5;124m\"\u001b[39m,\u001b[38;5;241m548\u001b[39m,\u001b[38;5;124m\"\u001b[39m\u001b[38;5;124msaa\u001b[39m\u001b[38;5;124m\"\u001b[39m]\n\u001b[0;32m----> 2\u001b[0m \u001b[43ml4\u001b[49m\u001b[38;5;241;43m.\u001b[39;49m\u001b[43msort\u001b[49m\u001b[43m(\u001b[49m\u001b[43m)\u001b[49m\n",
      "\u001b[0;31mTypeError\u001b[0m: '<' not supported between instances of 'str' and 'int'"
     ]
    }
   ],
   "source": [
    "l4=[12,\"sac\",548,\"saa\"]\n",
    "l4.sort()"
   ]
  },
  {
   "cell_type": "code",
   "execution_count": 191,
   "id": "59a528b9-2538-422e-8725-1a2f032bc616",
   "metadata": {},
   "outputs": [],
   "source": [
    "l5=[\"sach\",\"hawal\",\"mahesh\",\"vaidehi\",\"manu\",\"aksh\"]"
   ]
  },
  {
   "cell_type": "code",
   "execution_count": 192,
   "id": "5c002a18-a527-448e-8c06-9ed67200ca0f",
   "metadata": {},
   "outputs": [],
   "source": [
    "l5.sort()"
   ]
  },
  {
   "cell_type": "code",
   "execution_count": 193,
   "id": "4c028221-10ea-4a0d-9410-53607d3fd3ac",
   "metadata": {},
   "outputs": [
    {
     "data": {
      "text/plain": [
       "['aksh', 'hawal', 'mahesh', 'manu', 'sach', 'vaidehi']"
      ]
     },
     "execution_count": 193,
     "metadata": {},
     "output_type": "execute_result"
    }
   ],
   "source": [
    "l5"
   ]
  },
  {
   "cell_type": "code",
   "execution_count": 195,
   "id": "25267583-f4e2-4517-a73a-3c7e92818c24",
   "metadata": {},
   "outputs": [],
   "source": [
    "l5.sort(reverse=True)"
   ]
  },
  {
   "cell_type": "code",
   "execution_count": 196,
   "id": "fe764b0d-8bab-424c-82bd-cebce0eac3cd",
   "metadata": {},
   "outputs": [
    {
     "data": {
      "text/plain": [
       "['vaidehi', 'sach', 'manu', 'mahesh', 'hawal', 'aksh']"
      ]
     },
     "execution_count": 196,
     "metadata": {},
     "output_type": "execute_result"
    }
   ],
   "source": [
    "l5"
   ]
  },
  {
   "cell_type": "code",
   "execution_count": 200,
   "id": "17ad4228-c69b-48bb-9fd2-a28752eafb57",
   "metadata": {},
   "outputs": [
    {
     "data": {
      "text/plain": [
       "1"
      ]
     },
     "execution_count": 200,
     "metadata": {},
     "output_type": "execute_result"
    }
   ],
   "source": [
    "l5.index(\"sach\")"
   ]
  },
  {
   "cell_type": "code",
   "execution_count": 201,
   "id": "ad22e4df-9f79-4d23-b091-3499815986b4",
   "metadata": {},
   "outputs": [
    {
     "data": {
      "text/plain": [
       "1"
      ]
     },
     "execution_count": 201,
     "metadata": {},
     "output_type": "execute_result"
    }
   ],
   "source": [
    "l5.count(\"sach\")"
   ]
  },
  {
   "cell_type": "code",
   "execution_count": 202,
   "id": "c02b3bf0-3c43-47f2-83c5-a082f0bc3c0d",
   "metadata": {},
   "outputs": [
    {
     "data": {
      "text/plain": [
       "'vaidehi'"
      ]
     },
     "execution_count": 202,
     "metadata": {},
     "output_type": "execute_result"
    }
   ],
   "source": [
    "l5[0]"
   ]
  },
  {
   "cell_type": "code",
   "execution_count": 203,
   "id": "aa81919a-27b5-40d9-954a-b476408cf306",
   "metadata": {},
   "outputs": [],
   "source": [
    "l5[0]=\"pooja\""
   ]
  },
  {
   "cell_type": "code",
   "execution_count": 204,
   "id": "f8593ee3-5dd3-4ffc-9ea5-e9134843d86a",
   "metadata": {},
   "outputs": [
    {
     "data": {
      "text/plain": [
       "['pooja', 'sach', 'manu', 'mahesh', 'hawal', 'aksh']"
      ]
     },
     "execution_count": 204,
     "metadata": {},
     "output_type": "execute_result"
    }
   ],
   "source": [
    "l5"
   ]
  },
  {
   "cell_type": "code",
   "execution_count": 205,
   "id": "6a6c1eff-eecc-4231-868a-a353e79fc65d",
   "metadata": {},
   "outputs": [],
   "source": [
    "l5[2]=5"
   ]
  },
  {
   "cell_type": "code",
   "execution_count": 206,
   "id": "a1c79ce8-8c86-402d-a144-cd231caa2b74",
   "metadata": {},
   "outputs": [
    {
     "data": {
      "text/plain": [
       "['pooja', 'sach', 5, 'mahesh', 'hawal', 'aksh']"
      ]
     },
     "execution_count": 206,
     "metadata": {},
     "output_type": "execute_result"
    }
   ],
   "source": [
    "l5"
   ]
  },
  {
   "cell_type": "code",
   "execution_count": 207,
   "id": "80297fac-eddc-468e-9856-afcac000cc48",
   "metadata": {},
   "outputs": [],
   "source": [
    "s=\"sachin\""
   ]
  },
  {
   "cell_type": "code",
   "execution_count": 208,
   "id": "70a682ab-b01c-441c-83c8-5dfb36688e9f",
   "metadata": {},
   "outputs": [
    {
     "data": {
      "text/plain": [
       "'sachin'"
      ]
     },
     "execution_count": 208,
     "metadata": {},
     "output_type": "execute_result"
    }
   ],
   "source": [
    "s"
   ]
  },
  {
   "cell_type": "code",
   "execution_count": 211,
   "id": "65a0c763-d247-4356-9fb9-43e8fd56628a",
   "metadata": {},
   "outputs": [
    {
     "ename": "TypeError",
     "evalue": "'str' object does not support item assignment",
     "output_type": "error",
     "traceback": [
      "\u001b[0;31m---------------------------------------------------------------------------\u001b[0m",
      "\u001b[0;31mTypeError\u001b[0m                                 Traceback (most recent call last)",
      "Cell \u001b[0;32mIn[211], line 1\u001b[0m\n\u001b[0;32m----> 1\u001b[0m \u001b[43ms\u001b[49m\u001b[43m[\u001b[49m\u001b[38;5;241;43m0\u001b[39;49m\u001b[43m]\u001b[49m\u001b[38;5;241m=\u001b[39m\u001b[38;5;124m\"\u001b[39m\u001b[38;5;124mk\u001b[39m\u001b[38;5;124m\"\u001b[39m\n",
      "\u001b[0;31mTypeError\u001b[0m: 'str' object does not support item assignment"
     ]
    }
   ],
   "source": [
    "s[0]=\"k\""
   ]
  },
  {
   "cell_type": "code",
   "execution_count": 213,
   "id": "6595ded0-5631-4ea9-a02b-6259aebc82d4",
   "metadata": {},
   "outputs": [
    {
     "data": {
      "text/plain": [
       "'Aachin'"
      ]
     },
     "execution_count": 213,
     "metadata": {},
     "output_type": "execute_result"
    }
   ],
   "source": [
    "s.replace(\"s\",\"A\")"
   ]
  },
  {
   "cell_type": "code",
   "execution_count": 214,
   "id": "af5b77a7-04f6-466c-9c19-5cc73a64c8ed",
   "metadata": {},
   "outputs": [
    {
     "data": {
      "text/plain": [
       "'sachin'"
      ]
     },
     "execution_count": 214,
     "metadata": {},
     "output_type": "execute_result"
    }
   ],
   "source": [
    "s"
   ]
  },
  {
   "cell_type": "code",
   "execution_count": 5,
   "id": "4bf3d050-3ed9-41d1-95fc-b50292461f11",
   "metadata": {},
   "outputs": [],
   "source": [
    "#Tuplest\n",
    "t=(\"sc\",5,54)"
   ]
  },
  {
   "cell_type": "code",
   "execution_count": 6,
   "id": "aab389cc-37ee-492e-a3ef-de924daccf31",
   "metadata": {},
   "outputs": [
    {
     "data": {
      "text/plain": [
       "('sc', 5, 54)"
      ]
     },
     "execution_count": 6,
     "metadata": {},
     "output_type": "execute_result"
    }
   ],
   "source": [
    "t"
   ]
  },
  {
   "cell_type": "code",
   "execution_count": 7,
   "id": "c6f45c91-934c-4b79-99d2-1ad36aabc0c4",
   "metadata": {},
   "outputs": [
    {
     "data": {
      "text/plain": [
       "tuple"
      ]
     },
     "execution_count": 7,
     "metadata": {},
     "output_type": "execute_result"
    }
   ],
   "source": [
    "type(t)"
   ]
  },
  {
   "cell_type": "code",
   "execution_count": 8,
   "id": "c4282862-a967-458c-9854-70d0f612e1eb",
   "metadata": {},
   "outputs": [
    {
     "data": {
      "text/plain": [
       "3"
      ]
     },
     "execution_count": 8,
     "metadata": {},
     "output_type": "execute_result"
    }
   ],
   "source": [
    "len(t)"
   ]
  },
  {
   "cell_type": "code",
   "execution_count": 9,
   "id": "452edd77-53a5-49e5-94c8-34cf7212be5f",
   "metadata": {},
   "outputs": [
    {
     "data": {
      "text/plain": [
       "54"
      ]
     },
     "execution_count": 9,
     "metadata": {},
     "output_type": "execute_result"
    }
   ],
   "source": [
    "t[2]"
   ]
  },
  {
   "cell_type": "code",
   "execution_count": 11,
   "id": "e816de29-ee0a-402d-a45a-423473646d13",
   "metadata": {},
   "outputs": [
    {
     "data": {
      "text/plain": [
       "(54, 5, 'sc')"
      ]
     },
     "execution_count": 11,
     "metadata": {},
     "output_type": "execute_result"
    }
   ],
   "source": [
    "t[::-1]"
   ]
  },
  {
   "cell_type": "code",
   "execution_count": 12,
   "id": "3c47ce86-cac0-4321-947f-f2c3ecea8fd8",
   "metadata": {},
   "outputs": [
    {
     "ename": "TypeError",
     "evalue": "'tuple' object does not support item assignment",
     "output_type": "error",
     "traceback": [
      "\u001b[0;31m---------------------------------------------------------------------------\u001b[0m",
      "\u001b[0;31mTypeError\u001b[0m                                 Traceback (most recent call last)",
      "Cell \u001b[0;32mIn[12], line 1\u001b[0m\n\u001b[0;32m----> 1\u001b[0m \u001b[43mt\u001b[49m\u001b[43m[\u001b[49m\u001b[38;5;241;43m2\u001b[39;49m\u001b[43m]\u001b[49m\u001b[38;5;241m=\u001b[39m\u001b[38;5;241m4\u001b[39m\n",
      "\u001b[0;31mTypeError\u001b[0m: 'tuple' object does not support item assignment"
     ]
    }
   ],
   "source": [
    "t[2]=4"
   ]
  },
  {
   "cell_type": "code",
   "execution_count": 14,
   "id": "73a0a44a-cf4f-4379-a544-da83c8519cce",
   "metadata": {},
   "outputs": [
    {
     "data": {
      "text/plain": [
       "1"
      ]
     },
     "execution_count": 14,
     "metadata": {},
     "output_type": "execute_result"
    }
   ],
   "source": [
    "t.count(5)"
   ]
  },
  {
   "cell_type": "code",
   "execution_count": 16,
   "id": "8ccc67f7-a0df-4597-9a21-7c4b8a6ed258",
   "metadata": {},
   "outputs": [
    {
     "data": {
      "text/plain": [
       "1"
      ]
     },
     "execution_count": 16,
     "metadata": {},
     "output_type": "execute_result"
    }
   ],
   "source": [
    "t.index(5)"
   ]
  },
  {
   "cell_type": "code",
   "execution_count": 21,
   "id": "5e05338b-be13-495f-a4d6-16411b328507",
   "metadata": {},
   "outputs": [
    {
     "data": {
      "text/plain": [
       "set"
      ]
     },
     "execution_count": 21,
     "metadata": {},
     "output_type": "execute_result"
    }
   ],
   "source": [
    "#set is collection of unique ele it removes all dublicates \n",
    "st={1,2,5,4,5,6,}\n",
    "type(st)"
   ]
  },
  {
   "cell_type": "code",
   "execution_count": 22,
   "id": "3d79a4d8-227d-47f5-8913-a0b29ca656ff",
   "metadata": {},
   "outputs": [
    {
     "data": {
      "text/plain": [
       "{1, 2, 4, 5, 6}"
      ]
     },
     "execution_count": 22,
     "metadata": {},
     "output_type": "execute_result"
    }
   ],
   "source": [
    "st"
   ]
  },
  {
   "cell_type": "code",
   "execution_count": 27,
   "id": "912f4ec5-7269-4ff7-be01-06e219deeb7f",
   "metadata": {},
   "outputs": [],
   "source": [
    "st1={1,5,7,6,4,8,54,686,55,485,\"Asch\"}"
   ]
  },
  {
   "cell_type": "code",
   "execution_count": 29,
   "id": "6c37ab34-e8b7-48c8-945a-bcd8da8ec1a8",
   "metadata": {},
   "outputs": [
    {
     "data": {
      "text/plain": [
       "{1, 4, 485, 5, 54, 55, 6, 686, 7, 8, 'Asch'}"
      ]
     },
     "execution_count": 29,
     "metadata": {},
     "output_type": "execute_result"
    }
   ],
   "source": [
    "st1"
   ]
  },
  {
   "cell_type": "code",
   "execution_count": 30,
   "id": "718f4bff-e04a-47ec-8c91-76884e4328df",
   "metadata": {},
   "outputs": [
    {
     "name": "stdout",
     "output_type": "stream",
     "text": [
      "{1, 4, 5, 6, 7, 8, 485, 'Asch', 686, 54, 55}\n"
     ]
    }
   ],
   "source": [
    "print(st1)"
   ]
  },
  {
   "cell_type": "code",
   "execution_count": 36,
   "id": "bfb14091-119f-4a04-8dd7-ce962e497fc9",
   "metadata": {},
   "outputs": [
    {
     "data": {
      "text/plain": [
       "11"
      ]
     },
     "execution_count": 36,
     "metadata": {},
     "output_type": "execute_result"
    }
   ],
   "source": [
    "len(st1)"
   ]
  },
  {
   "cell_type": "code",
   "execution_count": 37,
   "id": "672b2728-7d39-44ac-aeea-56c6ff183a7b",
   "metadata": {},
   "outputs": [],
   "source": [
    "l6=list(st1)"
   ]
  },
  {
   "cell_type": "code",
   "execution_count": 38,
   "id": "b01e3335-c412-4e42-a914-46b6abaac3f0",
   "metadata": {},
   "outputs": [
    {
     "data": {
      "text/plain": [
       "[1, 4, 5, 6, 7, 8, 485, 'Asch', 686, 54, 55]"
      ]
     },
     "execution_count": 38,
     "metadata": {},
     "output_type": "execute_result"
    }
   ],
   "source": [
    "l6"
   ]
  },
  {
   "cell_type": "code",
   "execution_count": 39,
   "id": "3e0dee7c-79ba-4363-90e3-5d044c193cfc",
   "metadata": {},
   "outputs": [],
   "source": [
    "l6=set(st1)"
   ]
  },
  {
   "cell_type": "code",
   "execution_count": 40,
   "id": "1f662346-9778-4146-8a6b-23352f4b8b84",
   "metadata": {},
   "outputs": [
    {
     "data": {
      "text/plain": [
       "{1, 4, 485, 5, 54, 55, 6, 686, 7, 8, 'Asch'}"
      ]
     },
     "execution_count": 40,
     "metadata": {},
     "output_type": "execute_result"
    }
   ],
   "source": [
    "l6"
   ]
  },
  {
   "cell_type": "code",
   "execution_count": 41,
   "id": "f9c803e0-d127-455d-9b8c-c68bfeb0e449",
   "metadata": {},
   "outputs": [
    {
     "ename": "TypeError",
     "evalue": "'set' object is not subscriptable",
     "output_type": "error",
     "traceback": [
      "\u001b[0;31m---------------------------------------------------------------------------\u001b[0m",
      "\u001b[0;31mTypeError\u001b[0m                                 Traceback (most recent call last)",
      "Cell \u001b[0;32mIn[41], line 1\u001b[0m\n\u001b[0;32m----> 1\u001b[0m \u001b[43ml6\u001b[49m\u001b[43m[\u001b[49m\u001b[38;5;241;43m0\u001b[39;49m\u001b[43m]\u001b[49m\n",
      "\u001b[0;31mTypeError\u001b[0m: 'set' object is not subscriptable"
     ]
    }
   ],
   "source": [
    "l6[0]"
   ]
  },
  {
   "cell_type": "code",
   "execution_count": 50,
   "id": "1a65807e-76c1-4f06-9497-385e324b4748",
   "metadata": {},
   "outputs": [],
   "source": [
    "l6.add(54585)"
   ]
  },
  {
   "cell_type": "code",
   "execution_count": 51,
   "id": "03f50b9b-46b0-4dd3-9148-ffe114f068b6",
   "metadata": {},
   "outputs": [
    {
     "data": {
      "text/plain": [
       "{1, 4, 485, 5, 54, 545, 54585, 55, 6, 686, 7, 8, 'Asch'}"
      ]
     },
     "execution_count": 51,
     "metadata": {},
     "output_type": "execute_result"
    }
   ],
   "source": [
    "l6"
   ]
  },
  {
   "cell_type": "code",
   "execution_count": 52,
   "id": "457185fd-c5a8-4149-a32a-e60893c1c96d",
   "metadata": {},
   "outputs": [],
   "source": [
    "l6.remove(485)"
   ]
  },
  {
   "cell_type": "code",
   "execution_count": 53,
   "id": "fca0f403-7919-4004-a308-36743477ed90",
   "metadata": {},
   "outputs": [
    {
     "data": {
      "text/plain": [
       "{1, 4, 5, 54, 545, 54585, 55, 6, 686, 7, 8, 'Asch'}"
      ]
     },
     "execution_count": 53,
     "metadata": {},
     "output_type": "execute_result"
    }
   ],
   "source": [
    "l6"
   ]
  },
  {
   "cell_type": "code",
   "execution_count": 56,
   "id": "dd9dd50c-3f4e-4d7a-8e62-c3eb81189455",
   "metadata": {},
   "outputs": [
    {
     "data": {
      "text/plain": [
       "{1, 4, 5, 54, 545, 54585, 55, 6, 686, 7, 8, 'Asch'}"
      ]
     },
     "execution_count": 56,
     "metadata": {},
     "output_type": "execute_result"
    }
   ],
   "source": [
    "l6.copy()"
   ]
  },
  {
   "cell_type": "code",
   "execution_count": 57,
   "id": "aa2dae8d-95a1-4790-9099-4326fad235a7",
   "metadata": {},
   "outputs": [
    {
     "data": {
      "text/plain": [
       "6"
      ]
     },
     "execution_count": 57,
     "metadata": {},
     "output_type": "execute_result"
    }
   ],
   "source": [
    "6"
   ]
  },
  {
   "cell_type": "code",
   "execution_count": 58,
   "id": "4807d144-1698-4875-b732-609de093fac5",
   "metadata": {},
   "outputs": [
    {
     "data": {
      "text/plain": [
       "{1, 4, 5, 54, 545, 54585, 55, 6, 686, 7, 8, 'Asch'}"
      ]
     },
     "execution_count": 58,
     "metadata": {},
     "output_type": "execute_result"
    }
   ],
   "source": [
    "l6"
   ]
  },
  {
   "cell_type": "code",
   "execution_count": null,
   "id": "cadbf75e-cdaf-4cd4-9b0d-4f3dddc02336",
   "metadata": {},
   "outputs": [],
   "source": []
  }
 ],
 "metadata": {
  "kernelspec": {
   "display_name": "Python 3 (ipykernel)",
   "language": "python",
   "name": "python3"
  },
  "language_info": {
   "codemirror_mode": {
    "name": "ipython",
    "version": 3
   },
   "file_extension": ".py",
   "mimetype": "text/x-python",
   "name": "python",
   "nbconvert_exporter": "python",
   "pygments_lexer": "ipython3",
   "version": "3.10.8"
  }
 },
 "nbformat": 4,
 "nbformat_minor": 5
}
