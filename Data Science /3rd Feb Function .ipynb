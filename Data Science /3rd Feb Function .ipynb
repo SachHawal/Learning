{
 "cells": [
  {
   "cell_type": "code",
   "execution_count": 2,
   "id": "35b2d941-6eea-44d6-8003-ec48588ceca7",
   "metadata": {},
   "outputs": [],
   "source": [
    "#Function"
   ]
  },
  {
   "cell_type": "code",
   "execution_count": 3,
   "id": "8e88d6fc-1378-4413-8d44-3dee3922b688",
   "metadata": {},
   "outputs": [],
   "source": [
    "# build in functions are"
   ]
  },
  {
   "cell_type": "code",
   "execution_count": 4,
   "id": "1053b5b9-aa1b-4116-b135-335d9873aa0c",
   "metadata": {},
   "outputs": [],
   "source": [
    "#Print,len,type, ect"
   ]
  },
  {
   "cell_type": "code",
   "execution_count": 5,
   "id": "a8aba366-d069-4819-a74e-5f24a8836d4c",
   "metadata": {},
   "outputs": [],
   "source": [
    "# Function start with def"
   ]
  },
  {
   "cell_type": "code",
   "execution_count": 6,
   "id": "32b0732a-d5fb-483c-9406-8a826eb3c064",
   "metadata": {},
   "outputs": [],
   "source": [
    "def test1():\n",
    "    pass"
   ]
  },
  {
   "cell_type": "code",
   "execution_count": 7,
   "id": "64ff6539-bb5e-4808-beca-f9da39715c6c",
   "metadata": {},
   "outputs": [],
   "source": [
    "def test():\n",
    "    print(\"This my very very First Function\")"
   ]
  },
  {
   "cell_type": "code",
   "execution_count": 8,
   "id": "537711e9-8932-42aa-a6c6-bb7bad996953",
   "metadata": {},
   "outputs": [
    {
     "name": "stdout",
     "output_type": "stream",
     "text": [
      "This my very very First Function\n"
     ]
    }
   ],
   "source": [
    "test() #Calling a function"
   ]
  },
  {
   "cell_type": "code",
   "execution_count": 9,
   "id": "b520ec9e-3944-40ac-a341-cb8a39289644",
   "metadata": {},
   "outputs": [
    {
     "name": "stdout",
     "output_type": "stream",
     "text": [
      "This my very very First Function\n"
     ]
    },
    {
     "ename": "TypeError",
     "evalue": "unsupported operand type(s) for +: 'NoneType' and 'str'",
     "output_type": "error",
     "traceback": [
      "\u001b[0;31m---------------------------------------------------------------------------\u001b[0m",
      "\u001b[0;31mTypeError\u001b[0m                                 Traceback (most recent call last)",
      "Cell \u001b[0;32mIn[9], line 1\u001b[0m\n\u001b[0;32m----> 1\u001b[0m \u001b[43mtest\u001b[49m\u001b[43m(\u001b[49m\u001b[43m)\u001b[49m\u001b[43m \u001b[49m\u001b[38;5;241;43m+\u001b[39;49m\u001b[43m \u001b[49m\u001b[38;5;124;43m\"\u001b[39;49m\u001b[38;5;124;43mSach\u001b[39;49m\u001b[38;5;124;43m\"\u001b[39;49m \u001b[38;5;66;03m#Its showing error because we thinking print which defined above its a str but its not a str , but here as per data typ print\u001b[39;00m\n\u001b[1;32m      2\u001b[0m \u001b[38;5;66;03m# always shows none type \u001b[39;00m\n",
      "\u001b[0;31mTypeError\u001b[0m: unsupported operand type(s) for +: 'NoneType' and 'str'"
     ]
    }
   ],
   "source": [
    "test() + \"Sach\" #Its showing error because we thinking print which defined above its a str but its not a str , but here as per data typ print\n",
    "# always shows none type "
   ]
  },
  {
   "cell_type": "code",
   "execution_count": 10,
   "id": "4a73a1d9-6f0d-4c10-acc2-7f043a0f774c",
   "metadata": {},
   "outputs": [],
   "source": [
    "#here return fun holds the value and print fun just display the value not hold "
   ]
  },
  {
   "cell_type": "code",
   "execution_count": 11,
   "id": "252d35db-bae6-4c49-88b0-7289027b4ed6",
   "metadata": {},
   "outputs": [],
   "source": [
    "def test1():\n",
    "    return \"This my very very First return\""
   ]
  },
  {
   "cell_type": "code",
   "execution_count": 12,
   "id": "89e313da-181d-4aaf-8933-0f4d2b6b35bb",
   "metadata": {},
   "outputs": [
    {
     "data": {
      "text/plain": [
       "'This my very very First return'"
      ]
     },
     "execution_count": 12,
     "metadata": {},
     "output_type": "execute_result"
    }
   ],
   "source": [
    "test1()"
   ]
  },
  {
   "cell_type": "code",
   "execution_count": 13,
   "id": "434f8fb0-8140-4418-bbe2-8c1e40d334c6",
   "metadata": {},
   "outputs": [
    {
     "data": {
      "text/plain": [
       "'This my very very First returnSach'"
      ]
     },
     "execution_count": 13,
     "metadata": {},
     "output_type": "execute_result"
    }
   ],
   "source": [
    "test1()+ \"Sach\"  # her we use return typ to concanate date and avoide error generated from print none type "
   ]
  },
  {
   "cell_type": "code",
   "execution_count": 14,
   "id": "f9e45173-36ee-4994-9371-180383a84ddc",
   "metadata": {},
   "outputs": [],
   "source": [
    "def test2():\n",
    "    return \"Hi I am sachin hawal whats your Name\""
   ]
  },
  {
   "cell_type": "code",
   "execution_count": 15,
   "id": "c201d47d-a1c4-4b7c-a348-bfb9466a35bd",
   "metadata": {},
   "outputs": [
    {
     "data": {
      "text/plain": [
       "'Hi I am sachin hawal whats your Name'"
      ]
     },
     "execution_count": 15,
     "metadata": {},
     "output_type": "execute_result"
    }
   ],
   "source": [
    "test2()"
   ]
  },
  {
   "cell_type": "code",
   "execution_count": 16,
   "id": "5ee809bf-229d-43bd-8daa-df9162a0434a",
   "metadata": {},
   "outputs": [
    {
     "data": {
      "text/plain": [
       "'This my very very First returnHi I am sachin hawal whats your Name'"
      ]
     },
     "execution_count": 16,
     "metadata": {},
     "output_type": "execute_result"
    }
   ],
   "source": [
    "test1() + test2()"
   ]
  },
  {
   "cell_type": "code",
   "execution_count": 17,
   "id": "855995fa-6185-4bf3-ab03-685be341a62b",
   "metadata": {},
   "outputs": [
    {
     "data": {
      "text/plain": [
       "'This my very very First return sach'"
      ]
     },
     "execution_count": 17,
     "metadata": {},
     "output_type": "execute_result"
    }
   ],
   "source": [
    "test1() +\" sach\""
   ]
  },
  {
   "cell_type": "code",
   "execution_count": 18,
   "id": "10983d23-a3f0-47c0-955b-d78464f0b230",
   "metadata": {},
   "outputs": [],
   "source": [
    "def test3():\n",
    "    return \"sudh\",23,54,56,[1,2,3,4]  #it will execute as a tuples"
   ]
  },
  {
   "cell_type": "code",
   "execution_count": 19,
   "id": "557da984-f86d-4e07-96a2-e462b463b06e",
   "metadata": {},
   "outputs": [
    {
     "data": {
      "text/plain": [
       "('sudh', 23, 54, 56, [1, 2, 3, 4])"
      ]
     },
     "execution_count": 19,
     "metadata": {},
     "output_type": "execute_result"
    }
   ],
   "source": [
    "test3()"
   ]
  },
  {
   "cell_type": "code",
   "execution_count": 20,
   "id": "ea8ba222-587d-49eb-822e-06ff85bbedd8",
   "metadata": {},
   "outputs": [],
   "source": [
    "a,b,c,d,e=test3()"
   ]
  },
  {
   "cell_type": "code",
   "execution_count": 21,
   "id": "63767c5d-bda3-46ed-90bf-e1dad100eefd",
   "metadata": {},
   "outputs": [
    {
     "data": {
      "text/plain": [
       "('sudh', 23, 54, 56, [1, 2, 3, 4])"
      ]
     },
     "execution_count": 21,
     "metadata": {},
     "output_type": "execute_result"
    }
   ],
   "source": [
    "test3()"
   ]
  },
  {
   "cell_type": "code",
   "execution_count": 22,
   "id": "964b1229-6562-4add-9417-299195372afb",
   "metadata": {},
   "outputs": [
    {
     "data": {
      "text/plain": [
       "'sudh'"
      ]
     },
     "execution_count": 22,
     "metadata": {},
     "output_type": "execute_result"
    }
   ],
   "source": [
    "a"
   ]
  },
  {
   "cell_type": "code",
   "execution_count": 23,
   "id": "b51cbb1a-eba2-4376-97ee-6e4c703f22e5",
   "metadata": {},
   "outputs": [
    {
     "data": {
      "text/plain": [
       "23"
      ]
     },
     "execution_count": 23,
     "metadata": {},
     "output_type": "execute_result"
    }
   ],
   "source": [
    "b"
   ]
  },
  {
   "cell_type": "code",
   "execution_count": 24,
   "id": "65698180-fb46-4301-9bc0-5d460c2a9574",
   "metadata": {},
   "outputs": [
    {
     "data": {
      "text/plain": [
       "54"
      ]
     },
     "execution_count": 24,
     "metadata": {},
     "output_type": "execute_result"
    }
   ],
   "source": [
    "c"
   ]
  },
  {
   "cell_type": "code",
   "execution_count": 25,
   "id": "e8f053c3-d0b6-4163-8b4f-ff01f3b4a161",
   "metadata": {},
   "outputs": [
    {
     "data": {
      "text/plain": [
       "56"
      ]
     },
     "execution_count": 25,
     "metadata": {},
     "output_type": "execute_result"
    }
   ],
   "source": [
    "d"
   ]
  },
  {
   "cell_type": "code",
   "execution_count": 26,
   "id": "67404cf8-9ebf-4f42-9cb8-38283984811f",
   "metadata": {},
   "outputs": [
    {
     "data": {
      "text/plain": [
       "[1, 2, 3, 4]"
      ]
     },
     "execution_count": 26,
     "metadata": {},
     "output_type": "execute_result"
    }
   ],
   "source": [
    "e"
   ]
  },
  {
   "cell_type": "code",
   "execution_count": 27,
   "id": "b64a859b-150f-4472-9daa-11e57652ba80",
   "metadata": {},
   "outputs": [],
   "source": [
    "def test4():  #Applying logic here \n",
    "    sac = 4/5*55*5/46/5\n",
    "    return sac"
   ]
  },
  {
   "cell_type": "code",
   "execution_count": 28,
   "id": "bf9b06c2-839d-4fee-88a7-075c98358948",
   "metadata": {},
   "outputs": [
    {
     "data": {
      "text/plain": [
       "0.9565217391304348"
      ]
     },
     "execution_count": 28,
     "metadata": {},
     "output_type": "execute_result"
    }
   ],
   "source": [
    "test4()"
   ]
  },
  {
   "cell_type": "code",
   "execution_count": 29,
   "id": "4ba0f394-3436-4818-a56e-ce8ac2896bef",
   "metadata": {},
   "outputs": [],
   "source": [
    " #creating arguments /passing arg\n",
    "def test12(a,b,c): \n",
    "    d=a**b/c\n",
    "    return d"
   ]
  },
  {
   "cell_type": "code",
   "execution_count": 30,
   "id": "90f4ed40-45ef-41a1-be0f-e244f2f405fd",
   "metadata": {},
   "outputs": [
    {
     "ename": "TypeError",
     "evalue": "test12() missing 3 required positional arguments: 'a', 'b', and 'c'",
     "output_type": "error",
     "traceback": [
      "\u001b[0;31m---------------------------------------------------------------------------\u001b[0m",
      "\u001b[0;31mTypeError\u001b[0m                                 Traceback (most recent call last)",
      "Cell \u001b[0;32mIn[30], line 1\u001b[0m\n\u001b[0;32m----> 1\u001b[0m \u001b[43mtest12\u001b[49m\u001b[43m(\u001b[49m\u001b[43m)\u001b[49m\n",
      "\u001b[0;31mTypeError\u001b[0m: test12() missing 3 required positional arguments: 'a', 'b', and 'c'"
     ]
    }
   ],
   "source": [
    "test12()"
   ]
  },
  {
   "cell_type": "code",
   "execution_count": 31,
   "id": "faa353b3-d4a9-4585-ba6c-6202e11ad5c8",
   "metadata": {},
   "outputs": [],
   "source": [
    " #creating arguments /passing arg\n",
    "def test5(a,b,c): \n",
    "    d=a**b/c\n",
    "    return d"
   ]
  },
  {
   "cell_type": "code",
   "execution_count": 32,
   "id": "587d2fde-0083-4ce7-af02-d9af122f0964",
   "metadata": {},
   "outputs": [
    {
     "data": {
      "text/plain": [
       "0.1111111111111111"
      ]
     },
     "execution_count": 32,
     "metadata": {},
     "output_type": "execute_result"
    }
   ],
   "source": [
    "test5(1,5,9)"
   ]
  },
  {
   "cell_type": "code",
   "execution_count": 33,
   "id": "41f80ba1-ddd8-42fa-9487-26e1db0d54e9",
   "metadata": {},
   "outputs": [],
   "source": [
    "def test6(a,b):\n",
    "    return a+b"
   ]
  },
  {
   "cell_type": "code",
   "execution_count": 34,
   "id": "3ca05b9e-d571-41e2-84ea-9b7756cbd722",
   "metadata": {},
   "outputs": [
    {
     "data": {
      "text/plain": [
       "9"
      ]
     },
     "execution_count": 34,
     "metadata": {},
     "output_type": "execute_result"
    }
   ],
   "source": [
    "test6(4,5)"
   ]
  },
  {
   "cell_type": "code",
   "execution_count": 35,
   "id": "535638ad-1c5f-48fb-b4d6-158a884e4f38",
   "metadata": {},
   "outputs": [
    {
     "data": {
      "text/plain": [
       "'sachinhawal'"
      ]
     },
     "execution_count": 35,
     "metadata": {},
     "output_type": "execute_result"
    }
   ],
   "source": [
    "test6(\"sachin\",\"hawal\") #Here it will concatinate both word "
   ]
  },
  {
   "cell_type": "code",
   "execution_count": 36,
   "id": "6d57ec9a-42ce-411a-a5a1-fd2944d370b7",
   "metadata": {},
   "outputs": [
    {
     "ename": "TypeError",
     "evalue": "can only concatenate str (not \"int\") to str",
     "output_type": "error",
     "traceback": [
      "\u001b[0;31m---------------------------------------------------------------------------\u001b[0m",
      "\u001b[0;31mTypeError\u001b[0m                                 Traceback (most recent call last)",
      "Cell \u001b[0;32mIn[36], line 1\u001b[0m\n\u001b[0;32m----> 1\u001b[0m \u001b[43mtest6\u001b[49m\u001b[43m(\u001b[49m\u001b[38;5;124;43m\"\u001b[39;49m\u001b[38;5;124;43msachin\u001b[39;49m\u001b[38;5;124;43m\"\u001b[39;49m\u001b[43m,\u001b[49m\u001b[38;5;241;43m9\u001b[39;49m\u001b[43m)\u001b[49m \n",
      "Cell \u001b[0;32mIn[33], line 2\u001b[0m, in \u001b[0;36mtest6\u001b[0;34m(a, b)\u001b[0m\n\u001b[1;32m      1\u001b[0m \u001b[38;5;28;01mdef\u001b[39;00m \u001b[38;5;21mtest6\u001b[39m(a,b):\n\u001b[0;32m----> 2\u001b[0m     \u001b[38;5;28;01mreturn\u001b[39;00m \u001b[43ma\u001b[49m\u001b[38;5;241;43m+\u001b[39;49m\u001b[43mb\u001b[49m\n",
      "\u001b[0;31mTypeError\u001b[0m: can only concatenate str (not \"int\") to str"
     ]
    }
   ],
   "source": [
    "test6(\"sachin\",9) "
   ]
  },
  {
   "cell_type": "code",
   "execution_count": 37,
   "id": "2c2e3963-1eb2-4032-a082-006ef3a8d185",
   "metadata": {},
   "outputs": [
    {
     "data": {
      "text/plain": [
       "[1, 5, 46, 5, 4, 4584, 'sachin', '****']"
      ]
     },
     "execution_count": 37,
     "metadata": {},
     "output_type": "execute_result"
    }
   ],
   "source": [
    "test6([1,5,46,5,4],[4584,'sachin',\"****\"])"
   ]
  },
  {
   "cell_type": "code",
   "execution_count": 38,
   "id": "aaec53e2-5def-4368-a81c-3a2252f2da29",
   "metadata": {},
   "outputs": [],
   "source": [
    "l=[1,2,3,4,\"sach\",\"hawa\",[1,5,3,8,4]]\n",
    "l1=[]\n",
    "for i in l:\n",
    "    if type(i)==int or type(i)==float:\n",
    "        l1.append(i)"
   ]
  },
  {
   "cell_type": "code",
   "execution_count": 39,
   "id": "5278c087-6aba-4248-8dc9-603c146ffacd",
   "metadata": {},
   "outputs": [
    {
     "data": {
      "text/plain": [
       "[1, 2, 3, 4]"
      ]
     },
     "execution_count": 39,
     "metadata": {},
     "output_type": "execute_result"
    }
   ],
   "source": [
    "l1"
   ]
  },
  {
   "cell_type": "code",
   "execution_count": 40,
   "id": "77bae8ae-d028-44c8-aa3b-58db602ed72c",
   "metadata": {},
   "outputs": [],
   "source": [
    "def test7(l):\n",
    "    l1=[]\n",
    "    for i in l:\n",
    "        if type(i)==int or type(i)==float:\n",
    "            l1.append(i)\n",
    "    return l1"
   ]
  },
  {
   "cell_type": "code",
   "execution_count": 41,
   "id": "87364600-a4d4-4609-b715-b01dc7e73415",
   "metadata": {},
   "outputs": [
    {
     "data": {
      "text/plain": [
       "[1, 2, 3, 4]"
      ]
     },
     "execution_count": 41,
     "metadata": {},
     "output_type": "execute_result"
    }
   ],
   "source": [
    "test7(l)"
   ]
  },
  {
   "cell_type": "code",
   "execution_count": 42,
   "id": "fe44227b-8689-4b85-86a0-2837b190442c",
   "metadata": {},
   "outputs": [
    {
     "data": {
      "text/plain": [
       "([1, 2, 3, 4], ['sach', 'hawa'], [[1, 5, 3, 8, 4]])"
      ]
     },
     "execution_count": 42,
     "metadata": {},
     "output_type": "execute_result"
    }
   ],
   "source": [
    "def test7():\n",
    "    l1=[]\n",
    "    l2=[]\n",
    "    l3=[]\n",
    "    for i in l:\n",
    "        if type(i)==int or type(i)==float:\n",
    "            l1.append(i)\n",
    "        elif type(i)==str:\n",
    "            l2.append(i)\n",
    "        else:\n",
    "            l3.append(i)\n",
    "    return l1,l2,l3\n",
    "test7()"
   ]
  },
  {
   "cell_type": "code",
   "execution_count": 43,
   "id": "be213af4-fd89-451a-b75c-d7a0f307611a",
   "metadata": {},
   "outputs": [
    {
     "ename": "TypeError",
     "evalue": "test7() takes 0 positional arguments but 1 was given",
     "output_type": "error",
     "traceback": [
      "\u001b[0;31m---------------------------------------------------------------------------\u001b[0m",
      "\u001b[0;31mTypeError\u001b[0m                                 Traceback (most recent call last)",
      "Cell \u001b[0;32mIn[43], line 1\u001b[0m\n\u001b[0;32m----> 1\u001b[0m a,b,c\u001b[38;5;241m=\u001b[39m\u001b[43mtest7\u001b[49m\u001b[43m(\u001b[49m\u001b[43ma\u001b[49m\u001b[43m)\u001b[49m\n\u001b[1;32m      2\u001b[0m \u001b[38;5;28;01mfor\u001b[39;00m i \u001b[38;5;129;01min\u001b[39;00m a:\n\u001b[1;32m      3\u001b[0m     \u001b[38;5;28mprint\u001b[39m(\u001b[38;5;124m\"\u001b[39m\u001b[38;5;124mMy Number is \u001b[39m\u001b[38;5;124m\"\u001b[39m\u001b[38;5;241m+\u001b[39m \u001b[38;5;28mstr\u001b[39m(i))\n",
      "\u001b[0;31mTypeError\u001b[0m: test7() takes 0 positional arguments but 1 was given"
     ]
    }
   ],
   "source": [
    "a,b,c=test7(a)\n",
    "for i in a:\n",
    "    print(\"My Number is \"+ str(i))\n",
    "test7(a)"
   ]
  },
  {
   "cell_type": "code",
   "execution_count": 44,
   "id": "4869ddc2-a94a-432f-b0d8-2cec7983a58d",
   "metadata": {},
   "outputs": [
    {
     "data": {
      "text/plain": [
       "[1, 2, 3, 4, 'sach', 'hawa', [1, 5, 3, 8, 4]]"
      ]
     },
     "execution_count": 44,
     "metadata": {},
     "output_type": "execute_result"
    }
   ],
   "source": [
    "l"
   ]
  },
  {
   "cell_type": "code",
   "execution_count": 45,
   "id": "bb4a80a3-901a-40c8-9296-d305faa53b4a",
   "metadata": {},
   "outputs": [
    {
     "data": {
      "text/plain": [
       "1"
      ]
     },
     "execution_count": 45,
     "metadata": {},
     "output_type": "execute_result"
    }
   ],
   "source": [
    "def test8(a):\n",
    "    for i in l:\n",
    "        return i\n",
    "    \n",
    "test8(a)"
   ]
  },
  {
   "cell_type": "code",
   "execution_count": 29,
   "id": "9a23112d-c004-4df6-8296-a573f858b3bc",
   "metadata": {},
   "outputs": [],
   "source": [
    "sach=[1,2,3,4,\"sach\",\"hawal\", [11,12,13,15,55,99]]"
   ]
  },
  {
   "cell_type": "code",
   "execution_count": 30,
   "id": "d940f3c9-7e2f-4b05-a1f2-33fe23d35d95",
   "metadata": {},
   "outputs": [],
   "source": [
    "def sach1(sach):\n",
    "    sach2=[]\n",
    "    for i in sach:\n",
    "        if type(i)==list:\n",
    "            for j in i:\n",
    "                sach2.append(j)\n",
    "        else:\n",
    "            if type(i)==int or type(i)==float:\n",
    "                sach2.append(i)\n",
    "    return sach2"
   ]
  },
  {
   "cell_type": "code",
   "execution_count": 31,
   "id": "ef1ebbe4-18d6-415c-80b4-6605d6ec6df1",
   "metadata": {},
   "outputs": [
    {
     "data": {
      "text/plain": [
       "[1, 2, 3, 4, 11, 12, 13, 15, 55, 99]"
      ]
     },
     "execution_count": 31,
     "metadata": {},
     "output_type": "execute_result"
    }
   ],
   "source": [
    "sach1(sach)"
   ]
  },
  {
   "cell_type": "code",
   "execution_count": null,
   "id": "1da5a9c5-eb99-43ea-aa4f-b527d7ff1ee6",
   "metadata": {},
   "outputs": [],
   "source": []
  },
  {
   "cell_type": "code",
   "execution_count": null,
   "id": "629c410f-9daa-429c-926d-dc0d024c708d",
   "metadata": {},
   "outputs": [],
   "source": []
  }
 ],
 "metadata": {
  "kernelspec": {
   "display_name": "Python 3 (ipykernel)",
   "language": "python",
   "name": "python3"
  },
  "language_info": {
   "codemirror_mode": {
    "name": "ipython",
    "version": 3
   },
   "file_extension": ".py",
   "mimetype": "text/x-python",
   "name": "python",
   "nbconvert_exporter": "python",
   "pygments_lexer": "ipython3",
   "version": "3.10.8"
  }
 },
 "nbformat": 4,
 "nbformat_minor": 5
}
