{
 "cells": [
  {
   "cell_type": "code",
   "execution_count": null,
   "id": "19f5d9fc-27d4-471e-8069-c49382ef57a4",
   "metadata": {},
   "outputs": [],
   "source": [
    "\"\"\" Azure Infrastructure, Azure DevOps, Azure Virtual Desktop, FSLogix, Azure Storage and Azure Insights/Monitoring, Terraform, SCCM, AppV, Azure Function App, Azure IAAS, PowerShell, ARM, Azure Migration, Azure Databricks, Data Migration, Azure Cosmos DB, Azure database for MySQL. \n",
    " Azure infrastructure migration experience [design & migration exp] required. \n",
    " Azure Database mgmt. & migration [Azure DB Admin] experience required. \n",
    " Azure Infra mgmt. [creation of VM, VNET, Site2Site conn, backup exp] - Contributor Role - Windows server management (updating and patching etc). \n",
    " Should have fair understanding of managing the server security patches. \n",
    " Know how to deploy patches to all the available VM using the azure tools. \n",
    " Hands-on experience on PowerShell (able to write and modify scripts). \n",
    " He should be well versed with PowerShell and other infra-automation technologies like Terraform. Know how to create and work on PowerShell script. \n",
    " Azure migration and disaster recovery management\n",
    " He should have knowledge of VM hardening and how to add VM to domain. \n",
    " He should know the migration best practices migration of any application from on prem to cloud(azure)\n",
    " He should have worked on Network security management and configuration. \n",
    " He should have worked on Azure load balancer either public or internal or application gateway. \n",
    " Azure DevOps Implement and improve monitoring and alerting. \n",
    " Azure DevOps Build and maintain highly available systems on Kubernetes. \n",
    " Implement and manage CI/CD pipelines. \n",
    " Implement an auto-scaling system for our Kubernetes nodes. \n",
    " Participate in on-call rotations. \n",
    " Setting up the environment for CAAS and PAAS so that the application team can use it to deploy their projects. \n",
    " Demonstrable experience of end-to-end deployment for On-Prem (Linux server)\n",
    " Strong understanding of network fundamentals, IP, and related services (DNS, VPN, firewalls, etc.), and security concerns\n",
    " Deployment automation, monitoring and maintaining large-scale services with various underlying dependencies in a complex. \n",
    " Azure Virtual Desktop implementation with Automation via Terraform and Azure Function App. \n",
    "\n",
    "\n",
    "Who You Are\n",
    "\n",
    "\n",
    "Qualification Requirements:\n",
    "\n",
    "\n",
    " Extensive experience designing and implementing IaaS, PaaS, or SaaS solutions in a public cloud environment. \n",
    " Subject matter expertise in Azure cloud. \n",
    " Experience with Aws or Google Cloud Platform (GCP). \n",
    " Able to construct cloud formation scripts to automate the deployment of complex cloud architectures. \n",
    " An understanding of virtual machines and containerization technology such as docker or Kubernetes. \n",
    " Minimum of 12 years of experience in IT-related work. \n",
    " Certified Azure Solution Architect. \n",
    " Retain one or more of other cloud certifications: AWS/GCP. \n",
    " Experience in solution architecture, DevSecOps practices, and cloud integration. \n",
    " Working knowledge of common and industry standard cloud-native/cloud-friendly authentication mechanisms (OAuth, OpenID, SAML, etc.). \n",
    " Added advantage Experience with scripting languages such as PowerShell, Perl, Python, or Java. \n",
    " 5-8 years overall Cloud architect experience. \n",
    " Understanding of cloud security capabilities and risks. \n",
    " Strong security inclination. \n",
    " Bachelor s degree or equivalent in professional experience. \n",
    " Operations or systems administration experience, particularly on Linux. \n",
    " Experience with Kubernetes, Docker, and/or cloud deployment technologies. \n",
    " Experience with container networking on Docker. \n",
    " Experience with application deployment by using CI/CD. Knowledge in Jenkins is a must. \n",
    " Experience with monitoring tools like Prometheus, Grafana, Datadog, etc. \n",
    "\"\"\""
   ]
  }
 ],
 "metadata": {
  "kernelspec": {
   "display_name": "Python 3 (ipykernel)",
   "language": "python",
   "name": "python3"
  },
  "language_info": {
   "codemirror_mode": {
    "name": "ipython",
    "version": 3
   },
   "file_extension": ".py",
   "mimetype": "text/x-python",
   "name": "python",
   "nbconvert_exporter": "python",
   "pygments_lexer": "ipython3",
   "version": "3.10.8"
  }
 },
 "nbformat": 4,
 "nbformat_minor": 5
}
