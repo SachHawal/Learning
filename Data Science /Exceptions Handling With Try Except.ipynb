{
 "cells": [
  {
   "cell_type": "code",
   "execution_count": 1,
   "id": "6eb0ed8e-11ca-4d13-b7fb-65765df64391",
   "metadata": {},
   "outputs": [
    {
     "ename": "NameError",
     "evalue": "name 'a' is not defined",
     "output_type": "error",
     "traceback": [
      "\u001b[0;31m---------------------------------------------------------------------------\u001b[0m",
      "\u001b[0;31mNameError\u001b[0m                                 Traceback (most recent call last)",
      "Cell \u001b[0;32mIn[1], line 1\u001b[0m\n\u001b[0;32m----> 1\u001b[0m \u001b[43ma\u001b[49m\u001b[38;5;241m/\u001b[39m\u001b[38;5;241m0\u001b[39m\n",
      "\u001b[0;31mNameError\u001b[0m: name 'a' is not defined"
     ]
    }
   ],
   "source": [
    "a/0\n"
   ]
  },
  {
   "cell_type": "code",
   "execution_count": 2,
   "id": "b46c7c7d-7d2a-4565-a819-ed04cf3d64df",
   "metadata": {},
   "outputs": [
    {
     "ename": "NameError",
     "evalue": "name 'f' is not defined",
     "output_type": "error",
     "traceback": [
      "\u001b[0;31m---------------------------------------------------------------------------\u001b[0m",
      "\u001b[0;31mNameError\u001b[0m                                 Traceback (most recent call last)",
      "Cell \u001b[0;32mIn[2], line 1\u001b[0m\n\u001b[0;32m----> 1\u001b[0m f\u001b[38;5;241m=\u001b[39m\u001b[43mf\u001b[49m\u001b[38;5;241m.\u001b[39mopen(\u001b[38;5;124m\"\u001b[39m\u001b[38;5;124mtext43.tct\u001b[39m\u001b[38;5;124m\"\u001b[39m,\u001b[38;5;124m\"\u001b[39m\u001b[38;5;124mw\u001b[39m\u001b[38;5;124m\"\u001b[39m)\n\u001b[1;32m      2\u001b[0m \u001b[38;5;28mprint\u001b[39m(\u001b[38;5;124m\"\u001b[39m\u001b[38;5;124mthis is my error block  which we will  handle using exceptin hadling method\u001b[39m\u001b[38;5;124m\"\u001b[39m)\n",
      "\u001b[0;31mNameError\u001b[0m: name 'f' is not defined"
     ]
    }
   ],
   "source": [
    "f=f.open(\"text43.tct\",\"w\")\n",
    "print(\"this is my error block  which we will  handle using exceptin hadling method\")"
   ]
  },
  {
   "cell_type": "code",
   "execution_count": 3,
   "id": "ab6305d6-3fb7-4ee0-bfbb-11140d03de37",
   "metadata": {},
   "outputs": [],
   "source": [
    "#Here in above code first line have a error but in secondline there is a no error but its showing errors to deal like this error we use \n",
    "#try and exceptopn methos here "
   ]
  },
  {
   "cell_type": "code",
   "execution_count": 4,
   "id": "0314299b-bcb2-41f7-b190-4da7e27da3b7",
   "metadata": {},
   "outputs": [
    {
     "name": "stdout",
     "output_type": "stream",
     "text": [
      "this is my eror block and error are follows  name 'f' is not defined\n"
     ]
    },
    {
     "data": {
      "text/plain": [
       "12"
      ]
     },
     "execution_count": 4,
     "metadata": {},
     "output_type": "execute_result"
    }
   ],
   "source": [
    "try:\n",
    "    f.open(\"sachu.txt\",\"w\")\n",
    "except Exception as e :\n",
    "    print(\"this is my eror block and error are follows \",e) \n",
    "\n",
    "4+8"
   ]
  },
  {
   "cell_type": "code",
   "execution_count": 5,
   "id": "75a6dd00-3aef-4492-8875-cc0a7c20fccf",
   "metadata": {},
   "outputs": [],
   "source": [
    "try:\n",
    "    f=open(\"sachu.txt\",\"w\")\n",
    "    f.write(\"hi pillu this is my executed line its not further under exception bcs noerror here \")\n",
    "    f.close()\n",
    "except Exception as e :\n",
    "    print(\"this is my eror block and error are follows \",e) "
   ]
  },
  {
   "cell_type": "code",
   "execution_count": 6,
   "id": "646c1d6f-1aff-43f2-9c82-06e8ad0b58e7",
   "metadata": {},
   "outputs": [
    {
     "name": "stdout",
     "output_type": "stream",
     "text": [
      "file created successfully bcs there is no error in try block\n"
     ]
    }
   ],
   "source": [
    "#using else ethod \n",
    "try:\n",
    "    f=open(\"sachu.txt\",\"w\")\n",
    "    f.write(\"hi pillu this is my executed line its not further under exception bcs noerror here \")\n",
    "except Exception as e :\n",
    "    print(\"this is my eror block and error are follows \",e) \n",
    "else:\n",
    "    f.close()\n",
    "    print(\"file created successfully bcs there is no error in try block\")"
   ]
  },
  {
   "cell_type": "code",
   "execution_count": 7,
   "id": "1e268b3d-0123-4cc5-968c-3e034348d23f",
   "metadata": {},
   "outputs": [
    {
     "name": "stdout",
     "output_type": "stream",
     "text": [
      "this is my eror block and error are follows  [Errno 2] No such file or directory: 'sachudd.txt'\n"
     ]
    }
   ],
   "source": [
    "#using else ethod are not passed to else bcs there is a error in try method \n",
    "try:\n",
    "    f=open(\"sachudd.txt\",\"r\")\n",
    "    f.write(\"hi pillu this is my executed line its not further under exception bcs noerror here \")\n",
    "except Exception as e :\n",
    "    print(\"this is my eror block and error are follows \",e) \n",
    "else:\n",
    "    f.close()\n",
    "    print(\"file created successfully bcs there is no error in try block\")"
   ]
  },
  {
   "cell_type": "code",
   "execution_count": 8,
   "id": "8eb398ff-0731-4118-9d6e-fd6a7a70f2f1",
   "metadata": {},
   "outputs": [
    {
     "name": "stdout",
     "output_type": "stream",
     "text": [
      "no matter what wiill happen in try block i will execute as i am finally method :)\n"
     ]
    },
    {
     "ename": "FileNotFoundError",
     "evalue": "[Errno 2] No such file or directory: 'saksh333.txt'",
     "output_type": "error",
     "traceback": [
      "\u001b[0;31m---------------------------------------------------------------------------\u001b[0m",
      "\u001b[0;31mFileNotFoundError\u001b[0m                         Traceback (most recent call last)",
      "Cell \u001b[0;32mIn[8], line 3\u001b[0m\n\u001b[1;32m      1\u001b[0m \u001b[38;5;66;03m#4th method finally \u001b[39;00m\n\u001b[1;32m      2\u001b[0m \u001b[38;5;28;01mtry\u001b[39;00m:\n\u001b[0;32m----> 3\u001b[0m     f\u001b[38;5;241m=\u001b[39m\u001b[38;5;28;43mopen\u001b[39;49m\u001b[43m(\u001b[49m\u001b[38;5;124;43m\"\u001b[39;49m\u001b[38;5;124;43msaksh333.txt\u001b[39;49m\u001b[38;5;124;43m\"\u001b[39;49m\u001b[43m,\u001b[49m\u001b[38;5;124;43m\"\u001b[39;49m\u001b[38;5;124;43mr\u001b[39;49m\u001b[38;5;124;43m\"\u001b[39;49m\u001b[43m)\u001b[49m\n\u001b[1;32m      4\u001b[0m     f\u001b[38;5;241m.\u001b[39mwrite()\n\u001b[1;32m      5\u001b[0m \u001b[38;5;28;01mfinally\u001b[39;00m:\n",
      "File \u001b[0;32m/opt/conda/lib/python3.10/site-packages/IPython/core/interactiveshell.py:282\u001b[0m, in \u001b[0;36m_modified_open\u001b[0;34m(file, *args, **kwargs)\u001b[0m\n\u001b[1;32m    275\u001b[0m \u001b[38;5;28;01mif\u001b[39;00m file \u001b[38;5;129;01min\u001b[39;00m {\u001b[38;5;241m0\u001b[39m, \u001b[38;5;241m1\u001b[39m, \u001b[38;5;241m2\u001b[39m}:\n\u001b[1;32m    276\u001b[0m     \u001b[38;5;28;01mraise\u001b[39;00m \u001b[38;5;167;01mValueError\u001b[39;00m(\n\u001b[1;32m    277\u001b[0m         \u001b[38;5;124mf\u001b[39m\u001b[38;5;124m\"\u001b[39m\u001b[38;5;124mIPython won\u001b[39m\u001b[38;5;124m'\u001b[39m\u001b[38;5;124mt let you open fd=\u001b[39m\u001b[38;5;132;01m{\u001b[39;00mfile\u001b[38;5;132;01m}\u001b[39;00m\u001b[38;5;124m by default \u001b[39m\u001b[38;5;124m\"\u001b[39m\n\u001b[1;32m    278\u001b[0m         \u001b[38;5;124m\"\u001b[39m\u001b[38;5;124mas it is likely to crash IPython. If you know what you are doing, \u001b[39m\u001b[38;5;124m\"\u001b[39m\n\u001b[1;32m    279\u001b[0m         \u001b[38;5;124m\"\u001b[39m\u001b[38;5;124myou can use builtins\u001b[39m\u001b[38;5;124m'\u001b[39m\u001b[38;5;124m open.\u001b[39m\u001b[38;5;124m\"\u001b[39m\n\u001b[1;32m    280\u001b[0m     )\n\u001b[0;32m--> 282\u001b[0m \u001b[38;5;28;01mreturn\u001b[39;00m \u001b[43mio_open\u001b[49m\u001b[43m(\u001b[49m\u001b[43mfile\u001b[49m\u001b[43m,\u001b[49m\u001b[43m \u001b[49m\u001b[38;5;241;43m*\u001b[39;49m\u001b[43margs\u001b[49m\u001b[43m,\u001b[49m\u001b[43m \u001b[49m\u001b[38;5;241;43m*\u001b[39;49m\u001b[38;5;241;43m*\u001b[39;49m\u001b[43mkwargs\u001b[49m\u001b[43m)\u001b[49m\n",
      "\u001b[0;31mFileNotFoundError\u001b[0m: [Errno 2] No such file or directory: 'saksh333.txt'"
     ]
    }
   ],
   "source": [
    "#4th method finally \n",
    "try:\n",
    "    f=open(\"saksh333.txt\",\"r\")\n",
    "    f.write()\n",
    "finally:\n",
    "    print(\"no matter what wiill happen in try block i will execute as i am finally method :)\")"
   ]
  },
  {
   "cell_type": "code",
   "execution_count": null,
   "id": "08685b12-b499-4acb-a764-573349b70454",
   "metadata": {},
   "outputs": [],
   "source": [
    "# Custom Exception Handling"
   ]
  },
  {
   "cell_type": "code",
   "execution_count": 11,
   "id": "b4df9d51-7445-49f5-acc3-4c7af097846a",
   "metadata": {},
   "outputs": [
    {
     "name": "stdin",
     "output_type": "stream",
     "text": [
      "enter your age 34\n"
     ]
    }
   ],
   "source": [
    "age=input(\"enter your age\")\n",
    "a=int(age)"
   ]
  },
  {
   "cell_type": "code",
   "execution_count": 13,
   "id": "64865b2b-9088-4410-87da-15c12678e38d",
   "metadata": {},
   "outputs": [],
   "source": [
    "class validateage(Exception):\n",
    "    \n",
    "    def __init__(self,age):\n",
    "        self.age=age\n",
    "        "
   ]
  },
  {
   "cell_type": "code",
   "execution_count": 16,
   "id": "086a7f32-3c83-4036-9881-dc8545cfb1dc",
   "metadata": {},
   "outputs": [],
   "source": [
    "def validateage(age):\n",
    "    if age<0:\n",
    "        print(\"Age is in Negative\")\n",
    "    elif age >150:\n",
    "        print(\"age it tooo High\")\n",
    "    else:\n",
    "        print(\"age is correct \")\n",
    "        \n",
    "    "
   ]
  },
  {
   "cell_type": "code",
   "execution_count": 22,
   "id": "d4a74345-b37e-461a-9943-574a0f0f8c36",
   "metadata": {},
   "outputs": [
    {
     "name": "stdin",
     "output_type": "stream",
     "text": [
      "Enter your age: 156\n"
     ]
    },
    {
     "name": "stdout",
     "output_type": "stream",
     "text": [
      "age it tooo High\n"
     ]
    }
   ],
   "source": [
    "try:\n",
    "    age=int(input(\"Enter your age:\"))\n",
    "    validateage(age)\n",
    "except Exception as e:\n",
    "    print(e)"
   ]
  },
  {
   "cell_type": "code",
   "execution_count": null,
   "id": "3efdf709-f42a-4195-ac2f-16e7b1db272b",
   "metadata": {},
   "outputs": [],
   "source": []
  },
  {
   "cell_type": "code",
   "execution_count": null,
   "id": "88407523-d4e7-440d-998c-ed2a25b50410",
   "metadata": {},
   "outputs": [],
   "source": []
  }
 ],
 "metadata": {
  "kernelspec": {
   "display_name": "Python 3 (ipykernel)",
   "language": "python",
   "name": "python3"
  },
  "language_info": {
   "codemirror_mode": {
    "name": "ipython",
    "version": 3
   },
   "file_extension": ".py",
   "mimetype": "text/x-python",
   "name": "python",
   "nbconvert_exporter": "python",
   "pygments_lexer": "ipython3",
   "version": "3.10.8"
  }
 },
 "nbformat": 4,
 "nbformat_minor": 5
}
