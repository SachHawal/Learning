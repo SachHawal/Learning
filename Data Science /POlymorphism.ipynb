{
 "cells": [
  {
   "cell_type": "code",
   "execution_count": 10,
   "id": "75ba7f4e-e28d-48ae-8cd5-dbefe6f5859c",
   "metadata": {},
   "outputs": [],
   "source": [
    "def test(a,b):\n",
    "    return a + b"
   ]
  },
  {
   "cell_type": "code",
   "execution_count": 12,
   "id": "6c98db76-459a-4de9-b44b-e0de506f48f8",
   "metadata": {},
   "outputs": [
    {
     "data": {
      "text/plain": [
       "10"
      ]
     },
     "execution_count": 12,
     "metadata": {},
     "output_type": "execute_result"
    }
   ],
   "source": [
    "test(3,7)"
   ]
  },
  {
   "cell_type": "code",
   "execution_count": 15,
   "id": "d79092ef-ffdc-4ef7-9fc2-bd4a06a261e4",
   "metadata": {},
   "outputs": [
    {
     "data": {
      "text/plain": [
       "'sach  Hawal'"
      ]
     },
     "execution_count": 15,
     "metadata": {},
     "output_type": "execute_result"
    }
   ],
   "source": [
    "test(\"sach \",\" Hawal\")"
   ]
  },
  {
   "cell_type": "code",
   "execution_count": 38,
   "id": "2cf2b626-48b1-4099-b48c-8fea11de0a53",
   "metadata": {},
   "outputs": [],
   "source": [
    "class data_science():\n",
    "    def syllabus(self):\n",
    "        print( \"this is my data science sylabus\")"
   ]
  },
  {
   "cell_type": "code",
   "execution_count": 39,
   "id": "faab6320-a923-49d8-a12c-a54686e5997d",
   "metadata": {},
   "outputs": [],
   "source": [
    "class web_dev():\n",
    "    def syllabus(self):\n",
    "        print( \"This is my Web dev sylabus\")"
   ]
  },
  {
   "cell_type": "code",
   "execution_count": 40,
   "id": "31e3f052-69e7-4a4a-935e-7fa6ad2f5159",
   "metadata": {},
   "outputs": [],
   "source": [
    "def parcer(class_obj):\n",
    "    for i in class_obj:\n",
    "        i.syllabus()"
   ]
  },
  {
   "cell_type": "code",
   "execution_count": 41,
   "id": "45197fa1-068e-4e69-a3e6-e6715960c5cd",
   "metadata": {},
   "outputs": [],
   "source": [
    "data_science = data_science()"
   ]
  },
  {
   "cell_type": "code",
   "execution_count": 42,
   "id": "7ed0c69a-afa9-4ac2-bd4c-122aedbf5076",
   "metadata": {},
   "outputs": [],
   "source": [
    "web_dev=web_dev()"
   ]
  },
  {
   "cell_type": "code",
   "execution_count": 43,
   "id": "ab3150c9-46d5-4ab7-af7d-f3c71a60da44",
   "metadata": {},
   "outputs": [],
   "source": [
    "class_obj=[data_science,web_dev]"
   ]
  },
  {
   "cell_type": "code",
   "execution_count": 44,
   "id": "43a10691-fedc-49fd-b0f8-c0662926e10b",
   "metadata": {},
   "outputs": [
    {
     "name": "stdout",
     "output_type": "stream",
     "text": [
      "this is my data science sylabus\n",
      "This is my Web dev sylabus\n"
     ]
    }
   ],
   "source": [
    "parcer(class_obj)"
   ]
  },
  {
   "cell_type": "code",
   "execution_count": null,
   "id": "9bbe9b07-20ef-4a8e-8a9b-373a0a7c09a9",
   "metadata": {},
   "outputs": [],
   "source": []
  },
  {
   "cell_type": "code",
   "execution_count": null,
   "id": "b582019f-115a-41f5-bc9d-47bc38f7791a",
   "metadata": {},
   "outputs": [],
   "source": []
  }
 ],
 "metadata": {
  "kernelspec": {
   "display_name": "Python 3 (ipykernel)",
   "language": "python",
   "name": "python3"
  },
  "language_info": {
   "codemirror_mode": {
    "name": "ipython",
    "version": 3
   },
   "file_extension": ".py",
   "mimetype": "text/x-python",
   "name": "python",
   "nbconvert_exporter": "python",
   "pygments_lexer": "ipython3",
   "version": "3.10.8"
  }
 },
 "nbformat": 4,
 "nbformat_minor": 5
}
