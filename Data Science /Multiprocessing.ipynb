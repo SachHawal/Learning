{
 "cells": [
  {
   "cell_type": "code",
   "execution_count": 19,
   "id": "d6ac02e5-5b23-4a0c-bbba-ccf300b1b997",
   "metadata": {},
   "outputs": [],
   "source": [
    "def test():\n",
    "    print(\"this is my main proceesingn pro\")"
   ]
  },
  {
   "cell_type": "code",
   "execution_count": 20,
   "id": "c15ad321-561d-4093-b9ac-ef9484ccbb7b",
   "metadata": {},
   "outputs": [
    {
     "name": "stdout",
     "output_type": "stream",
     "text": [
      "this is my main proceesingn pro\n"
     ]
    }
   ],
   "source": [
    "test()"
   ]
  },
  {
   "cell_type": "code",
   "execution_count": 22,
   "id": "0d4d9a1f-35f3-4818-ada4-b988cb5b047f",
   "metadata": {},
   "outputs": [
    {
     "name": "stdout",
     "output_type": "stream",
     "text": [
      "Multiprocesing using multi\n",
      "this is my main def\n"
     ]
    }
   ],
   "source": [
    "import multiprocessing\n",
    "def test():\n",
    "    print(\"this is my main def\")\n",
    "    \n",
    "    \n",
    "if __name__== \"__main__\":\n",
    "    m=multiprocessing.Process(target=test)\n",
    "    print(\"Multiprocesing using multi\")\n",
    "    m.start()\n",
    "    m.join()"
   ]
  },
  {
   "cell_type": "code",
   "execution_count": null,
   "id": "d06db57c-4944-4b8b-8565-e20c764f2307",
   "metadata": {},
   "outputs": [],
   "source": [
    "def squere(n):\n",
    "    return n**2\n",
    "\n",
    "if __name__=='__main__':\n",
    "    with multiprocessing.Pool(processes=4) as pool:\n",
    "        out=pool.map(squere,[1,2,3,4,5,6,7,8])\n",
    "        print(out)\n",
    "        "
   ]
  },
  {
   "cell_type": "code",
   "execution_count": 64,
   "id": "b0a2e7bd-5070-4869-98ef-68ca197d0abc",
   "metadata": {},
   "outputs": [
    {
     "name": "stdout",
     "output_type": "stream",
     "text": [
      "0\n",
      "1"
     ]
    },
    {
     "ename": "NameError",
     "evalue": "name 'q' is not defined",
     "output_type": "error",
     "traceback": [
      "\u001b[0;31m---------------------------------------------------------------------------\u001b[0m",
      "\u001b[0;31mNameError\u001b[0m                                 Traceback (most recent call last)",
      "Cell \u001b[0;32mIn[64], line 18\u001b[0m\n\u001b[1;32m     16\u001b[0m m1\u001b[38;5;241m.\u001b[39mstart()\n\u001b[1;32m     17\u001b[0m m2\u001b[38;5;241m.\u001b[39mstart()\n\u001b[0;32m---> 18\u001b[0m \u001b[43mq\u001b[49m\u001b[38;5;241m.\u001b[39mput(\u001b[38;5;124m\"\u001b[39m\u001b[38;5;124msachin:\u001b[39m\u001b[38;5;124m\"\u001b[39m)\n\u001b[1;32m     19\u001b[0m m1\u001b[38;5;241m.\u001b[39mjoin()\n\u001b[1;32m     20\u001b[0m m2\u001b[38;5;241m.\u001b[39mjoin()\n",
      "\u001b[0;31mNameError\u001b[0m: name 'q' is not defined"
     ]
    },
    {
     "name": "stdout",
     "output_type": "stream",
     "text": [
      "\n",
      "2\n",
      "3\n",
      "4\n",
      "5\n",
      "6\n",
      "7\n",
      "8\n",
      "9\n"
     ]
    }
   ],
   "source": [
    "def producer(q):\n",
    "    for i in range(10):\n",
    "        q.put(i)\n",
    "\n",
    "def consumer(q):\n",
    "    while True:\n",
    "        item=q.get()\n",
    "        if item is None:\n",
    "            break\n",
    "        print(item)\n",
    "        \n",
    "if __name__=='__main__':\n",
    "    queue=multiprocessing.Queue()\n",
    "    m1=multiprocessing.Process(target=producer,args=(queue,))\n",
    "    m2=multiprocessing.Process(target=consumer,args=(queue,))\n",
    "    m1.start()\n",
    "    m2.start()\n",
    "    q.put(\"sachin:\")\n",
    "    m1.join()\n",
    "    m2.join()"
   ]
  },
  {
   "cell_type": "code",
   "execution_count": null,
   "id": "c05d5916-379a-48d4-b704-c4b4fd2f0052",
   "metadata": {},
   "outputs": [],
   "source": []
  },
  {
   "cell_type": "code",
   "execution_count": null,
   "id": "484b2a88-184e-4854-9a46-85dc8c983cdf",
   "metadata": {},
   "outputs": [],
   "source": []
  },
  {
   "cell_type": "code",
   "execution_count": null,
   "id": "e985c6f1-a3dc-451a-ba4d-c3bc5b8b6aa0",
   "metadata": {},
   "outputs": [],
   "source": []
  }
 ],
 "metadata": {
  "kernelspec": {
   "display_name": "Python 3 (ipykernel)",
   "language": "python",
   "name": "python3"
  },
  "language_info": {
   "codemirror_mode": {
    "name": "ipython",
    "version": 3
   },
   "file_extension": ".py",
   "mimetype": "text/x-python",
   "name": "python",
   "nbconvert_exporter": "python",
   "pygments_lexer": "ipython3",
   "version": "3.10.8"
  }
 },
 "nbformat": 4,
 "nbformat_minor": 5
}
