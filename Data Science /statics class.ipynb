{
 "cells": [
  {
   "cell_type": "code",
   "execution_count": 3,
   "id": "00be2078-c0a3-4ff6-8735-f77933144f0d",
   "metadata": {},
   "outputs": [],
   "source": [
    "class pwskill():\n",
    "    def student(self,name,email,number):\n",
    "        print(name,email,number)"
   ]
  },
  {
   "cell_type": "code",
   "execution_count": 4,
   "id": "6226d403-d617-4bdf-898f-b3eb35a0edb8",
   "metadata": {},
   "outputs": [],
   "source": [
    "pw=pwskill()"
   ]
  },
  {
   "cell_type": "code",
   "execution_count": 5,
   "id": "e8f5535f-0928-47ac-bd2e-03392372ff45",
   "metadata": {},
   "outputs": [
    {
     "name": "stdout",
     "output_type": "stream",
     "text": [
      "sach gmai 1223\n"
     ]
    }
   ],
   "source": [
    "pw.student(\"sach\",\"gmai\",1223)"
   ]
  },
  {
   "cell_type": "code",
   "execution_count": 6,
   "id": "76f35bb1-80b0-4535-8188-fdf551921f5d",
   "metadata": {},
   "outputs": [],
   "source": [
    "#now here i want to create a class which we can call without creating any instance abject "
   ]
  },
  {
   "cell_type": "code",
   "execution_count": 7,
   "id": "994aa280-53bc-487d-9777-24572d71af26",
   "metadata": {},
   "outputs": [],
   "source": [
    "class pwskill():\n",
    "    def student(self,name,email,number):\n",
    "        print(name,email,number)\n",
    "        \n",
    "    @staticmethod\n",
    "    def mentore_list(list_mentor):\n",
    "        print(list_mentor)"
   ]
  },
  {
   "cell_type": "code",
   "execution_count": 8,
   "id": "d34ffd40-0b87-4103-9fa0-a354473edfc5",
   "metadata": {},
   "outputs": [
    {
     "name": "stdout",
     "output_type": "stream",
     "text": [
      "['sachin', 'hawal', 'aksh']\n"
     ]
    }
   ],
   "source": [
    "pwskill.mentore_list(['sachin','hawal','aksh'])"
   ]
  },
  {
   "cell_type": "code",
   "execution_count": null,
   "id": "8d914b9e-fd24-4041-8efc-bcedb8f6d3e4",
   "metadata": {},
   "outputs": [],
   "source": []
  }
 ],
 "metadata": {
  "kernelspec": {
   "display_name": "Python 3 (ipykernel)",
   "language": "python",
   "name": "python3"
  },
  "language_info": {
   "codemirror_mode": {
    "name": "ipython",
    "version": 3
   },
   "file_extension": ".py",
   "mimetype": "text/x-python",
   "name": "python",
   "nbconvert_exporter": "python",
   "pygments_lexer": "ipython3",
   "version": "3.10.8"
  }
 },
 "nbformat": 4,
 "nbformat_minor": 5
}
