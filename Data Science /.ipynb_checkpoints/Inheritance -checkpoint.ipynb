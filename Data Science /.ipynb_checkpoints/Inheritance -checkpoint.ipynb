{
 "cells": [
  {
   "cell_type": "code",
   "execution_count": 1,
   "id": "806dc94f-f2b3-451e-851f-95b4fea5ccd8",
   "metadata": {},
   "outputs": [],
   "source": [
    "class test():\n",
    "    def test_class(self):        #methos instance\n",
    "        return \"This is my first child class\"\n"
   ]
  },
  {
   "cell_type": "code",
   "execution_count": 2,
   "id": "4622da86-0f36-4a16-9f1f-733c5fe7743b",
   "metadata": {},
   "outputs": [],
   "source": [
    "class child_test(test):     #Child clas \n",
    "    pass                    #nothing to defing "
   ]
  },
  {
   "cell_type": "code",
   "execution_count": 4,
   "id": "a5e35e3d-2cbf-429f-bd46-21174a0e8820",
   "metadata": {},
   "outputs": [
    {
     "data": {
      "text/plain": [
       "'This is my first child class'"
      ]
     },
     "execution_count": 4,
     "metadata": {},
     "output_type": "execute_result"
    }
   ],
   "source": [
    "obj=test()        #object assignment\n",
    "obj.test_class()  #alling parent class via child class"
   ]
  },
  {
   "cell_type": "code",
   "execution_count": 6,
   "id": "e3e200e7-ca36-4eb3-a9f1-80ae37131fa8",
   "metadata": {},
   "outputs": [],
   "source": [
    "#Multilevel inhearitance\n",
    "class class1():\n",
    "    def class_test1(self):\n",
    "        return \"This is my class1\""
   ]
  },
  {
   "cell_type": "code",
   "execution_count": 7,
   "id": "35645b06-de9e-4c6c-a8ab-c9c6239066cb",
   "metadata": {},
   "outputs": [],
   "source": [
    "class class2(class1):\n",
    "    def class_test2(self):\n",
    "        return \"This is my class 2\""
   ]
  },
  {
   "cell_type": "code",
   "execution_count": 8,
   "id": "8b57165e-e225-46e4-882b-da168f116d22",
   "metadata": {},
   "outputs": [],
   "source": [
    "class class3(class2):\n",
    "    def class_test3(self):\n",
    "        pass"
   ]
  },
  {
   "cell_type": "code",
   "execution_count": 11,
   "id": "bc92afe7-d705-4e91-9437-d793b068ce24",
   "metadata": {},
   "outputs": [
    {
     "data": {
      "text/plain": [
       "'This is my class 2'"
      ]
     },
     "execution_count": 11,
     "metadata": {},
     "output_type": "execute_result"
    }
   ],
   "source": [
    "obj=class3()\n",
    "obj.class_test2()"
   ]
  },
  {
   "cell_type": "code",
   "execution_count": 12,
   "id": "31b2eaf1-d1b1-4522-969c-f63d571d0e78",
   "metadata": {},
   "outputs": [
    {
     "data": {
      "text/plain": [
       "'This is my class1'"
      ]
     },
     "execution_count": 12,
     "metadata": {},
     "output_type": "execute_result"
    }
   ],
   "source": [
    "obj.class_test1()"
   ]
  },
  {
   "cell_type": "code",
   "execution_count": 28,
   "id": "0cc6422f-9dad-453e-b402-5ee663d00661",
   "metadata": {},
   "outputs": [],
   "source": [
    "#multiple Inhearitance \n",
    "class class11():\n",
    "    def class_test11(self):\n",
    "        return \"Hi sachin This is my class1\""
   ]
  },
  {
   "cell_type": "code",
   "execution_count": 32,
   "id": "abb5cd0b-d11c-4f72-8a70-6b0e1497beb7",
   "metadata": {},
   "outputs": [],
   "source": [
    "class class22(class1):\n",
    "    def class_test22(self):\n",
    "        return \"Sachin This is your  class 2\""
   ]
  },
  {
   "cell_type": "code",
   "execution_count": 33,
   "id": "9d0fab11-a14a-46f6-a291-d9846c4a5bea",
   "metadata": {},
   "outputs": [],
   "source": [
    "class class33(class11,class22):\n",
    "    def class_test33(self):     #or we can directly access passs here \n",
    "        pass"
   ]
  },
  {
   "cell_type": "code",
   "execution_count": 34,
   "id": "c18e4d50-2ff0-4d22-9999-fe228151effd",
   "metadata": {},
   "outputs": [
    {
     "data": {
      "text/plain": [
       "'Hi sachin This is my class1'"
      ]
     },
     "execution_count": 34,
     "metadata": {},
     "output_type": "execute_result"
    }
   ],
   "source": [
    "obj1=class33()\n",
    "obj1.class_test11()"
   ]
  },
  {
   "cell_type": "code",
   "execution_count": 35,
   "id": "d417bb22-f94f-4ee0-949f-52625d49b37b",
   "metadata": {},
   "outputs": [
    {
     "data": {
      "text/plain": [
       "'Sachin This is your  class 2'"
      ]
     },
     "execution_count": 35,
     "metadata": {},
     "output_type": "execute_result"
    }
   ],
   "source": [
    "obj1=class33()\n",
    "obj1.class_test22()"
   ]
  },
  {
   "cell_type": "code",
   "execution_count": null,
   "id": "aebff676-ae34-4168-8f69-5f8c95d67dfa",
   "metadata": {},
   "outputs": [],
   "source": []
  },
  {
   "cell_type": "code",
   "execution_count": null,
   "id": "b454bde1-6e46-4d43-9015-334570e5e2ca",
   "metadata": {},
   "outputs": [],
   "source": []
  }
 ],
 "metadata": {
  "kernelspec": {
   "display_name": "Python 3 (ipykernel)",
   "language": "python",
   "name": "python3"
  },
  "language_info": {
   "codemirror_mode": {
    "name": "ipython",
    "version": 3
   },
   "file_extension": ".py",
   "mimetype": "text/x-python",
   "name": "python",
   "nbconvert_exporter": "python",
   "pygments_lexer": "ipython3",
   "version": "3.10.8"
  }
 },
 "nbformat": 4,
 "nbformat_minor": 5
}
