{
 "cells": [
  {
   "cell_type": "code",
   "execution_count": null,
   "id": "1a93900d-bfb6-46e5-99c2-470ed41b4b1b",
   "metadata": {},
   "outputs": [],
   "source": [
    "#WHILE\n",
    "#while loop check the condition first and than its enter under the body  for loop not check conditon first "
   ]
  },
  {
   "cell_type": "code",
   "execution_count": 13,
   "id": "b8c9df73-60c2-405c-8000-806897a7e18f",
   "metadata": {},
   "outputs": [
    {
     "name": "stdout",
     "output_type": "stream",
     "text": [
      "1\n",
      "2\n",
      "3\n",
      "4\n",
      "5\n",
      "6\n",
      "7\n",
      "8\n",
      "9\n",
      "10\n"
     ]
    }
   ],
   "source": [
    "a=0\n",
    "while a<=9:\n",
    "    a=a+1\n",
    "    print(a)"
   ]
  },
  {
   "cell_type": "code",
   "execution_count": 2,
   "id": "828db53e-8a78-4a9f-ac43-ef28def2aaa4",
   "metadata": {},
   "outputs": [
    {
     "name": "stdout",
     "output_type": "stream",
     "text": [
      "1\n",
      "2\n",
      "3\n",
      "4\n",
      "5\n",
      "6\n",
      "7\n",
      "8\n",
      "9\n",
      "10\n"
     ]
    }
   ],
   "source": [
    "a=1\n",
    "while a<=10:\n",
    "    print(a)\n",
    "    a=a+1"
   ]
  },
  {
   "cell_type": "code",
   "execution_count": 14,
   "id": "a25339d1-21a5-4232-9bb4-7dcf409d06fa",
   "metadata": {},
   "outputs": [
    {
     "name": "stdout",
     "output_type": "stream",
     "text": [
      "* \n",
      "* * \n",
      "* * * \n",
      "* * * * \n",
      "* * * * * \n"
     ]
    }
   ],
   "source": [
    "for i in range(0,5):\n",
    "    for j in range(i+1):\n",
    "        print(\"*\" , end=\" \")\n",
    "    print()\n",
    "#just for practice"
   ]
  },
  {
   "cell_type": "code",
   "execution_count": 15,
   "id": "e83823c6-500f-44e1-8b47-f919b2aecb83",
   "metadata": {},
   "outputs": [
    {
     "name": "stdout",
     "output_type": "stream",
     "text": [
      "0\n",
      "1\n",
      "2\n",
      "3\n",
      "4\n",
      "5\n",
      "6\n",
      "7\n",
      "8\n",
      "9\n",
      "10\n"
     ]
    }
   ],
   "source": [
    "a=0\n",
    "while a<=10:\n",
    "    print(a)\n",
    "    a=a+1\n"
   ]
  },
  {
   "cell_type": "code",
   "execution_count": null,
   "id": "1d1673bf-5216-41df-af4e-6f10abf1e537",
   "metadata": {},
   "outputs": [],
   "source": [
    "#sum up the number till some point "
   ]
  },
  {
   "cell_type": "code",
   "execution_count": 3,
   "id": "88084b40-75cf-415e-999f-660c4ad1de9b",
   "metadata": {},
   "outputs": [
    {
     "name": "stdin",
     "output_type": "stream",
     "text": [
      "ENter number 5\n"
     ]
    },
    {
     "data": {
      "text/plain": [
       "15"
      ]
     },
     "execution_count": 3,
     "metadata": {},
     "output_type": "execute_result"
    }
   ],
   "source": [
    "n=int(input(\"ENter number\"))\n",
    "starting_point=0\n",
    "counter=1\n",
    "\n",
    "while counter <= n:\n",
    "    starting_point=starting_point+counter\n",
    "    counter=counter+1\n",
    "starting_point"
   ]
  },
  {
   "cell_type": "code",
   "execution_count": null,
   "id": "ec6d6a01-01ba-45bd-b5cf-ff5ca1cbad4d",
   "metadata": {},
   "outputs": [],
   "source": [
    "#1,2,3,4,5=15 "
   ]
  },
  {
   "cell_type": "code",
   "execution_count": 5,
   "id": "f665e952-d9c6-4133-9c59-30665a4b4685",
   "metadata": {},
   "outputs": [
    {
     "name": "stdin",
     "output_type": "stream",
     "text": [
      "Enter your Number 5\n"
     ]
    },
    {
     "data": {
      "text/plain": [
       "120"
      ]
     },
     "execution_count": 5,
     "metadata": {},
     "output_type": "execute_result"
    }
   ],
   "source": [
    "#Factorial Number\n",
    "number = int(input(\"Enter your Number\"))\n",
    "factorial=1\n",
    "while number>0:\n",
    "             factorial=factorial*number\n",
    "             number=number-1\n",
    "factorial"
   ]
  },
  {
   "cell_type": "code",
   "execution_count": null,
   "id": "6b0b0c6f-3ec2-4e00-9015-d69040f494a5",
   "metadata": {},
   "outputs": [],
   "source": [
    "#Factorial 5 \n",
    "#5*4*3*2*1=120"
   ]
  },
  {
   "cell_type": "code",
   "execution_count": null,
   "id": "93f89760-3368-4496-a500-2a6365b5b6ed",
   "metadata": {},
   "outputs": [],
   "source": [
    "#Finonacci series \n",
    "# 0+1=1\n",
    "# 1+2=3\n",
    "# 2+3=5\n",
    "# 3+4=7"
   ]
  },
  {
   "cell_type": "code",
   "execution_count": 13,
   "id": "be666cf1-9811-48cb-8ed2-092a20020013",
   "metadata": {},
   "outputs": [
    {
     "name": "stdin",
     "output_type": "stream",
     "text": [
      "Enter Your Number: 10\n"
     ]
    },
    {
     "name": "stdout",
     "output_type": "stream",
     "text": [
      "0\n",
      "1\n",
      "1\n",
      "2\n",
      "3\n",
      "5\n",
      "8\n",
      "13\n",
      "21\n",
      "34\n"
     ]
    }
   ],
   "source": [
    "number=int(input(\"Enter Your Number:\"))\n",
    "a ,b= 0,1\n",
    "counter=0\n",
    "while counter<number:\n",
    "        print(a)\n",
    "        c=a+b\n",
    "        a=b\n",
    "        b=c\n",
    "        counter=counter+1\n",
    "                 "
   ]
  },
  {
   "cell_type": "code",
   "execution_count": 14,
   "id": "436fa95d-b9eb-409b-ba3f-d355819c3bf4",
   "metadata": {},
   "outputs": [
    {
     "name": "stdout",
     "output_type": "stream",
     "text": [
      "0\n",
      "1\n",
      "1\n",
      "2\n",
      "3\n",
      "5\n",
      "8\n",
      "13\n",
      "21\n",
      "34\n"
     ]
    }
   ],
   "source": [
    "#Finonacci series  using for loop\n",
    "a ,b =0,1\n",
    "for i in range(10):\n",
    "    print(a)\n",
    "    c=a+b\n",
    "    a=b\n",
    "    b=c\n",
    "    "
   ]
  },
  {
   "cell_type": "code",
   "execution_count": 15,
   "id": "0e1a517f-dd2f-4166-a5c6-c97120c6a769",
   "metadata": {},
   "outputs": [
    {
     "data": {
      "text/plain": [
       "'hcas'"
      ]
     },
     "execution_count": 15,
     "metadata": {},
     "output_type": "execute_result"
    }
   ],
   "source": [
    "s=\"sach\"\n",
    "s[::-1]"
   ]
  },
  {
   "cell_type": "code",
   "execution_count": 7,
   "id": "2c461d67-c292-4ec6-b50e-2c0ab0b4086d",
   "metadata": {},
   "outputs": [],
   "source": [
    "word='sach'"
   ]
  },
  {
   "cell_type": "code",
   "execution_count": 8,
   "id": "f94dd17b-6513-4d03-b7b7-49e59aee2ebc",
   "metadata": {},
   "outputs": [
    {
     "data": {
      "text/plain": [
       "4"
      ]
     },
     "execution_count": 8,
     "metadata": {},
     "output_type": "execute_result"
    }
   ],
   "source": [
    "len(word)"
   ]
  },
  {
   "cell_type": "code",
   "execution_count": 18,
   "id": "39995a05-72d8-4798-84ec-1a68cd932f3e",
   "metadata": {},
   "outputs": [
    {
     "name": "stdin",
     "output_type": "stream",
     "text": [
      " Enter your word sach\n"
     ]
    },
    {
     "name": "stdout",
     "output_type": "stream",
     "text": [
      "hcas\n"
     ]
    }
   ],
   "source": [
    "#reversing string\n",
    "word=input(\" Enter your word\")\n",
    "reverse=\"\"\n",
    "length=len(word)\n",
    "while length >0:\n",
    "    reverse=reverse+word[length-1]\n",
    "    length=length-1\n",
    "print(reverse)\n"
   ]
  },
  {
   "cell_type": "code",
   "execution_count": 23,
   "id": "3907ed0f-bd13-4da9-88ca-6a23c4eb11c6",
   "metadata": {},
   "outputs": [
    {
     "name": "stdin",
     "output_type": "stream",
     "text": [
      "entr your Number 2\n"
     ]
    },
    {
     "name": "stdout",
     "output_type": "stream",
     "text": [
      "5 * 1 = 2\n",
      "5 * 2 = 4\n",
      "5 * 3 = 6\n",
      "5 * 4 = 8\n",
      "5 * 5 = 10\n",
      "5 * 6 = 12\n",
      "5 * 7 = 14\n",
      "5 * 8 = 16\n",
      "5 * 9 = 18\n",
      "5 * 10 = 20\n"
     ]
    }
   ],
   "source": [
    "#print table number \n",
    "number=int(input(\"entr your Number\"))\n",
    "i=1\n",
    "while i<=10:\n",
    "    result=number*i\n",
    "    print(n,\"*\",i,\"=\",result)\n",
    "    i=i+1"
   ]
  },
  {
   "cell_type": "code",
   "execution_count": 27,
   "id": "0a49147d-8b2b-458e-83c7-5e434dff0dca",
   "metadata": {},
   "outputs": [
    {
     "name": "stdin",
     "output_type": "stream",
     "text": [
      "entr your Number 5\n"
     ]
    },
    {
     "name": "stdout",
     "output_type": "stream",
     "text": [
      "5 * 0 = 0\n",
      "5 * 1 = 5\n",
      "5 * 2 = 10\n",
      "5 * 3 = 15\n",
      "5 * 4 = 20\n",
      "5 * 5 = 25\n",
      "5 * 6 = 30\n",
      "5 * 7 = 35\n",
      "5 * 8 = 40\n",
      "5 * 9 = 45\n",
      "5 * 10 = 50\n"
     ]
    }
   ],
   "source": [
    "number=int(input(\"entr your Number\"))  #usnig for loop\n",
    "i=1\n",
    "for i in range(11):\n",
    "    result=number*i\n",
    "    print(n,\"*\",i,\"=\",result)\n",
    "    i=i+1"
   ]
  },
  {
   "cell_type": "code",
   "execution_count": 33,
   "id": "8b500baa-98b7-4386-b2cb-9bda49fcf5f1",
   "metadata": {},
   "outputs": [
    {
     "name": "stdout",
     "output_type": "stream",
     "text": [
      "1\n",
      "2\n",
      "3\n",
      "4\n",
      "this will be executed once while will complete it successfully\n"
     ]
    }
   ],
   "source": [
    "n=5\n",
    "i=1\n",
    "while i<n:\n",
    "    print(i)\n",
    "    i=i+1\n",
    "else:\n",
    "    print(\"this will be executed once while will complete it successfully\")"
   ]
  },
  {
   "cell_type": "code",
   "execution_count": 35,
   "id": "7884f2b9-c34c-42b5-a312-7a950dfd95b8",
   "metadata": {},
   "outputs": [
    {
     "name": "stdout",
     "output_type": "stream",
     "text": [
      "1\n",
      "2\n",
      "3\n"
     ]
    }
   ],
   "source": [
    "n=5\n",
    "i=1\n",
    "while i<n:\n",
    "    print(i)\n",
    "    if i == 3:\n",
    "        break\n",
    "    i=i+1\n",
    "else:\n",
    "    print(\"this will be executed once while will complete it successfully\")"
   ]
  },
  {
   "cell_type": "code",
   "execution_count": null,
   "id": "e3b295f3-906b-420d-9f05-fd5a95e62c39",
   "metadata": {},
   "outputs": [],
   "source": []
  }
 ],
 "metadata": {
  "kernelspec": {
   "display_name": "Python 3 (ipykernel)",
   "language": "python",
   "name": "python3"
  },
  "language_info": {
   "codemirror_mode": {
    "name": "ipython",
    "version": 3
   },
   "file_extension": ".py",
   "mimetype": "text/x-python",
   "name": "python",
   "nbconvert_exporter": "python",
   "pygments_lexer": "ipython3",
   "version": "3.10.8"
  }
 },
 "nbformat": 4,
 "nbformat_minor": 5
}
