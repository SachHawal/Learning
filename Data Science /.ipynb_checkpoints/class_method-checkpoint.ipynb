{
 "cells": [
  {
   "cell_type": "code",
   "execution_count": 5,
   "id": "ed7ed3ea-6670-4279-a348-5fe61f044d5d",
   "metadata": {},
   "outputs": [],
   "source": [
    "class Pwskills():\n",
    "    def __init__(self,name,email):\n",
    "        self.name=name\n",
    "        self.email=email\n",
    "    \n",
    "    def student_details(self):\n",
    "        print(self.name,self.email)"
   ]
  },
  {
   "cell_type": "code",
   "execution_count": 6,
   "id": "1bcfcff0-381c-449e-a5ef-c855d5a00424",
   "metadata": {},
   "outputs": [],
   "source": [
    "pw=Pwskills(\"sachin\",\"abc@gmail.com\")"
   ]
  },
  {
   "cell_type": "code",
   "execution_count": 7,
   "id": "f3b6710c-3a4a-4a9e-8d3d-d90f3667ec56",
   "metadata": {},
   "outputs": [
    {
     "data": {
      "text/plain": [
       "'sachin'"
      ]
     },
     "execution_count": 7,
     "metadata": {},
     "output_type": "execute_result"
    }
   ],
   "source": [
    "pw.name"
   ]
  },
  {
   "cell_type": "code",
   "execution_count": 8,
   "id": "5fde3e89-80c4-45ea-8500-2de5bca4c51f",
   "metadata": {},
   "outputs": [
    {
     "data": {
      "text/plain": [
       "'abc@gmail.com'"
      ]
     },
     "execution_count": 8,
     "metadata": {},
     "output_type": "execute_result"
    }
   ],
   "source": [
    "pw.email"
   ]
  },
  {
   "cell_type": "code",
   "execution_count": 10,
   "id": "8caeaf56-34f3-48db-907c-93786db756ad",
   "metadata": {},
   "outputs": [
    {
     "name": "stdout",
     "output_type": "stream",
     "text": [
      "sachin abc@gmail.com\n"
     ]
    }
   ],
   "source": [
    "pw.student_details()"
   ]
  },
  {
   "cell_type": "code",
   "execution_count": 11,
   "id": "a9c49793-826e-4ddf-a527-d92a9e141a4d",
   "metadata": {},
   "outputs": [],
   "source": [
    "#here overloading instance variable by calling class methods\n",
    "class pwskill1():\n",
    "    def __init__(self,name,email):\n",
    "        self.name=name\n",
    "        self.email=email\n",
    "        \n",
    "    @classmethod\n",
    "    def details(cls,name,email):\n",
    "        return cls(\"name\",\"email\")"
   ]
  },
  {
   "cell_type": "code",
   "execution_count": 12,
   "id": "e6a0d276-7d27-4e95-9f7e-fdf2029cabde",
   "metadata": {},
   "outputs": [
    {
     "data": {
      "text/plain": [
       "<__main__.pwskill1 at 0x7fb2781af160>"
      ]
     },
     "execution_count": 12,
     "metadata": {},
     "output_type": "execute_result"
    }
   ],
   "source": [
    "pwskill1.details(\"sachi\",\"abc@gamail\")"
   ]
  },
  {
   "cell_type": "code",
   "execution_count": 13,
   "id": "b4e2d31f-94d1-412a-a248-dd67211b08d6",
   "metadata": {},
   "outputs": [],
   "source": [
    "pw1=pwskill1.details(\"sachi\",\"abc@gamail\")"
   ]
  },
  {
   "cell_type": "code",
   "execution_count": 15,
   "id": "2d2dcb10-0ede-4cd4-941c-59df0ad685c0",
   "metadata": {},
   "outputs": [
    {
     "data": {
      "text/plain": [
       "'sachi'"
      ]
     },
     "execution_count": 15,
     "metadata": {},
     "output_type": "execute_result"
    }
   ],
   "source": [
    "pw1.name"
   ]
  },
  {
   "cell_type": "code",
   "execution_count": 16,
   "id": "64786ad3-e919-4a14-88e7-06dc13c4fba3",
   "metadata": {},
   "outputs": [
    {
     "data": {
      "text/plain": [
       "'Abc@gmail.com'"
      ]
     },
     "execution_count": 16,
     "metadata": {},
     "output_type": "execute_result"
    }
   ],
   "source": [
    "pw1.email\n"
   ]
  },
  {
   "cell_type": "code",
   "execution_count": 20,
   "id": "354cf9e5-dcf8-4913-8d53-95e0adc2e018",
   "metadata": {},
   "outputs": [
    {
     "data": {
      "text/plain": [
       "<__main__.pwskill1 at 0x7fb2781bc430>"
      ]
     },
     "execution_count": 20,
     "metadata": {},
     "output_type": "execute_result"
    }
   ],
   "source": [
    "pw1.details(\"sach\",\"123ja\")"
   ]
  },
  {
   "cell_type": "code",
   "execution_count": 23,
   "id": "c6b109ad-be75-45f5-b46a-ddec3b91f01c",
   "metadata": {},
   "outputs": [],
   "source": [
    "class pwskill2():\n",
    "    mobile_no=9008646473"
   ]
  },
  {
   "cell_type": "code",
   "execution_count": 24,
   "id": "2f6b4ed7-54cf-4a6e-892b-c6363e50330b",
   "metadata": {},
   "outputs": [
    {
     "data": {
      "text/plain": [
       "9008646473"
      ]
     },
     "execution_count": 24,
     "metadata": {},
     "output_type": "execute_result"
    }
   ],
   "source": [
    "pwskill2.mobile_no"
   ]
  },
  {
   "cell_type": "code",
   "execution_count": 26,
   "id": "4eed581c-6963-4c64-8b87-b07295e2c1c0",
   "metadata": {},
   "outputs": [],
   "source": [
    "class pwskill2():\n",
    "    mobile_no=9008646473\n",
    "    \n",
    "    def __init__(self,name,email):\n",
    "        self.name=name\n",
    "        self.email=email\n",
    "    \n",
    "    @classmethod\n",
    "    def details(cls,mobile_no):\n",
    "        pwskill2.mobile_no=mobile_no\n",
    "        \n",
    "    def student_details(self):\n",
    "        return self.name,self.email,pwskill2.mobile_no"
   ]
  },
  {
   "cell_type": "code",
   "execution_count": null,
   "id": "4ae1e4eb-9d5f-4bc2-8cfe-5d5dcde21ccb",
   "metadata": {},
   "outputs": [],
   "source": [
    "pwskill2.mobile_no"
   ]
  },
  {
   "cell_type": "code",
   "execution_count": null,
   "id": "e19fff3d-5664-48df-a747-3023869f7050",
   "metadata": {},
   "outputs": [],
   "source": [
    "pwskill2.details(9008326406)"
   ]
  },
  {
   "cell_type": "code",
   "execution_count": null,
   "id": "42634cc4-5dda-451c-afb0-5dbece2cdbb4",
   "metadata": {},
   "outputs": [],
   "source": [
    "pwskill2.mobile_no"
   ]
  },
  {
   "cell_type": "code",
   "execution_count": null,
   "id": "ab1c3df0-78d3-4e3b-9793-cd9e7b77ee18",
   "metadata": {},
   "outputs": [],
   "source": []
  }
 ],
 "metadata": {
  "kernelspec": {
   "display_name": "Python 3 (ipykernel)",
   "language": "python",
   "name": "python3"
  },
  "language_info": {
   "codemirror_mode": {
    "name": "ipython",
    "version": 3
   },
   "file_extension": ".py",
   "mimetype": "text/x-python",
   "name": "python",
   "nbconvert_exporter": "python",
   "pygments_lexer": "ipython3",
   "version": "3.10.8"
  }
 },
 "nbformat": 4,
 "nbformat_minor": 5
}
