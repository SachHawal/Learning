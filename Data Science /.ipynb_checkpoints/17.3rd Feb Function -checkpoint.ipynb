{
 "cells": [
  {
   "cell_type": "code",
   "execution_count": 1,
   "id": "35b2d941-6eea-44d6-8003-ec48588ceca7",
   "metadata": {},
   "outputs": [],
   "source": [
    "#Function"
   ]
  },
  {
   "cell_type": "code",
   "execution_count": 2,
   "id": "8e88d6fc-1378-4413-8d44-3dee3922b688",
   "metadata": {},
   "outputs": [],
   "source": [
    "# duild in functions are"
   ]
  },
  {
   "cell_type": "code",
   "execution_count": 3,
   "id": "1053b5b9-aa1b-4116-b135-335d9873aa0c",
   "metadata": {},
   "outputs": [],
   "source": [
    "#Print,len,type, ect"
   ]
  },
  {
   "cell_type": "code",
   "execution_count": 4,
   "id": "a8aba366-d069-4819-a74e-5f24a8836d4c",
   "metadata": {},
   "outputs": [],
   "source": [
    "# Function start with def"
   ]
  },
  {
   "cell_type": "code",
   "execution_count": null,
   "id": "64ff6539-bb5e-4808-beca-f9da39715c6c",
   "metadata": {},
   "outputs": [],
   "source": [
    "def test():\n",
    "    print(\"This my very very First Function\")"
   ]
  },
  {
   "cell_type": "code",
   "execution_count": null,
   "id": "537711e9-8932-42aa-a6c6-bb7bad996953",
   "metadata": {},
   "outputs": [],
   "source": [
    "test() #Calling a function"
   ]
  },
  {
   "cell_type": "code",
   "execution_count": null,
   "id": "b520ec9e-3944-40ac-a341-cb8a39289644",
   "metadata": {},
   "outputs": [],
   "source": [
    "test() + \"Sach\" #Its showing error because we thinking print which defined above its a str but its not a str , but here as per data typ print\n",
    "# always shows none type "
   ]
  },
  {
   "cell_type": "code",
   "execution_count": null,
   "id": "252d35db-bae6-4c49-88b0-7289027b4ed6",
   "metadata": {},
   "outputs": [],
   "source": [
    "def test1():\n",
    "    return \"This my very very First return\""
   ]
  },
  {
   "cell_type": "code",
   "execution_count": null,
   "id": "89e313da-181d-4aaf-8933-0f4d2b6b35bb",
   "metadata": {},
   "outputs": [],
   "source": [
    "test1()"
   ]
  },
  {
   "cell_type": "code",
   "execution_count": null,
   "id": "434f8fb0-8140-4418-bbe2-8c1e40d334c6",
   "metadata": {},
   "outputs": [],
   "source": [
    "test1()+ \"Sach\"  # her we use return typ to concanate date and avoide error generated from print none type "
   ]
  },
  {
   "cell_type": "code",
   "execution_count": null,
   "id": "f9e45173-36ee-4994-9371-180383a84ddc",
   "metadata": {},
   "outputs": [],
   "source": [
    "def test2():\n",
    "    "
   ]
  },
  {
   "cell_type": "code",
   "execution_count": null,
   "id": "c201d47d-a1c4-4b7c-a348-bfb9466a35bd",
   "metadata": {},
   "outputs": [],
   "source": []
  }
 ],
 "metadata": {
  "kernelspec": {
   "display_name": "Python 3 (ipykernel)",
   "language": "python",
   "name": "python3"
  },
  "language_info": {
   "codemirror_mode": {
    "name": "ipython",
    "version": 3
   },
   "file_extension": ".py",
   "mimetype": "text/x-python",
   "name": "python",
   "nbconvert_exporter": "python",
   "pygments_lexer": "ipython3",
   "version": "3.10.8"
  }
 },
 "nbformat": 4,
 "nbformat_minor": 5
}
