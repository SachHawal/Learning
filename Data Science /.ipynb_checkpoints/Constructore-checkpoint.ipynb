{
 "cells": [
  {
   "cell_type": "code",
   "execution_count": 1,
   "id": "49c4e8c7-7e7f-4b7e-9ce3-c20e285f2222",
   "metadata": {},
   "outputs": [],
   "source": [
    "#constructore calling direct without any attributes \n",
    "class Mobile:\n",
    "    def __init__(self):\n",
    "        print(\"Calling constructore caling\")"
   ]
  },
  {
   "cell_type": "code",
   "execution_count": 2,
   "id": "15f828f2-c149-49c5-9db5-a0da2ef14a28",
   "metadata": {},
   "outputs": [
    {
     "name": "stdout",
     "output_type": "stream",
     "text": [
      "Calling constructore caling\n"
     ]
    }
   ],
   "source": [
    "x=Mobile()"
   ]
  },
  {
   "cell_type": "code",
   "execution_count": 3,
   "id": "696d86f5-b9c3-484e-a1fe-19e1b2ddfaf7",
   "metadata": {},
   "outputs": [],
   "source": [
    "##constructore calling with one parameter and Arg \n",
    "class Mobile1:\n",
    "    def __init__(self,m):\n",
    "        self.model=m\n",
    "        print(\"Name\",m)"
   ]
  },
  {
   "cell_type": "code",
   "execution_count": 5,
   "id": "d45ead45-e185-48f6-8aa4-603d7c10219d",
   "metadata": {},
   "outputs": [
    {
     "name": "stdout",
     "output_type": "stream",
     "text": [
      "Name NOkia\n"
     ]
    }
   ],
   "source": [
    "x=Mobile1(\"NOkia\")"
   ]
  },
  {
   "cell_type": "code",
   "execution_count": 6,
   "id": "3c46f97a-daeb-4b95-b353-c82fe1a68478",
   "metadata": {},
   "outputs": [],
   "source": [
    "#default formal parameter\n",
    "class Mobile2:\n",
    "    def __init__(self,m,v=56):\n",
    "        self.model=m\n",
    "        print(\"Name\",m,v)"
   ]
  },
  {
   "cell_type": "code",
   "execution_count": 11,
   "id": "a6888e17-adf6-4d3d-98db-e3ed9487b7b7",
   "metadata": {},
   "outputs": [
    {
     "name": "stdout",
     "output_type": "stream",
     "text": [
      "Name NOkia 56\n"
     ]
    }
   ],
   "source": [
    "x=Mobile2(\"NOkia\")"
   ]
  },
  {
   "cell_type": "code",
   "execution_count": 14,
   "id": "cf05a87b-db43-4681-8ed1-12a44d978519",
   "metadata": {},
   "outputs": [],
   "source": [
    "#assigning seprate value for default parameter fromout side of the class\n",
    "class Mobile3:\n",
    "    def __init__(self,m,v=56):\n",
    "        self.model=m\n",
    "        print(\"Name\",m,87)"
   ]
  },
  {
   "cell_type": "code",
   "execution_count": 15,
   "id": "dfedd630-88dd-4774-a775-dea565135ec9",
   "metadata": {},
   "outputs": [
    {
     "name": "stdout",
     "output_type": "stream",
     "text": [
      "Name NOkia 87\n"
     ]
    }
   ],
   "source": [
    "x=Mobile3(\"NOkia\")"
   ]
  },
  {
   "cell_type": "code",
   "execution_count": 17,
   "id": "ab5ad7f5-71e9-4010-b333-6f14575b8ffc",
   "metadata": {},
   "outputs": [],
   "source": [
    "class Mobile3:\n",
    "    def __init__(self,m,v=56):\n",
    "        self.model=m\n",
    "        self.volume=v\n",
    "    def show_model(self,p):\n",
    "        price=p\n",
    "        print(\"Name of Model:\",self.model,\"price\",p)\n",
    "        print(\"Volume:\",self.volume)"
   ]
  },
  {
   "cell_type": "code",
   "execution_count": 19,
   "id": "9755066a-2956-4be7-836e-8b53e91cec2f",
   "metadata": {},
   "outputs": [
    {
     "name": "stdout",
     "output_type": "stream",
     "text": [
      "Name of Model: Nokia price 1000\n",
      "Volume: 56\n"
     ]
    }
   ],
   "source": [
    "realme=Mobile3(\"Nokia\")\n",
    "realme.show_model(1000)"
   ]
  },
  {
   "cell_type": "code",
   "execution_count": 65,
   "id": "2ce72562-fb7f-4124-b4d2-09b89d55657c",
   "metadata": {},
   "outputs": [
    {
     "name": "stdout",
     "output_type": "stream",
     "text": [
      "Name of Model: Nokia price 1000\n",
      "Volume: 1000\n"
     ]
    }
   ],
   "source": [
    "realme=Mobile3(\"Nokia\", 1000)\n",
    "realme.show_model(1000)"
   ]
  },
  {
   "cell_type": "code",
   "execution_count": 79,
   "id": "9c2fee9e-906b-4f23-b971-21e77793d72e",
   "metadata": {},
   "outputs": [
    {
     "data": {
      "text/plain": [
       "'Akshi'"
      ]
     },
     "execution_count": 79,
     "metadata": {},
     "output_type": "execute_result"
    }
   ],
   "source": [
    "#instance variable \n",
    "class Method():\n",
    "    def __init__(self):           #constructore\n",
    "        self.model=\"Akshi\"        #Instance Varible \n",
    "    def show(self):               #Instance Method\n",
    "        print(self.model)         #calling instance variable\n",
    "        \n",
    "sach=Method()\n",
    "sach.model\n"
   ]
  },
  {
   "cell_type": "code",
   "execution_count": 80,
   "id": "19156a35-3b42-479e-990e-dcc3eba0bf49",
   "metadata": {},
   "outputs": [
    {
     "name": "stdout",
     "output_type": "stream",
     "text": [
      "sachin\n"
     ]
    },
    {
     "data": {
      "text/plain": [
       "'sachin'"
      ]
     },
     "execution_count": 80,
     "metadata": {},
     "output_type": "execute_result"
    }
   ],
   "source": [
    "sach.model=\"sachin\"\n",
    "sach.show()\n",
    "sach.model"
   ]
  },
  {
   "cell_type": "code",
   "execution_count": 68,
   "id": "fbef3f8b-5994-4f4e-9152-cb99ac46a5d6",
   "metadata": {},
   "outputs": [
    {
     "name": "stdout",
     "output_type": "stream",
     "text": [
      "Akshi Sacin\n"
     ]
    }
   ],
   "source": [
    "#instance variable \n",
    "class Method1():\n",
    "    def __init__(self):           #constructore\n",
    "        self.model=\"Akshi\"        #Instance Varible \n",
    "    def show(self,p):               #Instance Method\n",
    "        print(self.model,p)         #calling instance variable\n",
    "        \n",
    "sach=Method1()\n",
    "sach.show(\"Sacin\")   #calling instance varaible out side the class "
   ]
  },
  {
   "cell_type": "code",
   "execution_count": 51,
   "id": "0ad532ba-cbc3-48ee-8a26-998cb4205bd2",
   "metadata": {},
   "outputs": [],
   "source": [
    "#OOPS CLASS AND STATICS VARIABLE \n",
    "class Ved():\n",
    "    sach=\"Hi there\"    \n",
    "    \n",
    "    @classmethod\n",
    "    def show(cls):\n",
    "        cls.sach"
   ]
  },
  {
   "cell_type": "code",
   "execution_count": 55,
   "id": "7409cebd-5ea7-46e6-9370-b627b88a232b",
   "metadata": {},
   "outputs": [
    {
     "data": {
      "text/plain": [
       "'Hi there'"
      ]
     },
     "execution_count": 55,
     "metadata": {},
     "output_type": "execute_result"
    }
   ],
   "source": [
    "a=Ved()\n",
    "Ved.sach #calling the static variable out side of the class"
   ]
  },
  {
   "cell_type": "code",
   "execution_count": 53,
   "id": "3a739bf0-2107-4b72-b283-5825cbd6b7af",
   "metadata": {},
   "outputs": [],
   "source": [
    "class Ved():\n",
    "    sach=\"Hi there\"\n",
    "    \n",
    "    @classmethod\n",
    "    def show(cls):\n",
    "        print(cls.sach)\n"
   ]
  },
  {
   "cell_type": "code",
   "execution_count": 54,
   "id": "74635d8e-56ef-4324-8444-2b47304f6b72",
   "metadata": {},
   "outputs": [
    {
     "name": "stdout",
     "output_type": "stream",
     "text": [
      "Hi there\n"
     ]
    }
   ],
   "source": [
    "b=Ved()\n",
    "Ved.show()   #calling static variable from inside of the function "
   ]
  },
  {
   "cell_type": "code",
   "execution_count": 24,
   "id": "baaf316d-3bc1-4bd3-b5c8-70c3c2577fb3",
   "metadata": {},
   "outputs": [
    {
     "data": {
      "text/plain": [
       "'Hawal'"
      ]
     },
     "execution_count": 24,
     "metadata": {},
     "output_type": "execute_result"
    }
   ],
   "source": [
    "#W have to read notbook notes to beter understand \n",
    "Ved.sach=\"Hawal\"\n",
    "Ved.sach"
   ]
  },
  {
   "cell_type": "code",
   "execution_count": 44,
   "id": "de912063-f5b1-4f1f-9462-ebcd56e13667",
   "metadata": {},
   "outputs": [],
   "source": [
    "class Mobile():\n",
    "    fp =\"Yes\"\n",
    "    def __init__(self):\n",
    "        self.model=\"Nokia\"\n",
    "    \n",
    "    def show(self):\n",
    "        print(self.model)\n",
    "        \n",
    "    @classmethod\n",
    "    def aksh(cls):\n",
    "        print(cls.fp)"
   ]
  },
  {
   "cell_type": "code",
   "execution_count": 45,
   "id": "a5bf4855-e9b8-4a41-8724-fa7e3f04f864",
   "metadata": {},
   "outputs": [
    {
     "name": "stdout",
     "output_type": "stream",
     "text": [
      "Nokia\n"
     ]
    }
   ],
   "source": [
    "a=Mobile()\n",
    "a.show()  #from inside the class calling \n"
   ]
  },
  {
   "cell_type": "code",
   "execution_count": 46,
   "id": "b4869c45-1bb6-4fec-9f25-15e0e4e6d216",
   "metadata": {},
   "outputs": [
    {
     "data": {
      "text/plain": [
       "'Nokia'"
      ]
     },
     "execution_count": 46,
     "metadata": {},
     "output_type": "execute_result"
    }
   ],
   "source": [
    "a.model  #outside the class caling "
   ]
  },
  {
   "cell_type": "code",
   "execution_count": 57,
   "id": "726ed6fe-2a0c-46a1-ba79-5dcc4fab1a2d",
   "metadata": {},
   "outputs": [
    {
     "data": {
      "text/plain": [
       "'Yes'"
      ]
     },
     "execution_count": 57,
     "metadata": {},
     "output_type": "execute_result"
    }
   ],
   "source": [
    "Mobile.fp"
   ]
  },
  {
   "cell_type": "code",
   "execution_count": 2,
   "id": "cc33bff5-161d-472e-a2d1-be7a7a88f1ee",
   "metadata": {},
   "outputs": [],
   "source": [
    "#class Name Spaces \n",
    "class Pree():\n",
    "    sach=\"Hi there\"\n",
    "    \n",
    "    @classmethod\n",
    "    def show(cls):\n",
    "        print(\"Sachin\",cls.sach)"
   ]
  },
  {
   "cell_type": "code",
   "execution_count": 12,
   "id": "59fc35c0-82b6-4d9a-b37c-c51ee4b832ca",
   "metadata": {},
   "outputs": [],
   "source": [
    "sach=Pree()\n",
    "sach1=Pree()\n",
    "sach2=Pree()\n",
    "sach3=Pree()"
   ]
  },
  {
   "cell_type": "code",
   "execution_count": 27,
   "id": "d27b8d0f-3af7-4dcd-853b-772b33e0dfb1",
   "metadata": {},
   "outputs": [
    {
     "name": "stdout",
     "output_type": "stream",
     "text": [
      "Hi there\n",
      "Hi there\n",
      "Hi there\n",
      "Hi there\n"
     ]
    }
   ],
   "source": [
    "print(sach.sach)\n",
    "print(sach1.sach)\n",
    "print(sach2.sach)\n",
    "print(sach3.sach)"
   ]
  },
  {
   "cell_type": "code",
   "execution_count": 28,
   "id": "278d20ef-f4e6-408b-a113-c71ec9e3a1cd",
   "metadata": {},
   "outputs": [],
   "source": [
    "#Now here we will chabge the vlaue of accessing class name \n",
    "Pree.sach=\"I am NOt here\""
   ]
  },
  {
   "cell_type": "code",
   "execution_count": 30,
   "id": "cc33c32f-37f1-4a9c-8f91-62b68606c3b4",
   "metadata": {},
   "outputs": [
    {
     "name": "stdout",
     "output_type": "stream",
     "text": [
      "I am NOt here\n",
      "I am NOt here\n",
      "I am NOt here\n",
      "I am NOt here\n"
     ]
    }
   ],
   "source": [
    "print(sach.sach)\n",
    "print(sach1.sach)\n",
    "print(sach2.sach)\n",
    "print(sach3.sach)"
   ]
  },
  {
   "cell_type": "code",
   "execution_count": 31,
   "id": "6040be9a-13ff-43b3-b5d6-8cc21200183e",
   "metadata": {},
   "outputs": [],
   "source": [
    "sach1.sach=\"I am Here\""
   ]
  },
  {
   "cell_type": "code",
   "execution_count": 32,
   "id": "64807b25-207f-4265-bba4-b49367e434d9",
   "metadata": {},
   "outputs": [
    {
     "name": "stdout",
     "output_type": "stream",
     "text": [
      "I am NOt here\n",
      "I am Here\n",
      "I am NOt here\n",
      "I am NOt here\n"
     ]
    }
   ],
   "source": [
    "#Now here we will chabge the vlaue of accessing single instance (obj) name \n",
    "print(sach.sach)\n",
    "print(sach1.sach)\n",
    "print(sach2.sach)\n",
    "print(sach3.sach)"
   ]
  },
  {
   "cell_type": "code",
   "execution_count": null,
   "id": "fb16c191-5579-4bc3-ac42-f36c13ee71ff",
   "metadata": {},
   "outputs": [],
   "source": []
  }
 ],
 "metadata": {
  "kernelspec": {
   "display_name": "Python 3 (ipykernel)",
   "language": "python",
   "name": "python3"
  },
  "language_info": {
   "codemirror_mode": {
    "name": "ipython",
    "version": 3
   },
   "file_extension": ".py",
   "mimetype": "text/x-python",
   "name": "python",
   "nbconvert_exporter": "python",
   "pygments_lexer": "ipython3",
   "version": "3.10.8"
  }
 },
 "nbformat": 4,
 "nbformat_minor": 5
}
