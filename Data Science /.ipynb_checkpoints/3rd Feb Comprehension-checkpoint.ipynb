{
 "cells": [
  {
   "cell_type": "code",
   "execution_count": 1,
   "id": "43010c6f-bc8c-4a01-8c6b-cb0796fb0e8c",
   "metadata": {},
   "outputs": [],
   "source": [
    "#Comprehension means converting multiple line codde in less lines "
   ]
  },
  {
   "cell_type": "code",
   "execution_count": 2,
   "id": "e8ee7649-8bfe-4f9f-87ff-721b3cf07349",
   "metadata": {},
   "outputs": [],
   "source": [
    "l=[1,2,4,6,2,3,54]"
   ]
  },
  {
   "cell_type": "code",
   "execution_count": 3,
   "id": "d4b08a7c-72bd-43e7-b872-f8dae97fefe4",
   "metadata": {},
   "outputs": [],
   "source": [
    "l1=[]\n",
    "for i in l:\n",
    "    l1.append(i**2)\n",
    "    "
   ]
  },
  {
   "cell_type": "code",
   "execution_count": 4,
   "id": "261ad7f4-aed3-49fe-90ee-4f83de18f4c6",
   "metadata": {},
   "outputs": [
    {
     "data": {
      "text/plain": [
       "[1, 4, 16, 36, 4, 9, 2916]"
      ]
     },
     "execution_count": 4,
     "metadata": {},
     "output_type": "execute_result"
    }
   ],
   "source": [
    "l1"
   ]
  },
  {
   "cell_type": "code",
   "execution_count": 6,
   "id": "4ee7078f-9a5f-4876-86cb-e47393bd55be",
   "metadata": {},
   "outputs": [
    {
     "data": {
      "text/plain": [
       "[1, 4, 16, 36, 4, 9, 2916]"
      ]
     },
     "execution_count": 6,
     "metadata": {},
     "output_type": "execute_result"
    }
   ],
   "source": [
    "[i**2 for i in l]"
   ]
  },
  {
   "cell_type": "code",
   "execution_count": 7,
   "id": "0c81fca4-30aa-43c7-a0e7-ad8c4f14d4a5",
   "metadata": {},
   "outputs": [
    {
     "name": "stdout",
     "output_type": "stream",
     "text": [
      "1\n",
      "4\n",
      "16\n",
      "36\n",
      "4\n",
      "9\n",
      "2916\n"
     ]
    }
   ],
   "source": [
    "for i in l:\n",
    "    print(i**2)"
   ]
  },
  {
   "cell_type": "code",
   "execution_count": 8,
   "id": "cbeae6eb-2c40-462a-8d3a-bf5e23f03cad",
   "metadata": {},
   "outputs": [
    {
     "data": {
      "text/plain": [
       "[2, 4, 6, 2, 54]"
      ]
     },
     "execution_count": 8,
     "metadata": {},
     "output_type": "execute_result"
    }
   ],
   "source": [
    "[ i for i in l if i % 2==0]"
   ]
  },
  {
   "cell_type": "code",
   "execution_count": 13,
   "id": "2446f044-21cf-4704-9772-aff4a4b27165",
   "metadata": {},
   "outputs": [],
   "source": [
    "l1=[\"sach\",\"pwskill\",\"kumar\",\"parsu\",\"data scientist\"]"
   ]
  },
  {
   "cell_type": "code",
   "execution_count": 18,
   "id": "6d89e745-bb20-438e-9b3a-6391515b315f",
   "metadata": {},
   "outputs": [
    {
     "data": {
      "text/plain": [
       "['SACH', 'PWSKILL', 'KUMAR', 'PARSU', 'DATA SCIENTIST']"
      ]
     },
     "execution_count": 18,
     "metadata": {},
     "output_type": "execute_result"
    }
   ],
   "source": [
    "[i.upper() for i in l1]"
   ]
  },
  {
   "cell_type": "code",
   "execution_count": null,
   "id": "80463cdd-794a-469f-8390-f42a94295186",
   "metadata": {},
   "outputs": [],
   "source": [
    "# Dict Comprehension"
   ]
  },
  {
   "cell_type": "code",
   "execution_count": 19,
   "id": "9633e1a4-1e1f-4d56-b378-c36fef180ec1",
   "metadata": {},
   "outputs": [
    {
     "data": {
      "text/plain": [
       "[1, 2, 4, 6, 2, 3, 54]"
      ]
     },
     "execution_count": 19,
     "metadata": {},
     "output_type": "execute_result"
    }
   ],
   "source": [
    "l"
   ]
  },
  {
   "cell_type": "code",
   "execution_count": 20,
   "id": "799bbc90-b20a-48f0-bf11-b7fc1934ad75",
   "metadata": {},
   "outputs": [
    {
     "data": {
      "text/plain": [
       "[1, 4, 16, 36, 4, 9, 2916]"
      ]
     },
     "execution_count": 20,
     "metadata": {},
     "output_type": "execute_result"
    }
   ],
   "source": [
    "list(i**2 for i in l)"
   ]
  },
  {
   "cell_type": "code",
   "execution_count": 21,
   "id": "0fd3113d-e243-4893-9f10-705e48c21aa4",
   "metadata": {},
   "outputs": [
    {
     "data": {
      "text/plain": [
       "{'key': 1, 'key1': 2, 'key2': 3, 'key3': 4, 'key4': 5, 'key5': 6}"
      ]
     },
     "execution_count": 21,
     "metadata": {},
     "output_type": "execute_result"
    }
   ],
   "source": [
    "d={\"key\":1,\"key1\":2,\"key2\":3,\"key3\":4,\"key4\":5,\"key5\":6}\n",
    "d"
   ]
  },
  {
   "cell_type": "code",
   "execution_count": 22,
   "id": "4693da98-ce8f-48ea-886d-be6d793c51b2",
   "metadata": {},
   "outputs": [
    {
     "data": {
      "text/plain": [
       "dict_items([('key', 1), ('key1', 2), ('key2', 3), ('key3', 4), ('key4', 5), ('key5', 6)])"
      ]
     },
     "execution_count": 22,
     "metadata": {},
     "output_type": "execute_result"
    }
   ],
   "source": [
    "d.items()"
   ]
  },
  {
   "cell_type": "code",
   "execution_count": 23,
   "id": "2f6f46ab-b146-4907-9c9c-a574322fdfe6",
   "metadata": {},
   "outputs": [
    {
     "data": {
      "text/plain": [
       "dict_keys(['key', 'key1', 'key2', 'key3', 'key4', 'key5'])"
      ]
     },
     "execution_count": 23,
     "metadata": {},
     "output_type": "execute_result"
    }
   ],
   "source": [
    "d.keys()"
   ]
  },
  {
   "cell_type": "code",
   "execution_count": 24,
   "id": "547eb224-e4d3-4ebc-8e14-5b9b4dc39c6b",
   "metadata": {},
   "outputs": [
    {
     "data": {
      "text/plain": [
       "dict_values([1, 2, 3, 4, 5, 6])"
      ]
     },
     "execution_count": 24,
     "metadata": {},
     "output_type": "execute_result"
    }
   ],
   "source": [
    "d.values()"
   ]
  },
  {
   "cell_type": "code",
   "execution_count": 28,
   "id": "e7891fd1-4f8c-4eed-a58f-51c0f873fb8a",
   "metadata": {},
   "outputs": [
    {
     "data": {
      "text/plain": [
       "{'key': 1, 'key1': 4, 'key2': 9, 'key3': 16, 'key4': 25, 'key5': 36}"
      ]
     },
     "execution_count": 28,
     "metadata": {},
     "output_type": "execute_result"
    }
   ],
   "source": [
    "{k:v**2 for k ,v in d.items()}"
   ]
  },
  {
   "cell_type": "code",
   "execution_count": 31,
   "id": "31cdd726-dd49-48be-a48b-3b41c9b6dc3c",
   "metadata": {},
   "outputs": [
    {
     "data": {
      "text/plain": [
       "{'key1': 2, 'key2': 3, 'key3': 4, 'key4': 5, 'key5': 6}"
      ]
     },
     "execution_count": 31,
     "metadata": {},
     "output_type": "execute_result"
    }
   ],
   "source": [
    "{k:v for k,v in d.items() if v>1}"
   ]
  },
  {
   "cell_type": "code",
   "execution_count": null,
   "id": "c19b0467-b290-4df9-ac08-ed84a5144517",
   "metadata": {},
   "outputs": [],
   "source": [
    "#its just way to wright a code in a simple one line "
   ]
  }
 ],
 "metadata": {
  "kernelspec": {
   "display_name": "Python 3 (ipykernel)",
   "language": "python",
   "name": "python3"
  },
  "language_info": {
   "codemirror_mode": {
    "name": "ipython",
    "version": 3
   },
   "file_extension": ".py",
   "mimetype": "text/x-python",
   "name": "python",
   "nbconvert_exporter": "python",
   "pygments_lexer": "ipython3",
   "version": "3.10.8"
  }
 },
 "nbformat": 4,
 "nbformat_minor": 5
}
