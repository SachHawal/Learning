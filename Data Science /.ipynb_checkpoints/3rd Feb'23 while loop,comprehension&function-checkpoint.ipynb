{
 "cells": [
  {
   "cell_type": "code",
   "execution_count": 7,
   "id": "b8c9df73-60c2-405c-8000-806897a7e18f",
   "metadata": {},
   "outputs": [
    {
     "name": "stdout",
     "output_type": "stream",
     "text": [
      "1\n",
      "2\n",
      "3\n",
      "4\n",
      "5\n",
      "6\n",
      "7\n",
      "8\n",
      "9\n",
      "10\n"
     ]
    }
   ],
   "source": [
    "a=0\n",
    "while a<=9:\n",
    "    a=a+1\n",
    "    print(a)"
   ]
  },
  {
   "cell_type": "code",
   "execution_count": 28,
   "id": "a25339d1-21a5-4232-9bb4-7dcf409d06fa",
   "metadata": {},
   "outputs": [
    {
     "name": "stdout",
     "output_type": "stream",
     "text": [
      "* \n",
      "* * \n",
      "* * * \n",
      "* * * * \n",
      "* * * * * \n"
     ]
    }
   ],
   "source": [
    "for i in range(0,5):\n",
    "    for j in range(i+1):\n",
    "        print(\"*\" , end=\" \")\n",
    "    print()\n",
    "#just for practice"
   ]
  },
  {
   "cell_type": "code",
   "execution_count": 6,
   "id": "e83823c6-500f-44e1-8b47-f919b2aecb83",
   "metadata": {},
   "outputs": [
    {
     "name": "stdout",
     "output_type": "stream",
     "text": [
      "0\n",
      "1\n",
      "2\n",
      "3\n",
      "4\n",
      "5\n",
      "6\n",
      "7\n",
      "8\n",
      "9\n",
      "10\n"
     ]
    }
   ],
   "source": [
    "a=0\n",
    "while a<=10:\n",
    "    print(a)\n",
    "    a=a+1\n"
   ]
  },
  {
   "cell_type": "markdown",
   "id": "c8db14e9-a36f-4135-a972-bd21f329754a",
   "metadata": {},
   "source": [
    "#sum up the number till some point "
   ]
  },
  {
   "cell_type": "code",
   "execution_count": null,
   "id": "88084b40-75cf-415e-999f-660c4ad1de9b",
   "metadata": {},
   "outputs": [],
   "source": [
    "n=int(input(\"ENter number\"))\n",
    "starting_point=0\n",
    "counter=1\n",
    "\n",
    "while counter <=n:\n",
    "    starting_point=starting_point+counter\n",
    "    counter=counter+1\n",
    "starting_point=0"
   ]
  },
  {
   "cell_type": "code",
   "execution_count": null,
   "id": "f665e952-d9c6-4133-9c59-30665a4b4685",
   "metadata": {},
   "outputs": [],
   "source": []
  },
  {
   "cell_type": "code",
   "execution_count": null,
   "id": "93f89760-3368-4496-a500-2a6365b5b6ed",
   "metadata": {},
   "outputs": [],
   "source": []
  }
 ],
 "metadata": {
  "kernelspec": {
   "display_name": "Python 3 (ipykernel)",
   "language": "python",
   "name": "python3"
  },
  "language_info": {
   "codemirror_mode": {
    "name": "ipython",
    "version": 3
   },
   "file_extension": ".py",
   "mimetype": "text/x-python",
   "name": "python",
   "nbconvert_exporter": "python",
   "pygments_lexer": "ipython3",
   "version": "3.10.8"
  }
 },
 "nbformat": 4,
 "nbformat_minor": 5
}
