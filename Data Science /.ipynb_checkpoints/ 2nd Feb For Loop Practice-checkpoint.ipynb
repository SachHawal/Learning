{
 "cells": [
  {
   "cell_type": "code",
   "execution_count": null,
   "id": "b0744726-17fd-4458-8d74-e8325c2501b4",
   "metadata": {},
   "outputs": [],
   "source": [
    "l=[1,2,3,4,5,6]"
   ]
  },
  {
   "cell_type": "code",
   "execution_count": null,
   "id": "4848a445-dfe0-43b6-b1d2-79587801dccc",
   "metadata": {},
   "outputs": [],
   "source": [
    "l"
   ]
  },
  {
   "cell_type": "code",
   "execution_count": null,
   "id": "7cb87f56-455a-4096-90ea-480927fa2849",
   "metadata": {},
   "outputs": [],
   "source": [
    "for i in l:\n",
    "    print(i, type(i))"
   ]
  },
  {
   "cell_type": "code",
   "execution_count": 3,
   "id": "55590e5a-d082-4253-87f7-25467a6b19a9",
   "metadata": {},
   "outputs": [],
   "source": [
    "l1=[\"sach\",\"sach1\",\"Sudhir\",\"mahesh\",\"Aksh\"]"
   ]
  },
  {
   "cell_type": "code",
   "execution_count": 4,
   "id": "84f42c21-a170-44d3-b015-0dcec100e06b",
   "metadata": {},
   "outputs": [
    {
     "name": "stdout",
     "output_type": "stream",
     "text": [
      "sach\n",
      "sach1\n",
      "Sudhir\n",
      "mahesh\n",
      "Aksh\n"
     ]
    }
   ],
   "source": [
    "for i in l1:\n",
    "    print(i)"
   ]
  },
  {
   "cell_type": "code",
   "execution_count": 5,
   "id": "6e940ad5-a273-42b1-9adb-21ae1edd0e50",
   "metadata": {},
   "outputs": [
    {
     "name": "stdout",
     "output_type": "stream",
     "text": [
      "sach\n",
      "sach1\n",
      "Sudhir\n",
      "mahesh\n",
      "Aksh\n",
      "upar walo sab lok bhad me jav\n"
     ]
    }
   ],
   "source": [
    "for i in l1:\n",
    "    print(i)\n",
    "else:\n",
    "    print(\"upar walo sab lok bhad me jav\") #if for loop ia able to complete itself only else will execute "
   ]
  },
  {
   "cell_type": "code",
   "execution_count": 6,
   "id": "40fbc0c9-7fc4-4cd9-8684-ceeb5d1461c9",
   "metadata": {},
   "outputs": [
    {
     "name": "stdout",
     "output_type": "stream",
     "text": [
      "sach\n",
      "sach1\n",
      "Sudhir\n",
      "mahesh\n"
     ]
    }
   ],
   "source": [
    "for i in l1:\n",
    "    if i==\"Aksh\":\n",
    "        break\n",
    "    print(i) #here if conditon true it will break the loop"
   ]
  },
  {
   "cell_type": "code",
   "execution_count": 7,
   "id": "7a3b3e13-618b-4720-96fd-585381f8d8bc",
   "metadata": {},
   "outputs": [
    {
     "name": "stdout",
     "output_type": "stream",
     "text": [
      "sach\n"
     ]
    }
   ],
   "source": [
    "for i in l1:\n",
    "    if i==\"sach1\":\n",
    "        break\n",
    "    print(i)\n",
    "else:\n",
    "    print(\"Execute this if for loop is able to complete itself\") #Now here for loop is not complting iself bcs its breaking in btwn that else part not \n",
    "    #not going to execute Break means dont do anything after break"
   ]
  },
  {
   "cell_type": "code",
   "execution_count": 10,
   "id": "2e6d1464-10be-4c50-9e3c-9205dabe9d24",
   "metadata": {},
   "outputs": [
    {
     "name": "stdout",
     "output_type": "stream",
     "text": [
      "sach\n",
      "Sudhir\n",
      "mahesh\n",
      "Aksh\n"
     ]
    }
   ],
   "source": [
    "for i in l1:\n",
    "    if i == \"sach1\":\n",
    "        continue  #continue means send control to for look after control its not gon to print statemnt it will skip == to value and print\n",
    "        #other all\n",
    "    print(i) "
   ]
  },
  {
   "cell_type": "code",
   "execution_count": 11,
   "id": "de146197-78f3-42e6-b682-4cad41470428",
   "metadata": {},
   "outputs": [
    {
     "name": "stdout",
     "output_type": "stream",
     "text": [
      "sach\n",
      "Sudhir\n",
      "mahesh\n",
      "Aksh\n",
      "Execute this if for loop is able to complete itself\n"
     ]
    }
   ],
   "source": [
    "for i in l1:\n",
    "    if i == \"sach1\":\n",
    "        continue \n",
    "    print(i) \n",
    "else:\n",
    "    print(\"Execute this if for loop is able to complete itself\") # here else part will work bcs for loop complet its all proccess\n",
    "    #by skiping  sach1 value"
   ]
  },
  {
   "cell_type": "code",
   "execution_count": null,
   "id": "d6338537-59bd-472e-872d-0e6dbec51a08",
   "metadata": {},
   "outputs": [],
   "source": [
    "#Range() function is a generater funvtion its genegrate a data "
   ]
  },
  {
   "cell_type": "code",
   "execution_count": 12,
   "id": "771c8ac4-604b-41c2-a743-05d4d92e6cf6",
   "metadata": {},
   "outputs": [
    {
     "data": {
      "text/plain": [
       "range(0, 5)"
      ]
     },
     "execution_count": 12,
     "metadata": {},
     "output_type": "execute_result"
    }
   ],
   "source": [
    "range(5)"
   ]
  },
  {
   "cell_type": "code",
   "execution_count": 13,
   "id": "da00efd3-b81a-4293-893d-9c40b40fae92",
   "metadata": {},
   "outputs": [
    {
     "data": {
      "text/plain": [
       "[0, 1, 2, 3, 4]"
      ]
     },
     "execution_count": 13,
     "metadata": {},
     "output_type": "execute_result"
    }
   ],
   "source": [
    "list(range(5))"
   ]
  },
  {
   "cell_type": "code",
   "execution_count": 17,
   "id": "e0d36e58-c718-4181-abe1-232f182d531e",
   "metadata": {},
   "outputs": [
    {
     "data": {
      "text/plain": [
       "[0, 1, 2, 3, 4]"
      ]
     },
     "execution_count": 17,
     "metadata": {},
     "output_type": "execute_result"
    }
   ],
   "source": [
    "list(range(0,5,1))"
   ]
  },
  {
   "cell_type": "code",
   "execution_count": 21,
   "id": "16d9b858-252b-4290-abf4-454c8c6d6690",
   "metadata": {},
   "outputs": [
    {
     "data": {
      "text/plain": [
       "[0, 3, 6, 9, 12, 15, 18]"
      ]
     },
     "execution_count": 21,
     "metadata": {},
     "output_type": "execute_result"
    }
   ],
   "source": [
    "list(range(0,21,3))"
   ]
  },
  {
   "cell_type": "code",
   "execution_count": 23,
   "id": "130bbf1f-ebfe-4458-a8fb-46d120910da7",
   "metadata": {},
   "outputs": [
    {
     "data": {
      "text/plain": [
       "[0, 2, 4, 6, 8, 10, 12, 14, 16, 18, 20]"
      ]
     },
     "execution_count": 23,
     "metadata": {},
     "output_type": "execute_result"
    }
   ],
   "source": [
    "list(range(0,21,2))"
   ]
  },
  {
   "cell_type": "code",
   "execution_count": 25,
   "id": "1483f68d-1eb0-48bf-b5f3-6f2b1f23df5e",
   "metadata": {},
   "outputs": [
    {
     "data": {
      "text/plain": [
       "[-10, -9, -8, -7, -6, -5, -4, -3, -2, -1]"
      ]
     },
     "execution_count": 25,
     "metadata": {},
     "output_type": "execute_result"
    }
   ],
   "source": [
    "list(range(-10,0))"
   ]
  },
  {
   "cell_type": "code",
   "execution_count": 28,
   "id": "9d15b35a-e5a3-4727-a0b1-91fc924d7fc1",
   "metadata": {},
   "outputs": [
    {
     "data": {
      "text/plain": [
       "[-10, -9, -8, -7, -6, -5, -4, -3, -2, -1, 0, 1, 2, 3, 4, 5, 6, 7, 8, 9, 10]"
      ]
     },
     "execution_count": 28,
     "metadata": {},
     "output_type": "execute_result"
    }
   ],
   "source": [
    "list(range(-10,11))"
   ]
  },
  {
   "cell_type": "code",
   "execution_count": 31,
   "id": "47bd1fe4-07b6-4c2f-8d57-a24157a3cc8d",
   "metadata": {},
   "outputs": [
    {
     "name": "stdout",
     "output_type": "stream",
     "text": [
      "0\n",
      "1\n",
      "2\n",
      "3\n",
      "4\n"
     ]
    }
   ],
   "source": [
    "for i in range(len(l1)):\n",
    "    print(i)"
   ]
  },
  {
   "cell_type": "code",
   "execution_count": 33,
   "id": "535f8381-88ab-49c1-90dc-11cc249668a3",
   "metadata": {},
   "outputs": [
    {
     "data": {
      "text/plain": [
       "5"
      ]
     },
     "execution_count": 33,
     "metadata": {},
     "output_type": "execute_result"
    }
   ],
   "source": [
    "len(l1)"
   ]
  },
  {
   "cell_type": "code",
   "execution_count": 36,
   "id": "38346b51-7299-4fc1-b449-4ef6e78a7f9b",
   "metadata": {},
   "outputs": [
    {
     "data": {
      "text/plain": [
       "[0, 1, 2, 3, 4]"
      ]
     },
     "execution_count": 36,
     "metadata": {},
     "output_type": "execute_result"
    }
   ],
   "source": [
    "list(range(len(l1)))"
   ]
  },
  {
   "cell_type": "code",
   "execution_count": 38,
   "id": "a069826c-a16b-4977-ab9c-33962974eea0",
   "metadata": {},
   "outputs": [
    {
     "name": "stdout",
     "output_type": "stream",
     "text": [
      "sach\n",
      "sach1\n",
      "Sudhir\n",
      "mahesh\n",
      "Aksh\n"
     ]
    }
   ],
   "source": [
    "for i in range(len(l1)):\n",
    "    print(l1[i])"
   ]
  },
  {
   "cell_type": "code",
   "execution_count": 42,
   "id": "61623335-8c1d-418e-8ebb-62ad34bb515c",
   "metadata": {},
   "outputs": [
    {
     "data": {
      "text/plain": [
       "[4, 3, 2, 1, 0]"
      ]
     },
     "execution_count": 42,
     "metadata": {},
     "output_type": "execute_result"
    }
   ],
   "source": [
    "list(range(len(l1)-1,-1,-1))"
   ]
  },
  {
   "cell_type": "code",
   "execution_count": 43,
   "id": "4fa180ee-9716-4a00-b442-df5f73f7398c",
   "metadata": {},
   "outputs": [
    {
     "name": "stdout",
     "output_type": "stream",
     "text": [
      "Aksh\n",
      "mahesh\n",
      "Sudhir\n",
      "sach1\n",
      "sach\n"
     ]
    }
   ],
   "source": [
    "for i in range(len(l1)-1,-1,-1):\n",
    "    print(l1[i])"
   ]
  },
  {
   "cell_type": "code",
   "execution_count": 1,
   "id": "40eeb2d9-c90f-4b2c-aa79-d34b30af3cdf",
   "metadata": {},
   "outputs": [],
   "source": [
    "l2=[122,564,874,9856,45521,4557,6654,89,555,354,654]"
   ]
  },
  {
   "cell_type": "code",
   "execution_count": 4,
   "id": "00db9ebc-efdc-466a-a552-c78082b4ce42",
   "metadata": {},
   "outputs": [
    {
     "data": {
      "text/plain": [
       "[0, 2, 4, 6, 8, 10]"
      ]
     },
     "execution_count": 4,
     "metadata": {},
     "output_type": "execute_result"
    }
   ],
   "source": [
    "list(range(0,len(l2),2))"
   ]
  },
  {
   "cell_type": "code",
   "execution_count": 5,
   "id": "cb06ec1f-3f7b-445c-a5c6-6d687f8f13c5",
   "metadata": {},
   "outputs": [
    {
     "name": "stdout",
     "output_type": "stream",
     "text": [
      "122\n",
      "874\n",
      "45521\n",
      "6654\n",
      "555\n",
      "654\n"
     ]
    }
   ],
   "source": [
    "for i in (range(0,len(l2),2)):\n",
    "    print(l2[i])"
   ]
  },
  {
   "cell_type": "code",
   "execution_count": 6,
   "id": "5544e3d8-9989-4422-b603-0599e2ca633b",
   "metadata": {},
   "outputs": [
    {
     "data": {
      "text/plain": [
       "122"
      ]
     },
     "execution_count": 6,
     "metadata": {},
     "output_type": "execute_result"
    }
   ],
   "source": [
    "l2[0]"
   ]
  },
  {
   "cell_type": "code",
   "execution_count": 8,
   "id": "54c3cd02-3008-453d-8654-c2e50b7e9a61",
   "metadata": {},
   "outputs": [],
   "source": [
    "l3=[1,2,3,4,5,6,7,8]"
   ]
  },
  {
   "cell_type": "code",
   "execution_count": 9,
   "id": "88c3f810-2421-4455-b3f0-b1f5c663be37",
   "metadata": {},
   "outputs": [
    {
     "data": {
      "text/plain": [
       "36"
      ]
     },
     "execution_count": 9,
     "metadata": {},
     "output_type": "execute_result"
    }
   ],
   "source": [
    "sum(l3)"
   ]
  },
  {
   "cell_type": "code",
   "execution_count": null,
   "id": "35bde590-01bf-4f82-8971-860b9273d40d",
   "metadata": {},
   "outputs": [],
   "source": [
    "\n",
    "for i in l3:"
   ]
  }
 ],
 "metadata": {
  "kernelspec": {
   "display_name": "Python 3 (ipykernel)",
   "language": "python",
   "name": "python3"
  },
  "language_info": {
   "codemirror_mode": {
    "name": "ipython",
    "version": 3
   },
   "file_extension": ".py",
   "mimetype": "text/x-python",
   "name": "python",
   "nbconvert_exporter": "python",
   "pygments_lexer": "ipython3",
   "version": "3.10.8"
  }
 },
 "nbformat": 4,
 "nbformat_minor": 5
}
