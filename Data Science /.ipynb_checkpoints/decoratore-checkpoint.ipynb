{
 "cells": [
  {
   "cell_type": "code",
   "execution_count": 1,
   "id": "923ed404-19be-4c53-afdf-56e71fa8bbac",
   "metadata": {},
   "outputs": [
    {
     "name": "stdout",
     "output_type": "stream",
     "text": [
      "0\n",
      "1\n",
      "2\n",
      "3\n",
      "4\n"
     ]
    }
   ],
   "source": [
    "i = 0\n",
    "\n",
    "while i < 5:\n",
    "\n",
    "    print(i)\n",
    "\n",
    "    i += 1"
   ]
  },
  {
   "cell_type": "code",
   "execution_count": 2,
   "id": "827dc0df-7cca-4daa-95ae-1d955aa34bc4",
   "metadata": {},
   "outputs": [],
   "source": [
    "def test():\n",
    "    print(\"This is my start of my Function\")\n",
    "    print(\"This id ME\")\n",
    "    print(3+9)\n",
    "    print(\"This is my end of my Function\")"
   ]
  },
  {
   "cell_type": "code",
   "execution_count": 3,
   "id": "07973d24-ed7e-4906-ab31-264d788921f6",
   "metadata": {},
   "outputs": [
    {
     "name": "stdout",
     "output_type": "stream",
     "text": [
      "This is my start of my Function\n",
      "This id ME\n",
      "12\n",
      "This is my end of my Function\n"
     ]
    }
   ],
   "source": [
    "test()"
   ]
  },
  {
   "cell_type": "code",
   "execution_count": 4,
   "id": "15365b64-3aef-4f8e-b3f1-1f64f20f2def",
   "metadata": {},
   "outputs": [],
   "source": [
    "#To avoide the contineus typing and calling print wewrite a decorater"
   ]
  },
  {
   "cell_type": "code",
   "execution_count": 6,
   "id": "9b111977-1942-46c8-9fa9-59b0446c3020",
   "metadata": {},
   "outputs": [],
   "source": [
    "def deco(func):\n",
    "    def inner_dec():\n",
    "        print(\"This start of my fun\")\n",
    "        func()\n",
    "        print(\"end\")\n",
    "    return inner_dec"
   ]
  },
  {
   "cell_type": "code",
   "execution_count": 8,
   "id": "53b445a8-7d15-40a5-bcf9-2ab239dab802",
   "metadata": {},
   "outputs": [],
   "source": [
    "def test1():\n",
    "    print(1+2)"
   ]
  },
  {
   "cell_type": "code",
   "execution_count": 9,
   "id": "fa086bf8-4b13-4dfb-a73f-1a3317622363",
   "metadata": {},
   "outputs": [
    {
     "name": "stdout",
     "output_type": "stream",
     "text": [
      "3\n"
     ]
    }
   ],
   "source": [
    "test1()"
   ]
  },
  {
   "cell_type": "code",
   "execution_count": 10,
   "id": "ab03b8ed-9209-44e7-b905-bdcf0b9c9db3",
   "metadata": {},
   "outputs": [],
   "source": [
    "@deco\n",
    "def test1():\n",
    "    print(1+2)"
   ]
  },
  {
   "cell_type": "code",
   "execution_count": 11,
   "id": "ec6b55de-5b4c-4a9a-9cce-6a3b4617377a",
   "metadata": {},
   "outputs": [
    {
     "name": "stdout",
     "output_type": "stream",
     "text": [
      "This start of my fun\n",
      "3\n",
      "end\n"
     ]
    }
   ],
   "source": [
    "test1()"
   ]
  },
  {
   "cell_type": "code",
   "execution_count": 14,
   "id": "050b61a1-1149-499b-aee7-06b9f69bf949",
   "metadata": {},
   "outputs": [],
   "source": [
    "@deco\n",
    "def saksh():\n",
    "    print(2+3)"
   ]
  },
  {
   "cell_type": "code",
   "execution_count": 15,
   "id": "2a8bed36-d0b8-4041-aaec-16a5dcb71980",
   "metadata": {},
   "outputs": [
    {
     "name": "stdout",
     "output_type": "stream",
     "text": [
      "This start of my fun\n",
      "5\n",
      "end\n"
     ]
    }
   ],
   "source": [
    "saksh()"
   ]
  },
  {
   "cell_type": "code",
   "execution_count": 45,
   "id": "974250b5-2322-43e2-94cb-7cc8824f1874",
   "metadata": {},
   "outputs": [],
   "source": [
    "import time\n",
    "def time_test(func):\n",
    "    def time_test_inner():\n",
    "        start = time.time()\n",
    "        func()\n",
    "        end = time.time()\n",
    "        print(end -start)\n",
    "    return time_test_inner"
   ]
  },
  {
   "cell_type": "code",
   "execution_count": 46,
   "id": "9e84766b-529a-4fd3-a89b-9044867a062a",
   "metadata": {},
   "outputs": [],
   "source": [
    "def test3():\n",
    "    print(747479+7477775)"
   ]
  },
  {
   "cell_type": "code",
   "execution_count": 47,
   "id": "30bf65e8-6aac-45fa-b6ee-ccd3166b513c",
   "metadata": {},
   "outputs": [
    {
     "name": "stdout",
     "output_type": "stream",
     "text": [
      "8225254\n"
     ]
    }
   ],
   "source": [
    "test3()"
   ]
  },
  {
   "cell_type": "code",
   "execution_count": 52,
   "id": "b419dcd4-2b0c-4191-8ca4-4089800efc5b",
   "metadata": {},
   "outputs": [],
   "source": [
    "@time_test\n",
    "def test3():\n",
    "    print(747479+7477775)"
   ]
  },
  {
   "cell_type": "code",
   "execution_count": 53,
   "id": "f4fc6de7-ec30-4b5d-b25c-98640866d11b",
   "metadata": {},
   "outputs": [
    {
     "name": "stdout",
     "output_type": "stream",
     "text": [
      "8225254\n",
      "4.76837158203125e-05\n"
     ]
    }
   ],
   "source": [
    "test3()"
   ]
  },
  {
   "cell_type": "code",
   "execution_count": 54,
   "id": "5412b07b-29b0-4037-93b0-b14737b4c621",
   "metadata": {},
   "outputs": [],
   "source": [
    "@time_test\n",
    "def test3():\n",
    "   for i in range(10000):\n",
    "    pass"
   ]
  },
  {
   "cell_type": "code",
   "execution_count": 55,
   "id": "6e9bafa4-faa6-4934-9490-ce30c698e415",
   "metadata": {},
   "outputs": [
    {
     "name": "stdout",
     "output_type": "stream",
     "text": [
      "0.00019741058349609375\n"
     ]
    }
   ],
   "source": [
    "test3()"
   ]
  },
  {
   "cell_type": "code",
   "execution_count": null,
   "id": "55c57c09-6111-481e-91e3-645e97c6e4ee",
   "metadata": {},
   "outputs": [],
   "source": []
  },
  {
   "cell_type": "code",
   "execution_count": null,
   "id": "1686020a-65f2-4a54-bc73-93feaffb63fb",
   "metadata": {},
   "outputs": [],
   "source": []
  },
  {
   "cell_type": "code",
   "execution_count": null,
   "id": "9cadc49b-bf32-48c5-9159-f8e7236471bb",
   "metadata": {},
   "outputs": [],
   "source": []
  }
 ],
 "metadata": {
  "kernelspec": {
   "display_name": "Python 3 (ipykernel)",
   "language": "python",
   "name": "python3"
  },
  "language_info": {
   "codemirror_mode": {
    "name": "ipython",
    "version": 3
   },
   "file_extension": ".py",
   "mimetype": "text/x-python",
   "name": "python",
   "nbconvert_exporter": "python",
   "pygments_lexer": "ipython3",
   "version": "3.10.8"
  }
 },
 "nbformat": 4,
 "nbformat_minor": 5
}
