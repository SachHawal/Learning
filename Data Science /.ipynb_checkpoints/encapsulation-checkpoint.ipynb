{
 "cells": [
  {
   "cell_type": "code",
   "execution_count": null,
   "id": "4c2b488f-625a-40a8-af7c-2fc330481bf7",
   "metadata": {},
   "outputs": [],
   "source": [
    "class test():"
   ]
  }
 ],
 "metadata": {
  "kernelspec": {
   "display_name": "",
   "name": ""
  },
  "language_info": {
   "name": ""
  }
 },
 "nbformat": 4,
 "nbformat_minor": 5
}
