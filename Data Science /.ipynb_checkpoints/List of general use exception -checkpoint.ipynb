{
 "cells": [
  {
   "cell_type": "code",
   "execution_count": 2,
   "id": "4dc687f1-9c72-4e92-a517-5ceee27ea40b",
   "metadata": {},
   "outputs": [
    {
     "name": "stdout",
     "output_type": "stream",
     "text": [
      "division by zero\n"
     ]
    }
   ],
   "source": [
    "try:\n",
    "    a=10/0\n",
    "except ZeroDivisionError as e:\n",
    "    print(e)"
   ]
  },
  {
   "cell_type": "code",
   "execution_count": 5,
   "id": "07cff647-72a9-46ad-8a4e-18045cee47d5",
   "metadata": {},
   "outputs": [
    {
     "name": "stdout",
     "output_type": "stream",
     "text": [
      "invalid literal for int() with base 10: 'sach'\n"
     ]
    }
   ],
   "source": [
    "try:\n",
    "    int(\"sach\")\n",
    "except (ValueError,TypeError) as e:\n",
    "    print(e)"
   ]
  },
  {
   "cell_type": "code",
   "execution_count": 6,
   "id": "9d775dc9-83d8-45d8-8a24-3febe955960e",
   "metadata": {},
   "outputs": [
    {
     "name": "stdout",
     "output_type": "stream",
     "text": [
      "this is my int errorr when we dont know error type that we use this\n"
     ]
    }
   ],
   "source": [
    "try:\n",
    "    int(\"sach\")\n",
    "except:\n",
    "    print(\"this is my int errorr when we dont know error type that we use this\")"
   ]
  },
  {
   "cell_type": "code",
   "execution_count": 8,
   "id": "66f6a10e-ca9b-4ec2-8268-7bc119aae06c",
   "metadata": {},
   "outputs": [
    {
     "name": "stdout",
     "output_type": "stream",
     "text": [
      "No module named 'sach'\n"
     ]
    }
   ],
   "source": [
    "try:\n",
    "    import sach\n",
    "except ImportError as e:\n",
    "    print(e)\n",
    "    "
   ]
  },
  {
   "cell_type": "code",
   "execution_count": 18,
   "id": "2d08e241-8ec4-4b88-ae3b-34fd5dd83b59",
   "metadata": {},
   "outputs": [
    {
     "name": "stdout",
     "output_type": "stream",
     "text": [
      "['key2']\n"
     ]
    }
   ],
   "source": [
    "try:\n",
    "    d = {\"key\":\"sach\", 1 : [1,2,3,4,5] }\n",
    "    print([\"key2\"])\n",
    "except KeyError as e:\n",
    "    print(e)"
   ]
  },
  {
   "cell_type": "code",
   "execution_count": 20,
   "id": "982318f3-75a3-493a-ac12-3a407d1acebd",
   "metadata": {},
   "outputs": [
    {
     "name": "stdout",
     "output_type": "stream",
     "text": [
      "'str' object has no attribute 'test'\n"
     ]
    }
   ],
   "source": [
    "try:\n",
    "    \"sach\".test()\n",
    "except AttributeError as r:\n",
    "        print(r)"
   ]
  },
  {
   "cell_type": "code",
   "execution_count": 23,
   "id": "fa46477a-2750-4b68-b964-39a4a654a173",
   "metadata": {},
   "outputs": [
    {
     "name": "stdout",
     "output_type": "stream",
     "text": [
      "list index out of range\n"
     ]
    }
   ],
   "source": [
    "try:\n",
    "    l=[1,2,3,4,5,6]\n",
    "    print(l[6])\n",
    "except IndexError as e:\n",
    "    print(e)"
   ]
  },
  {
   "cell_type": "code",
   "execution_count": 28,
   "id": "c97200ff-ced6-4d5a-a0bb-42f4dba369ae",
   "metadata": {},
   "outputs": [
    {
     "name": "stdout",
     "output_type": "stream",
     "text": [
      "unsupported operand type(s) for +: 'int' and 'str'\n"
     ]
    }
   ],
   "source": [
    "try:\n",
    "    123+\"sach\"\n",
    "except TypeError as e:\n",
    "    print(e)"
   ]
  },
  {
   "cell_type": "code",
   "execution_count": 38,
   "id": "ca8e1638-d5a5-418b-849a-66608061281d",
   "metadata": {},
   "outputs": [
    {
     "name": "stdout",
     "output_type": "stream",
     "text": [
      "[Errno 2] No such file or directory: 'hhhh.txt'\n"
     ]
    }
   ],
   "source": [
    "try:\n",
    "    with open(\"hhhh.txt\",\"r\") as f:\n",
    "        test = f.read()\n",
    "except FileNotFoundError as e:\n",
    "    print(e)"
   ]
  },
  {
   "cell_type": "code",
   "execution_count": 39,
   "id": "f241c2cd-d7e2-42a8-bf0c-4f25f917840d",
   "metadata": {},
   "outputs": [
    {
     "data": {
      "text/plain": [
       "['__cause__',\n",
       " '__class__',\n",
       " '__context__',\n",
       " '__delattr__',\n",
       " '__dict__',\n",
       " '__dir__',\n",
       " '__doc__',\n",
       " '__eq__',\n",
       " '__format__',\n",
       " '__ge__',\n",
       " '__getattribute__',\n",
       " '__gt__',\n",
       " '__hash__',\n",
       " '__init__',\n",
       " '__init_subclass__',\n",
       " '__le__',\n",
       " '__lt__',\n",
       " '__ne__',\n",
       " '__new__',\n",
       " '__reduce__',\n",
       " '__reduce_ex__',\n",
       " '__repr__',\n",
       " '__setattr__',\n",
       " '__setstate__',\n",
       " '__sizeof__',\n",
       " '__str__',\n",
       " '__subclasshook__',\n",
       " '__suppress_context__',\n",
       " '__traceback__',\n",
       " 'args',\n",
       " 'with_traceback']"
      ]
     },
     "execution_count": 39,
     "metadata": {},
     "output_type": "execute_result"
    }
   ],
   "source": [
    "dir(Exception)"
   ]
  },
  {
   "cell_type": "code",
   "execution_count": 41,
   "id": "73e2db00-d9fa-46da-95bc-14ed7f88d66a",
   "metadata": {},
   "outputs": [
    {
     "name": "stdout",
     "output_type": "stream",
     "text": [
      "[Errno 2] No such file or directory: 'hhhh.txt'\n"
     ]
    }
   ],
   "source": [
    "try:\n",
    "    with open(\"hhhh.txt\",\"r\") as f:\n",
    "        test = f.read()\n",
    "except Exception as e:\n",
    "    print(e)\n",
    "except FileNotFoundError as e:\n",
    "    print(e)"
   ]
  },
  {
   "cell_type": "code",
   "execution_count": 42,
   "id": "fc518351-b6c7-4027-bc6c-fae91102a04a",
   "metadata": {},
   "outputs": [],
   "source": [
    "## Best Practice Exception Handling\n",
    "#always use a specific exceptiions to handle  a error "
   ]
  },
  {
   "cell_type": "code",
   "execution_count": 43,
   "id": "8d6319eb-876d-49c9-88df-abd922614aa5",
   "metadata": {},
   "outputs": [],
   "source": [
    "#always use loogging module to save your data "
   ]
  },
  {
   "cell_type": "code",
   "execution_count": 49,
   "id": "5bf571cb-917e-4fc6-9344-6a8c44998177",
   "metadata": {},
   "outputs": [],
   "source": [
    "import logging\n",
    "logging.basicConfig(filename=\"Errors.log\",level=logging.error)\n",
    "try:\n",
    "    a=10/0\n",
    "except ZeroDivisionError as e:\n",
    "    logging.error(\"I am handling and saving this error with proper mannar {}\".format(e))"
   ]
  },
  {
   "cell_type": "code",
   "execution_count": null,
   "id": "7f45d942-9575-4d90-8704-002b8dc3d13b",
   "metadata": {},
   "outputs": [],
   "source": []
  }
 ],
 "metadata": {
  "kernelspec": {
   "display_name": "Python 3 (ipykernel)",
   "language": "python",
   "name": "python3"
  },
  "language_info": {
   "codemirror_mode": {
    "name": "ipython",
    "version": 3
   },
   "file_extension": ".py",
   "mimetype": "text/x-python",
   "name": "python",
   "nbconvert_exporter": "python",
   "pygments_lexer": "ipython3",
   "version": "3.10.8"
  }
 },
 "nbformat": 4,
 "nbformat_minor": 5
}
