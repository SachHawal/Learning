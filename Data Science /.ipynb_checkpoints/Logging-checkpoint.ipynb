{
 "cells": [
  {
   "cell_type": "code",
   "execution_count": 5,
   "id": "cbf718f3-09aa-4364-849d-856b9cf8e8d9",
   "metadata": {},
   "outputs": [],
   "source": [
    "import logging"
   ]
  },
  {
   "cell_type": "code",
   "execution_count": 6,
   "id": "07a309e9-8f58-419c-b575-de47e8391ea9",
   "metadata": {},
   "outputs": [],
   "source": [
    "logging.basicConfig(filename=\"saksh.log\" ,level=logging.DEBUG, format= \"%(asctime)s, %(name)s ,%(levelname)s ,%(message)s\" )"
   ]
  },
  {
   "cell_type": "code",
   "execution_count": 7,
   "id": "3b068152-a01f-47a5-b615-c83a98a7f9d6",
   "metadata": {},
   "outputs": [],
   "source": [
    "logging.info(\"this is a saksh and sach info  message\")\n",
    "logging.error(\"this is a saksh and sach error  message\")\n",
    "logging.critical(\"this is a saksh and sach critical  message\")"
   ]
  },
  {
   "cell_type": "code",
   "execution_count": null,
   "id": "02d9667f-6f4f-41be-aeec-4c4ee97ed40d",
   "metadata": {},
   "outputs": [],
   "source": []
  }
 ],
 "metadata": {
  "kernelspec": {
   "display_name": "Python 3 (ipykernel)",
   "language": "python",
   "name": "python3"
  },
  "language_info": {
   "codemirror_mode": {
    "name": "ipython",
    "version": 3
   },
   "file_extension": ".py",
   "mimetype": "text/x-python",
   "name": "python",
   "nbconvert_exporter": "python",
   "pygments_lexer": "ipython3",
   "version": "3.10.8"
  }
 },
 "nbformat": 4,
 "nbformat_minor": 5
}
