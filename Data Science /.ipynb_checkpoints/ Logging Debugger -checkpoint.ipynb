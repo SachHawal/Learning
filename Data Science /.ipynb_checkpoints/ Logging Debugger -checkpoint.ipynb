{
 "cells": [
  {
   "cell_type": "code",
   "execution_count": 20,
   "id": "e5587407-f503-4546-833d-077895324dc0",
   "metadata": {},
   "outputs": [
    {
     "name": "stdout",
     "output_type": "stream",
     "text": [
      "THis id my first Print\n"
     ]
    }
   ],
   "source": [
    "print(\"THis id my first Print\")"
   ]
  },
  {
   "cell_type": "code",
   "execution_count": 21,
   "id": "301b3e5b-f33e-4152-a976-f3efaf3d0add",
   "metadata": {},
   "outputs": [],
   "source": [
    "#what is mean by Logging ?"
   ]
  },
  {
   "cell_type": "code",
   "execution_count": 22,
   "id": "44816be1-84f4-46f4-a705-becf108e9e45",
   "metadata": {},
   "outputs": [],
   "source": [
    "import logging"
   ]
  },
  {
   "cell_type": "code",
   "execution_count": 23,
   "id": "45f84a16-ada8-4307-9841-6288fe89b947",
   "metadata": {},
   "outputs": [],
   "source": [
    "logging.basicConfig(filename=\"test.log\" ,level=logging.INFO)"
   ]
  },
  {
   "cell_type": "code",
   "execution_count": 24,
   "id": "8fc98e64-97ea-4837-8ff1-d07215755d3c",
   "metadata": {},
   "outputs": [],
   "source": [
    "logging.info(\"This is my first Login Info\")"
   ]
  },
  {
   "cell_type": "code",
   "execution_count": 25,
   "id": "2e52f755-a45b-4595-8a60-9b786f949716",
   "metadata": {},
   "outputs": [],
   "source": [
    "logging.info(\"this is my first print using looging info\")"
   ]
  },
  {
   "cell_type": "code",
   "execution_count": 26,
   "id": "5c4ff91e-283c-47fe-972c-42d0e4841739",
   "metadata": {},
   "outputs": [],
   "source": [
    "logging.debug(\"this is a bug message\")"
   ]
  },
  {
   "cell_type": "code",
   "execution_count": 27,
   "id": "17ccba65-fc27-4b8b-abd5-267487809e5e",
   "metadata": {},
   "outputs": [],
   "source": [
    "logging.error(\"this is a error message\")"
   ]
  },
  {
   "cell_type": "code",
   "execution_count": 28,
   "id": "b18fed31-d45f-42dc-9cd9-5a690988e4da",
   "metadata": {},
   "outputs": [],
   "source": [
    "logging.critical(\"this is a critical message\")"
   ]
  },
  {
   "cell_type": "code",
   "execution_count": 29,
   "id": "978bd42a-5fde-4e91-a41e-0ef91ea932ac",
   "metadata": {},
   "outputs": [],
   "source": [
    "logging.warning(\"this is a warning message\")"
   ]
  },
  {
   "cell_type": "code",
   "execution_count": 30,
   "id": "4326930a-f3e3-48cc-932a-2700e49b493c",
   "metadata": {},
   "outputs": [],
   "source": [
    "logging.debug(\"this is a warning message\")"
   ]
  },
  {
   "cell_type": "code",
   "execution_count": 31,
   "id": "22e9e5e1-0981-4da9-a416-b276d7ea9646",
   "metadata": {},
   "outputs": [],
   "source": [
    "logging.shutdown()"
   ]
  },
  {
   "cell_type": "code",
   "execution_count": 32,
   "id": "e8df22d1-bf48-484e-91e9-08da3c87790a",
   "metadata": {},
   "outputs": [],
   "source": [
    "import logging"
   ]
  },
  {
   "cell_type": "code",
   "execution_count": 33,
   "id": "ec673ca8-cdcc-477d-a06b-b1eaf4a062eb",
   "metadata": {},
   "outputs": [],
   "source": [
    "logging.basicConfig(filename=\"sach.log\",level=logging.DEBUG, format= \"%(asctime)s, %(message)s\" )"
   ]
  },
  {
   "cell_type": "code",
   "execution_count": 34,
   "id": "0b28d7b5-65e9-47ea-ae14-90d664cc44cc",
   "metadata": {},
   "outputs": [],
   "source": [
    "logging.info(\"this is a sach info  message\")\n",
    "logging.error(\"this is a sach error  message\")\n",
    "logging.critical(\"this is a sach critical  message\")"
   ]
  },
  {
   "cell_type": "code",
   "execution_count": 35,
   "id": "5a19be57-90e0-4241-94e7-c4344c8e64d2",
   "metadata": {},
   "outputs": [],
   "source": [
    "logging.shutdown()"
   ]
  },
  {
   "cell_type": "code",
   "execution_count": 42,
   "id": "27aa6201-2123-4089-a0b3-1629975f5e75",
   "metadata": {},
   "outputs": [],
   "source": [
    "import logging"
   ]
  },
  {
   "cell_type": "code",
   "execution_count": 43,
   "id": "8715d85c-5ad5-46fc-b201-35f849bd5809",
   "metadata": {},
   "outputs": [],
   "source": [
    "logging.basicConfig(filename=\"saksh.log\" ,level=logging.DEBUG, format= \"%(asctime)s %(name)s %(levelname)s %(message)s\" )"
   ]
  },
  {
   "cell_type": "code",
   "execution_count": 44,
   "id": "25efa79f-190e-45ed-a34e-46e3f010ae61",
   "metadata": {},
   "outputs": [],
   "source": [
    "logging.info(\"this is a sach info  message\")\n",
    "logging.error(\"this is a sach error  message\")\n",
    "logging.critical(\"this is a sach critical  message\")"
   ]
  },
  {
   "cell_type": "code",
   "execution_count": null,
   "id": "6d1d9fa5-3cbb-4291-985d-dd33a2389b78",
   "metadata": {},
   "outputs": [],
   "source": []
  },
  {
   "cell_type": "code",
   "execution_count": null,
   "id": "f91684f6-92c6-45e2-8694-5c1a3399641a",
   "metadata": {},
   "outputs": [],
   "source": []
  }
 ],
 "metadata": {
  "kernelspec": {
   "display_name": "Python 3 (ipykernel)",
   "language": "python",
   "name": "python3"
  },
  "language_info": {
   "codemirror_mode": {
    "name": "ipython",
    "version": 3
   },
   "file_extension": ".py",
   "mimetype": "text/x-python",
   "name": "python",
   "nbconvert_exporter": "python",
   "pygments_lexer": "ipython3",
   "version": "3.10.8"
  }
 },
 "nbformat": 4,
 "nbformat_minor": 5
}
