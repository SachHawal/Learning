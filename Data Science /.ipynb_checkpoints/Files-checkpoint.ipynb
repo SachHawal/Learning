{
 "cells": [
  {
   "cell_type": "code",
   "execution_count": 2,
   "id": "7d2d97fc-7b24-45be-b18f-df8594885017",
   "metadata": {},
   "outputs": [],
   "source": [
    "# Working With Files V1\n",
    "f=open(\"text.txt\",\"w\")"
   ]
  },
  {
   "cell_type": "code",
   "execution_count": 3,
   "id": "5470b835-52d6-477e-9dec-d4d6e486e1cb",
   "metadata": {},
   "outputs": [
    {
     "data": {
      "text/plain": [
       "'/home/jovyan/work/Data Science '"
      ]
     },
     "execution_count": 3,
     "metadata": {},
     "output_type": "execute_result"
    }
   ],
   "source": [
    "pwd"
   ]
  },
  {
   "cell_type": "code",
   "execution_count": 4,
   "id": "f29048b2-eeba-4082-8049-73e7919ae5bb",
   "metadata": {},
   "outputs": [
    {
     "name": "stdout",
     "output_type": "stream",
     "text": [
      "'16.3rd Feb Comprehension.ipynb'\n",
      "'17.3rd Feb Function .ipynb'\n",
      "'1st Feb Live Class dict , conditional ,loop.ipynb'\n",
      "' 2nd Feb For Loop Practice.ipynb'\n",
      "'30th Jan Live Class python basics.ipynb'\n",
      "'31st Jan Live Class list , tuple and set.ipynb'\n",
      "\"3rd Feb'23 python ass.ipynb\"\n",
      "\"3rd Feb'23 while loo.ipynb\"\n",
      "'3rd Feb'\\''23 while loop,comprehension&function.ipynb'\n",
      "'3rd Feb Comprehension.ipynb'\n",
      "'3rd Feb Function .ipynb'\n",
      "\"4th Feb'23Generator Functions.ipynb\"\n",
      " class_method.ipynb\n",
      " Constructore.ipynb\n",
      " decoratore.ipynb\n",
      " encapsulation.ipynb\n",
      " Files.ipynb\n",
      "'Inheritance .ipynb'\n",
      " OOPS.ipynb\n",
      " POlymorphism.ipynb\n",
      "' Special (Magic Dunder) Methods.ipynb'\n",
      "'statics class.ipynb'\n",
      " text.txt\n"
     ]
    }
   ],
   "source": [
    "ls\n"
   ]
  },
  {
   "cell_type": "code",
   "execution_count": 5,
   "id": "82d38690-6d95-4d09-b0e2-9c43b71e5169",
   "metadata": {},
   "outputs": [
    {
     "name": "stdout",
     "output_type": "stream",
     "text": [
      "[Errno 2] No such file or directory: 'work'\n",
      "/home/jovyan/work/Data Science \n"
     ]
    }
   ],
   "source": [
    "cd work\n"
   ]
  },
  {
   "cell_type": "code",
   "execution_count": 9,
   "id": "3d059e75-bfd5-4f2a-b84e-daddac7ce42b",
   "metadata": {},
   "outputs": [
    {
     "data": {
      "text/plain": [
       "57"
      ]
     },
     "execution_count": 9,
     "metadata": {},
     "output_type": "execute_result"
    }
   ],
   "source": [
    "f.write(\"this is my first write mode and am wrting here lets check\")"
   ]
  },
  {
   "cell_type": "code",
   "execution_count": 11,
   "id": "9dfb88b3-2c95-453b-b329-e51ff3dcc50d",
   "metadata": {},
   "outputs": [],
   "source": [
    "f.close()"
   ]
  },
  {
   "cell_type": "code",
   "execution_count": 12,
   "id": "a3890215-f320-4172-9501-d06d7ae8cd19",
   "metadata": {},
   "outputs": [],
   "source": [
    "f=open(\"text.txt\",\"w\")\n"
   ]
  },
  {
   "cell_type": "code",
   "execution_count": 15,
   "id": "fba0a16d-0aac-4847-a0bc-1053f7c7c94c",
   "metadata": {},
   "outputs": [
    {
     "ename": "ValueError",
     "evalue": "I/O operation on closed file.",
     "output_type": "error",
     "traceback": [
      "\u001b[0;31m---------------------------------------------------------------------------\u001b[0m",
      "\u001b[0;31mValueError\u001b[0m                                Traceback (most recent call last)",
      "Cell \u001b[0;32mIn[15], line 1\u001b[0m\n\u001b[0;32m----> 1\u001b[0m \u001b[43mf\u001b[49m\u001b[38;5;241;43m.\u001b[39;49m\u001b[43mwrite\u001b[49m\u001b[43m(\u001b[49m\u001b[38;5;124;43m\"\u001b[39;49m\u001b[38;5;124;43mAgain i am writting this to check first data:\u001b[39;49m\u001b[38;5;124;43m\"\u001b[39;49m\u001b[43m)\u001b[49m\n",
      "\u001b[0;31mValueError\u001b[0m: I/O operation on closed file."
     ]
    }
   ],
   "source": [
    "f.write(\"Again i am writting this to check first data:\")"
   ]
  },
  {
   "cell_type": "code",
   "execution_count": 17,
   "id": "4baa0aaa-fa22-451b-ae65-a19f93f61562",
   "metadata": {},
   "outputs": [],
   "source": [
    "f.close()"
   ]
  },
  {
   "cell_type": "code",
   "execution_count": 18,
   "id": "80e06185-cc89-4ab6-86a2-662ad95fd79d",
   "metadata": {},
   "outputs": [],
   "source": [
    "f=open(\"text.txt\",\"a\")"
   ]
  },
  {
   "cell_type": "code",
   "execution_count": 20,
   "id": "9a0f31a3-8b4d-4a3f-a84f-3ec18208ad31",
   "metadata": {},
   "outputs": [
    {
     "data": {
      "text/plain": [
       "765"
      ]
     },
     "execution_count": 20,
     "metadata": {},
     "output_type": "execute_result"
    }
   ],
   "source": [
    "f.write(\"Data Science Masters course is highly curated and uniquely designed according to the latest industry standards. This program instills students the skills essential to knowledge discovery efforts to identify standard, novel, and truly differentiated solutions and decision-making, including skills in managing, querying, analyzing, visualizing, and extracting meaning from extremely large data sets. This trending program provides students with the statistical, mathematical and computational skills needed to meet the large-scale data science challenges of today's professional world. You will learn all the stack required to work in data science industry including cloud infrastructure and real-time industry projects. This course will be taught in Hindi language.\")"
   ]
  },
  {
   "cell_type": "code",
   "execution_count": 21,
   "id": "4352311f-ca21-4730-a2a2-0f3478256ee2",
   "metadata": {},
   "outputs": [],
   "source": [
    "f.close()"
   ]
  },
  {
   "cell_type": "code",
   "execution_count": 22,
   "id": "1c56c159-e379-4cad-9929-86b00a814e0a",
   "metadata": {},
   "outputs": [],
   "source": [
    "f=open(\"text.txt\",\"r\")"
   ]
  },
  {
   "cell_type": "code",
   "execution_count": 23,
   "id": "c2dd2a07-f4d1-4544-b47f-7e5a3c8c6fc3",
   "metadata": {},
   "outputs": [
    {
     "data": {
      "text/plain": [
       "\"Again i am writting this to check first data:Data Science Masters course is highly curated and uniquely designed according to the latest industry standards. This program instills students the skills essential to knowledge discovery efforts to identify standard, novel, and truly differentiated solutions and decision-making, including skills in managing, querying, analyzing, visualizing, and extracting meaning from extremely large data sets. This trending program provides students with the statistical, mathematical and computational skills needed to meet the large-scale data science challenges of today's professional world. You will learn all the stack required to work in data science industry including cloud infrastructure and real-time industry projects. This course will be taught in Hindi language.\""
      ]
     },
     "execution_count": 23,
     "metadata": {},
     "output_type": "execute_result"
    }
   ],
   "source": [
    "f.read()"
   ]
  },
  {
   "cell_type": "code",
   "execution_count": 24,
   "id": "d11d6746-c203-4417-9342-ebe77912eaaa",
   "metadata": {},
   "outputs": [],
   "source": [
    "data=open(\"text.txt\",\"r\")"
   ]
  },
  {
   "cell_type": "code",
   "execution_count": 25,
   "id": "74084847-1fcd-4ebf-a389-5b3ecb1f5ec3",
   "metadata": {},
   "outputs": [
    {
     "data": {
      "text/plain": [
       "\"Again i am writting this to check first data:Data Science Masters course is highly curated and uniquely designed according to the latest industry standards. This program instills students the skills essential to knowledge discovery efforts to identify standard, novel, and truly differentiated solutions and decision-making, including skills in managing, querying, analyzing, visualizing, and extracting meaning from extremely large data sets. This trending program provides students with the statistical, mathematical and computational skills needed to meet the large-scale data science challenges of today's professional world. You will learn all the stack required to work in data science industry including cloud infrastructure and real-time industry projects. This course will be taught in Hindi language.\""
      ]
     },
     "execution_count": 25,
     "metadata": {},
     "output_type": "execute_result"
    }
   ],
   "source": [
    "data.read()"
   ]
  },
  {
   "cell_type": "code",
   "execution_count": 26,
   "id": "09fab761-3e2d-4f72-8a7b-9982b9811a5f",
   "metadata": {},
   "outputs": [
    {
     "data": {
      "text/plain": [
       "''"
      ]
     },
     "execution_count": 26,
     "metadata": {},
     "output_type": "execute_result"
    }
   ],
   "source": [
    "data.readline() #its on last possition of para to avoid  this we have to use Seek(0) or any enstead 0"
   ]
  },
  {
   "cell_type": "code",
   "execution_count": 27,
   "id": "4cd3e77a-e302-48ab-b73a-f4aed6662af2",
   "metadata": {},
   "outputs": [
    {
     "data": {
      "text/plain": [
       "0"
      ]
     },
     "execution_count": 27,
     "metadata": {},
     "output_type": "execute_result"
    }
   ],
   "source": [
    "data.seek(0)"
   ]
  },
  {
   "cell_type": "code",
   "execution_count": 28,
   "id": "9e145702-2c3f-4503-a1c5-0cf6dd24a27c",
   "metadata": {},
   "outputs": [
    {
     "data": {
      "text/plain": [
       "\"Again i am writting this to check first data:Data Science Masters course is highly curated and uniquely designed according to the latest industry standards. This program instills students the skills essential to knowledge discovery efforts to identify standard, novel, and truly differentiated solutions and decision-making, including skills in managing, querying, analyzing, visualizing, and extracting meaning from extremely large data sets. This trending program provides students with the statistical, mathematical and computational skills needed to meet the large-scale data science challenges of today's professional world. You will learn all the stack required to work in data science industry including cloud infrastructure and real-time industry projects. This course will be taught in Hindi language.\""
      ]
     },
     "execution_count": 28,
     "metadata": {},
     "output_type": "execute_result"
    }
   ],
   "source": [
    "data.readline()"
   ]
  },
  {
   "cell_type": "code",
   "execution_count": 29,
   "id": "4debc196-67ca-4ce2-b6a4-9b4be0eec95c",
   "metadata": {},
   "outputs": [
    {
     "data": {
      "text/plain": [
       "''"
      ]
     },
     "execution_count": 29,
     "metadata": {},
     "output_type": "execute_result"
    }
   ],
   "source": [
    "data.readline()#now here we have to perform seek because again its on last possition of para"
   ]
  },
  {
   "cell_type": "code",
   "execution_count": 32,
   "id": "e9fe4d85-5741-416b-93b9-39101c6517dd",
   "metadata": {},
   "outputs": [
    {
     "data": {
      "text/plain": [
       "16"
      ]
     },
     "execution_count": 32,
     "metadata": {},
     "output_type": "execute_result"
    }
   ],
   "source": [
    "data.seek(16)\n"
   ]
  },
  {
   "cell_type": "code",
   "execution_count": 33,
   "id": "69313c54-7ba9-44cd-8ea9-df9eadb0deba",
   "metadata": {},
   "outputs": [
    {
     "data": {
      "text/plain": [
       "\"ing this to check first data:Data Science Masters course is highly curated and uniquely designed according to the latest industry standards. This program instills students the skills essential to knowledge discovery efforts to identify standard, novel, and truly differentiated solutions and decision-making, including skills in managing, querying, analyzing, visualizing, and extracting meaning from extremely large data sets. This trending program provides students with the statistical, mathematical and computational skills needed to meet the large-scale data science challenges of today's professional world. You will learn all the stack required to work in data science industry including cloud infrastructure and real-time industry projects. This course will be taught in Hindi language.\""
      ]
     },
     "execution_count": 33,
     "metadata": {},
     "output_type": "execute_result"
    }
   ],
   "source": [
    "data.readline()"
   ]
  },
  {
   "cell_type": "code",
   "execution_count": 34,
   "id": "3c478193-a06c-4776-a272-2a9a6fd9f11e",
   "metadata": {},
   "outputs": [],
   "source": [
    "data1=open(\"text.txt\",\"r\")"
   ]
  },
  {
   "cell_type": "code",
   "execution_count": 35,
   "id": "4b52895d-4c3a-4dbf-aed1-fedf0a1f9a76",
   "metadata": {},
   "outputs": [
    {
     "name": "stdout",
     "output_type": "stream",
     "text": [
      "Again i am writting this to check first data:Data Science Masters course is highly curated and uniquely designed according to the latest industry standards. This program instills students the skills essential to knowledge discovery efforts to identify standard, novel, and truly differentiated solutions and decision-making, including skills in managing, querying, analyzing, visualizing, and extracting meaning from extremely large data sets. This trending program provides students with the statistical, mathematical and computational skills needed to meet the large-scale data science challenges of today's professional world. You will learn all the stack required to work in data science industry including cloud infrastructure and real-time industry projects. This course will be taught in Hindi language.\n"
     ]
    }
   ],
   "source": [
    "for i in data1:\n",
    "    print(i)"
   ]
  },
  {
   "cell_type": "code",
   "execution_count": 39,
   "id": "d79d8c6a-1c30-4616-a619-aa0407aaafd2",
   "metadata": {},
   "outputs": [],
   "source": [
    "import os  #importing os\n"
   ]
  },
  {
   "cell_type": "code",
   "execution_count": 40,
   "id": "8b02a043-d034-4843-8e1a-2170a78883f2",
   "metadata": {},
   "outputs": [
    {
     "ename": "FileNotFoundError",
     "evalue": "[Errno 2] No such file or directory: 'text.txt'",
     "output_type": "error",
     "traceback": [
      "\u001b[0;31m---------------------------------------------------------------------------\u001b[0m",
      "\u001b[0;31mFileNotFoundError\u001b[0m                         Traceback (most recent call last)",
      "Cell \u001b[0;32mIn[40], line 1\u001b[0m\n\u001b[0;32m----> 1\u001b[0m \u001b[43mos\u001b[49m\u001b[38;5;241;43m.\u001b[39;49m\u001b[43mpath\u001b[49m\u001b[38;5;241;43m.\u001b[39;49m\u001b[43mgetsize\u001b[49m\u001b[43m(\u001b[49m\u001b[38;5;124;43m\"\u001b[39;49m\u001b[38;5;124;43mtext.txt\u001b[39;49m\u001b[38;5;124;43m\"\u001b[39;49m\u001b[43m)\u001b[49m\n",
      "File \u001b[0;32m/opt/conda/lib/python3.10/genericpath.py:50\u001b[0m, in \u001b[0;36mgetsize\u001b[0;34m(filename)\u001b[0m\n\u001b[1;32m     48\u001b[0m \u001b[38;5;28;01mdef\u001b[39;00m \u001b[38;5;21mgetsize\u001b[39m(filename):\n\u001b[1;32m     49\u001b[0m     \u001b[38;5;124;03m\"\"\"Return the size of a file, reported by os.stat().\"\"\"\u001b[39;00m\n\u001b[0;32m---> 50\u001b[0m     \u001b[38;5;28;01mreturn\u001b[39;00m \u001b[43mos\u001b[49m\u001b[38;5;241;43m.\u001b[39;49m\u001b[43mstat\u001b[49m\u001b[43m(\u001b[49m\u001b[43mfilename\u001b[49m\u001b[43m)\u001b[49m\u001b[38;5;241m.\u001b[39mst_size\n",
      "\u001b[0;31mFileNotFoundError\u001b[0m: [Errno 2] No such file or directory: 'text.txt'"
     ]
    }
   ],
   "source": [
    "os.path.getsize(\"text.txt\")"
   ]
  },
  {
   "cell_type": "code",
   "execution_count": 41,
   "id": "398d16e2-c6fd-4029-8bf3-c97cb6b61d7d",
   "metadata": {},
   "outputs": [
    {
     "ename": "FileNotFoundError",
     "evalue": "[Errno 2] No such file or directory: 'text.txt'",
     "output_type": "error",
     "traceback": [
      "\u001b[0;31m---------------------------------------------------------------------------\u001b[0m",
      "\u001b[0;31mFileNotFoundError\u001b[0m                         Traceback (most recent call last)",
      "Cell \u001b[0;32mIn[41], line 1\u001b[0m\n\u001b[0;32m----> 1\u001b[0m \u001b[43mos\u001b[49m\u001b[38;5;241;43m.\u001b[39;49m\u001b[43mremove\u001b[49m\u001b[43m(\u001b[49m\u001b[38;5;124;43m\"\u001b[39;49m\u001b[38;5;124;43mtext.txt\u001b[39;49m\u001b[38;5;124;43m\"\u001b[39;49m\u001b[43m)\u001b[49m\u001b[38;5;66;03m#deleted successfully \u001b[39;00m\n",
      "\u001b[0;31mFileNotFoundError\u001b[0m: [Errno 2] No such file or directory: 'text.txt'"
     ]
    }
   ],
   "source": [
    "os.remove(\"text.txt\")#deleted successfully "
   ]
  },
  {
   "cell_type": "code",
   "execution_count": 43,
   "id": "787208e4-bf95-486b-8323-017c78c16cae",
   "metadata": {},
   "outputs": [],
   "source": [
    "f=open(\"test.txt\",\"w\")"
   ]
  },
  {
   "cell_type": "code",
   "execution_count": 44,
   "id": "7c61468f-6c78-4a3d-9752-ca3be5223f8c",
   "metadata": {},
   "outputs": [
    {
     "data": {
      "text/plain": [
       "506"
      ]
     },
     "execution_count": 44,
     "metadata": {},
     "output_type": "execute_result"
    }
   ],
   "source": [
    "f.write(\"and decision-making, including skills in managing, querying, analyzing, visualizing, and extracting meaning from extremely large data sets. This trending program provides students with the statistical, mathematical and computational skills needed to meet the large-scale data science challenges of today's professional world. You will learn all the stack required to work in data science industry including cloud infrastructure and real-time industry projects. This course will be taught in Hindi language.\")"
   ]
  },
  {
   "cell_type": "code",
   "execution_count": 45,
   "id": "17fd3f74-599b-4d43-af1a-7b25c017cbb1",
   "metadata": {},
   "outputs": [],
   "source": [
    "f.close()"
   ]
  },
  {
   "cell_type": "code",
   "execution_count": 46,
   "id": "fa17489c-a704-4bd6-a3cf-c041e6d63509",
   "metadata": {},
   "outputs": [],
   "source": [
    "f=open(\"test.txt\",\"r\")"
   ]
  },
  {
   "cell_type": "code",
   "execution_count": 47,
   "id": "28e01a6a-1a0f-4351-9adf-b075d7a8820c",
   "metadata": {},
   "outputs": [
    {
     "data": {
      "text/plain": [
       "\"and decision-making, including skills in managing, querying, analyzing, visualizing, and extracting meaning from extremely large data sets. This trending program provides students with the statistical, mathematical and computational skills needed to meet the large-scale data science challenges of today's professional world. You will learn all the stack required to work in data science industry including cloud infrastructure and real-time industry projects. This course will be taught in Hindi language.\""
      ]
     },
     "execution_count": 47,
     "metadata": {},
     "output_type": "execute_result"
    }
   ],
   "source": [
    "f.read()"
   ]
  },
  {
   "cell_type": "code",
   "execution_count": 49,
   "id": "fccef593-e605-4051-ad70-b2f222db2975",
   "metadata": {},
   "outputs": [],
   "source": [
    "#rename the new file with old name \n",
    "os.rename(\"test.txt\",\"New.txt\")"
   ]
  },
  {
   "cell_type": "code",
   "execution_count": 50,
   "id": "cdd36ce0-742b-4e05-9387-becae44b48d8",
   "metadata": {},
   "outputs": [],
   "source": [
    "import shutil"
   ]
  },
  {
   "cell_type": "code",
   "execution_count": 52,
   "id": "caf8620d-42f0-49d3-932f-3db3c14bfd78",
   "metadata": {},
   "outputs": [
    {
     "data": {
      "text/plain": [
       "'new1.txt'"
      ]
     },
     "execution_count": 52,
     "metadata": {},
     "output_type": "execute_result"
    }
   ],
   "source": [
    "shutil.copy(\"New.txt\",\"new1.txt\")"
   ]
  },
  {
   "cell_type": "code",
   "execution_count": 54,
   "id": "8e8c0f33-72a6-41d2-9c65-83b2c99ffc30",
   "metadata": {},
   "outputs": [
    {
     "name": "stdout",
     "output_type": "stream",
     "text": [
      "and decision-making, including skills in managing, querying, analyzing, visualizing, and extracting meaning from extremely large data sets. This trending program provides students with the statistical, mathematical and computational skills needed to meet the large-scale data science challenges of today's professional world. You will learn all the stack required to work in data science industry including cloud infrastructure and real-time industry projects. This course will be taught in Hindi language.\n"
     ]
    }
   ],
   "source": [
    "with open(\"New.txt\",\"r\") as f:\n",
    "    print(f.read())"
   ]
  },
  {
   "cell_type": "code",
   "execution_count": 63,
   "id": "e3a9965e-5df4-4033-9005-db7084fdedcd",
   "metadata": {},
   "outputs": [],
   "source": [
    "#Reading And Writing Files v2\n",
    "data={\n",
    "    \"name\":\"sachin\",\n",
    "    \"email\":\"abc@gmail.com\",\n",
    "    \"mobile_no\":\"01234567\",\n",
    "    \"subject\":[\"data science\",\"big data\",\"data analyst\"]\n",
    "}\n",
    "\n"
   ]
  },
  {
   "cell_type": "code",
   "execution_count": 66,
   "id": "7bd5c0cd-1d59-458c-8d2d-4b5d7748d8ac",
   "metadata": {},
   "outputs": [],
   "source": [
    "import json\n",
    "with open(\"data.json\",\"w\") as f:\n",
    "    json.dump(data, f)"
   ]
  },
  {
   "cell_type": "code",
   "execution_count": 67,
   "id": "7bcda255-715d-4471-add8-cf849d00ad0a",
   "metadata": {},
   "outputs": [],
   "source": [
    "with open(\"data.json\",\"r\") as f:\n",
    "    data1=json.load(f)"
   ]
  },
  {
   "cell_type": "code",
   "execution_count": 68,
   "id": "e471df08-e663-44cd-a1fd-82783b61c25b",
   "metadata": {},
   "outputs": [
    {
     "data": {
      "text/plain": [
       "{'name': 'sachin',\n",
       " 'email': 'abc@gmail.com',\n",
       " 'mobile_no': '01234567',\n",
       " 'subject': ['data science', 'big data', 'data analyst']}"
      ]
     },
     "execution_count": 68,
     "metadata": {},
     "output_type": "execute_result"
    }
   ],
   "source": [
    "data1"
   ]
  },
  {
   "cell_type": "code",
   "execution_count": 69,
   "id": "e39da397-4c54-48bd-9e73-184a97bb90e3",
   "metadata": {},
   "outputs": [
    {
     "data": {
      "text/plain": [
       "['data science', 'big data', 'data analyst']"
      ]
     },
     "execution_count": 69,
     "metadata": {},
     "output_type": "execute_result"
    }
   ],
   "source": [
    "data1['subject']"
   ]
  },
  {
   "cell_type": "code",
   "execution_count": 70,
   "id": "5a65edba-3da9-4e6e-aa6c-5cf9e350d2b2",
   "metadata": {},
   "outputs": [
    {
     "data": {
      "text/plain": [
       "'sachin'"
      ]
     },
     "execution_count": 70,
     "metadata": {},
     "output_type": "execute_result"
    }
   ],
   "source": [
    "data1[\"name\"]"
   ]
  },
  {
   "cell_type": "code",
   "execution_count": 76,
   "id": "ab20b559-2bb1-4f75-ad50-0cb97d5dd614",
   "metadata": {},
   "outputs": [
    {
     "data": {
      "text/plain": [
       "'data science'"
      ]
     },
     "execution_count": 76,
     "metadata": {},
     "output_type": "execute_result"
    }
   ],
   "source": [
    "data1['subject'][0]\n"
   ]
  },
  {
   "cell_type": "code",
   "execution_count": 77,
   "id": "bdfa6603-f17a-45c4-be7c-fcc0724e34cc",
   "metadata": {},
   "outputs": [
    {
     "data": {
      "text/plain": [
       "'big data'"
      ]
     },
     "execution_count": 77,
     "metadata": {},
     "output_type": "execute_result"
    }
   ],
   "source": [
    "data1['subject'][1]\n"
   ]
  },
  {
   "cell_type": "code",
   "execution_count": 78,
   "id": "6e333650-16bf-44ee-847a-d5909f5df159",
   "metadata": {},
   "outputs": [
    {
     "data": {
      "text/plain": [
       "'data analyst'"
      ]
     },
     "execution_count": 78,
     "metadata": {},
     "output_type": "execute_result"
    }
   ],
   "source": [
    "data1['subject'][2]"
   ]
  },
  {
   "cell_type": "code",
   "execution_count": 79,
   "id": "660f9fa4-635c-411d-a3fc-2826cdf8a1d2",
   "metadata": {},
   "outputs": [],
   "source": [
    "#working with CSV \n",
    "import csv"
   ]
  },
  {
   "cell_type": "code",
   "execution_count": 80,
   "id": "20163901-795f-43a9-ac16-1176c82cf6f1",
   "metadata": {},
   "outputs": [],
   "source": [
    "data2=[['name','email_id','Phon_no'],\n",
    "       ['sach','sach@gmail.com','09382848'],\n",
    "       ['Aksh','aksh@gmail.com','8122346708']\n",
    "      ]"
   ]
  },
  {
   "cell_type": "code",
   "execution_count": 82,
   "id": "0cdbd541-5368-4c16-89e9-289d2f69dae4",
   "metadata": {},
   "outputs": [],
   "source": [
    "with open('data2.csv','w') as f:\n",
    "    writer=csv.writer(f)\n",
    "    for i in data2:\n",
    "        writer.writerow(i)"
   ]
  },
  {
   "cell_type": "code",
   "execution_count": 84,
   "id": "d475254b-7c9a-454a-b6f1-90150cb4dc08",
   "metadata": {},
   "outputs": [
    {
     "name": "stdout",
     "output_type": "stream",
     "text": [
      "['name', 'email_id', 'Phon_no']\n",
      "['sach', 'sach@gmail.com', '09382848']\n",
      "['Aksh', 'aksh@gmail.com', '8122346708']\n"
     ]
    }
   ],
   "source": [
    "with open('data2.csv','r') as f:\n",
    "    read_data=csv.reader(f)\n",
    "    \n",
    "    for i in read_data:\n",
    "        print(i)"
   ]
  },
  {
   "cell_type": "code",
   "execution_count": 88,
   "id": "3f029907-292f-4d12-b46d-21ad8a946d8f",
   "metadata": {},
   "outputs": [],
   "source": [
    "#working wit binery data\n",
    "with open(\"test4.bin\",\"wb\") as f:\n",
    "    f.write(b\"\\x01\\x02\\x03123456765\")"
   ]
  },
  {
   "cell_type": "code",
   "execution_count": 90,
   "id": "3092713e-79a2-4533-a69a-879dc2b75cb8",
   "metadata": {},
   "outputs": [
    {
     "name": "stdout",
     "output_type": "stream",
     "text": [
      "b'\\x01\\x02\\x03123456765'\n"
     ]
    }
   ],
   "source": [
    "with open(\"test4.bin\",\"rb\") as f:\n",
    "    print(f.read())"
   ]
  },
  {
   "cell_type": "code",
   "execution_count": 91,
   "id": "8147ab6b-9973-4b37-af20-30571c0cb5c6",
   "metadata": {},
   "outputs": [],
   "source": [
    "# Buffered Read And Write Other File Methods\n",
    "import io"
   ]
  },
  {
   "cell_type": "code",
   "execution_count": 111,
   "id": "34a6b790-3d9e-421a-9baf-ce5b4a76f5e1",
   "metadata": {},
   "outputs": [],
   "source": [
    "with open(\"test5.txt\",\"wb\") as f:\n",
    "    file = io.BufferedWriter(f)\n",
    "    file.write(b\"Data Science Masters course is highly curated and uniquely designed according to the latest industry standards. This program instills students the skills essential to knowledge discovery efforts to identify standard, novel, and truly differentiated solutions and decision-making, including skills in managing, querying, analyzing, visualizing, and extracting meaning from extremely large data sets. This trending program provides students with the statistical, mathematical and computational sk\\n\")\n",
    "    file.write(b\"saksh\\n\")\n",
    "    file.write(b\"Aksh\")\n",
    "    file.flush()\n"
   ]
  },
  {
   "cell_type": "code",
   "execution_count": 114,
   "id": "e7e19caf-efcc-4f84-9695-52e693bd943e",
   "metadata": {},
   "outputs": [
    {
     "name": "stdout",
     "output_type": "stream",
     "text": [
      "b'Data Science Masters course is highly curated and uniquely designed according to the latest industry standards. This program instills students the skills essential to knowledge discovery efforts to identify standard, novel, and truly differentiated solutions and decision-making, including skills in managing, querying, analyzing, visualizing, and extracting meaning from extremely large data sets. This trending program provides students with the statistical, mathematical and computational sk\\nsaksh\\nAksh'\n"
     ]
    }
   ],
   "source": [
    "with open(\"test5.txt\",\"rb\") as f:\n",
    "    \n",
    "    file = io.BufferedReader(f)\n",
    "    data=file.read(1000)\n",
    "    print(data)"
   ]
  },
  {
   "cell_type": "code",
   "execution_count": null,
   "id": "0fe3a792-564f-4231-b680-85c935b705fd",
   "metadata": {},
   "outputs": [],
   "source": []
  }
 ],
 "metadata": {
  "kernelspec": {
   "display_name": "Python 3 (ipykernel)",
   "language": "python",
   "name": "python3"
  },
  "language_info": {
   "codemirror_mode": {
    "name": "ipython",
    "version": 3
   },
   "file_extension": ".py",
   "mimetype": "text/x-python",
   "name": "python",
   "nbconvert_exporter": "python",
   "pygments_lexer": "ipython3",
   "version": "3.10.8"
  }
 },
 "nbformat": 4,
 "nbformat_minor": 5
}
