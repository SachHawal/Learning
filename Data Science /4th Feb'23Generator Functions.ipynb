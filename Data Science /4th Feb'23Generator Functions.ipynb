{
 "cells": [
  {
   "cell_type": "code",
   "execution_count": null,
   "id": "3352f021-15d8-4862-842e-569b2f57b8d4",
   "metadata": {},
   "outputs": [],
   "source": [
    "#Generator Functions means "
   ]
  },
  {
   "cell_type": "code",
   "execution_count": null,
   "id": "83692e69-b1eb-4723-8c08-b83a311bdf94",
   "metadata": {},
   "outputs": [],
   "source": []
  }
 ],
 "metadata": {
  "kernelspec": {
   "display_name": "Python 3 (ipykernel)",
   "language": "python",
   "name": "python3"
  },
  "language_info": {
   "codemirror_mode": {
    "name": "ipython",
    "version": 3
   },
   "file_extension": ".py",
   "mimetype": "text/x-python",
   "name": "python",
   "nbconvert_exporter": "python",
   "pygments_lexer": "ipython3",
   "version": "3.10.8"
  }
 },
 "nbformat": 4,
 "nbformat_minor": 5
}
