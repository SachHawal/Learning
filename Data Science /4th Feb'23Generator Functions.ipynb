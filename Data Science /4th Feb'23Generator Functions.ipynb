{
 "cells": [
  {
   "cell_type": "code",
   "execution_count": null,
   "id": "3352f021-15d8-4862-842e-569b2f57b8d4",
   "metadata": {},
   "outputs": [],
   "source": [
    "#Generator Functions means "
   ]
  },
  {
   "cell_type": "code",
   "execution_count": 7,
   "id": "83692e69-b1eb-4723-8c08-b83a311bdf94",
   "metadata": {},
   "outputs": [],
   "source": [
    "def generate():\n",
    "    for i in range(10):\n",
    "        yield i\n",
    "        "
   ]
  },
  {
   "cell_type": "code",
   "execution_count": 8,
   "id": "d3f3784e-bffb-44ce-a17a-6d1b67d2bb3f",
   "metadata": {},
   "outputs": [
    {
     "name": "stdout",
     "output_type": "stream",
     "text": [
      "<generator object generate at 0x7f47cf5b2e30>\n"
     ]
    }
   ],
   "source": [
    "g=generate()\n",
    "print(g)"
   ]
  },
  {
   "cell_type": "code",
   "execution_count": 9,
   "id": "f01633f7-de36-4b4f-9f1a-61dfeb850c32",
   "metadata": {},
   "outputs": [
    {
     "data": {
      "text/plain": [
       "45"
      ]
     },
     "execution_count": 9,
     "metadata": {},
     "output_type": "execute_result"
    }
   ],
   "source": [
    "sum(g)"
   ]
  },
  {
   "cell_type": "code",
   "execution_count": null,
   "id": "529aae20-408a-4ace-bdf0-15e1da4fcf35",
   "metadata": {},
   "outputs": [],
   "source": []
  },
  {
   "cell_type": "code",
   "execution_count": null,
   "id": "e4e44a34-3f5a-43ed-961d-2d947f5655c4",
   "metadata": {},
   "outputs": [],
   "source": []
  }
 ],
 "metadata": {
  "kernelspec": {
   "display_name": "Python 3 (ipykernel)",
   "language": "python",
   "name": "python3"
  },
  "language_info": {
   "codemirror_mode": {
    "name": "ipython",
    "version": 3
   },
   "file_extension": ".py",
   "mimetype": "text/x-python",
   "name": "python",
   "nbconvert_exporter": "python",
   "pygments_lexer": "ipython3",
   "version": "3.10.8"
  }
 },
 "nbformat": 4,
 "nbformat_minor": 5
}
